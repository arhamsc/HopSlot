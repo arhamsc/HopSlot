{
 "cells": [
  {
   "cell_type": "markdown",
   "source": [
    "# HopSlot - Deep Learning Model"
   ],
   "metadata": {
    "collapsed": false
   },
   "id": "496840c0ef019f3e"
  },
  {
   "cell_type": "markdown",
   "source": [
    "## Import modules and dataset "
   ],
   "metadata": {
    "collapsed": false
   },
   "id": "feddbf428e0fb579"
  },
  {
   "cell_type": "code",
   "outputs": [],
   "source": [
    "import pandas as pd\n",
    "import numpy as np\n",
    "import matplotlib.pyplot as plt\n",
    "import torch\n",
    "import torch.nn as nn\n",
    "import torch.optim as optim"
   ],
   "metadata": {
    "collapsed": false,
    "ExecuteTime": {
     "end_time": "2024-03-22T05:51:53.932703Z",
     "start_time": "2024-03-22T05:51:51.130174Z"
    }
   },
   "id": "4b66b2d8fb58220c",
   "execution_count": 1
  },
  {
   "cell_type": "code",
   "outputs": [],
   "source": [
    "disease_df = pd.read_csv(\"./datasets/diseases_dataset.csv\")\n",
    "patient_df = pd.read_csv(\"./datasets/patient_data.csv\")"
   ],
   "metadata": {
    "collapsed": false,
    "ExecuteTime": {
     "end_time": "2024-03-22T05:51:53.939506Z",
     "start_time": "2024-03-22T05:51:53.933676Z"
    }
   },
   "id": "74406c7333b32019",
   "execution_count": 2
  },
  {
   "cell_type": "markdown",
   "source": [
    "## Define Paths"
   ],
   "metadata": {
    "collapsed": false
   },
   "id": "2fb798c4251fd5d8"
  },
  {
   "cell_type": "code",
   "outputs": [],
   "source": [
    "from pathlib import Path\n",
    "\n",
    "BASE_PATH_ML = Path('./models/disease_ml')\n",
    "BASE_PATH_ML.mkdir(parents=True, exist_ok=True)\n",
    "\n",
    "VECTORIZED_MODEL_PATH = BASE_PATH_ML / 'symptoms_vectorizer.pkl'\n",
    "MODEL_SAVE_PATH = BASE_PATH_ML / 'diseases_rfc_model.pkl'\n",
    "\n",
    "BASE_PATH_DL = Path('./models/appointment_dl')\n",
    "BASE_PATH_DL.mkdir(parents=True, exist_ok=True)\n",
    "\n",
    "MODEL_SAVE_PATH_DL = BASE_PATH_DL / 'appointment_model.pth'"
   ],
   "metadata": {
    "collapsed": false,
    "ExecuteTime": {
     "end_time": "2024-03-22T05:51:53.942137Z",
     "start_time": "2024-03-22T05:51:53.940023Z"
    }
   },
   "id": "130c0c8decb4d9e7",
   "execution_count": 3
  },
  {
   "cell_type": "code",
   "outputs": [],
   "source": [
    "BASE_DATASET_PATH = Path('./datasets/synt')\n",
    "BASE_DATASET_PATH.mkdir(parents=True, exist_ok=True)\n",
    "\n",
    "DOCTOR_DATASET_PATH = BASE_DATASET_PATH / 'doctor_availability.csv'\n",
    "PATIENT_DATASET_PATH = BASE_DATASET_PATH / 'patient_data.csv'"
   ],
   "metadata": {
    "collapsed": false,
    "ExecuteTime": {
     "end_time": "2024-03-22T05:51:53.944555Z",
     "start_time": "2024-03-22T05:51:53.942857Z"
    }
   },
   "id": "50d4c29a1dbbd77",
   "execution_count": 4
  },
  {
   "cell_type": "code",
   "outputs": [],
   "source": [
    "import dill\n",
    "\n",
    "# Load the vectorizer\n",
    "with open(VECTORIZED_MODEL_PATH, 'rb') as f:\n",
    "    loaded_vectorizer = dill.load(f)\n",
    "\n",
    "# Load the model\n",
    "with open(MODEL_SAVE_PATH, 'rb') as f:\n",
    "    loaded_model = dill.load(f)"
   ],
   "metadata": {
    "collapsed": false,
    "ExecuteTime": {
     "end_time": "2024-03-22T05:51:54.279376Z",
     "start_time": "2024-03-22T05:51:53.945773Z"
    }
   },
   "id": "4702e935555cf412",
   "execution_count": 5
  },
  {
   "cell_type": "code",
   "outputs": [
    {
     "name": "stdout",
     "output_type": "stream",
     "text": [
      "['measles']\n"
     ]
    }
   ],
   "source": [
    "sample_symptoms = loaded_vectorizer.transform([['fever', 'sore throat', 'cough']])\n",
    "\n",
    "sample_pred = loaded_model.predict(sample_symptoms)\n",
    "\n",
    "print(sample_pred)"
   ],
   "metadata": {
    "collapsed": false,
    "ExecuteTime": {
     "end_time": "2024-03-22T05:51:54.287388Z",
     "start_time": "2024-03-22T05:51:54.280147Z"
    }
   },
   "id": "b8b96342f04ea865",
   "execution_count": 6
  },
  {
   "cell_type": "code",
   "outputs": [
    {
     "data": {
      "text/plain": "                                   doc_id        date time_start  time_end  \\\n0    d0611be3-30af-46f7-8dad-09cdee7a8d02  2024-02-07    9:00:00  11:00:00   \n1    7d9bdfee-82bd-465d-92f2-fa7517784bac  2024-01-22    9:00:00  11:00:00   \n2    b1077fe8-00dd-4f18-8cd2-5136ebb244d4  2024-01-30    9:00:00  11:00:00   \n3    0f5c3f46-c657-42eb-a85f-d9d588587d46  2024-02-05   18:00:00  20:00:00   \n4    cfdd52b1-09e6-426a-a289-5ea02ad7c2fd  2024-03-18    9:00:00  11:00:00   \n..                                    ...         ...        ...       ...   \n995  f8629e26-8080-4971-bc75-97066dc07a72  2024-03-13    9:00:00  11:00:00   \n996  6579926b-3b36-4f73-89af-abac9ed6d060  2024-02-18   20:00:00  23:00:00   \n997  87188e10-5bd7-4395-9c66-985972e8d5a4  2024-03-17   20:00:00  23:00:00   \n998  b01e299f-e0a4-4e5c-a479-a56316fca581  2024-02-22   18:00:00  20:00:00   \n999  511048f6-31eb-4ba6-85cd-db54ed37f4de  2024-03-28   20:00:00  23:00:00   \n\n    time_slot_start time_slot_end  time_slot_duration  appointments_count  \\\n0           9:00:00       9:15:00                  15                   4   \n1           9:15:00       9:30:00                  15                   4   \n2           9:00:00       9:15:00                  15                   4   \n3          18:45:00      19:00:00                  15                   4   \n4           9:00:00       9:15:00                  15                   4   \n..              ...           ...                 ...                 ...   \n995         9:00:00       9:15:00                  15                   4   \n996        20:00:00      20:15:00                  15                   6   \n997        20:30:00      20:45:00                  15                   6   \n998        18:15:00      18:30:00                  15                   4   \n999        20:15:00      20:30:00                  15                   6   \n\n     overtime_delay      event_type     event_time_stamp  \\\n0                 6             NaN                  NaN   \n1                 9             NaN                  NaN   \n2                13             NaN                  NaN   \n3                 4             NaN                  NaN   \n4                13  cannot make it  2024-03-18 00:00:00   \n..              ...             ...                  ...   \n995              10             NaN                  NaN   \n996               8  cannot make it  2024-01-14 00:00:00   \n997               7             NaN                  NaN   \n998               5             NaN                  NaN   \n999              11             NaN                  NaN   \n\n     delay_caused_due_to_event  \n0                          NaN  \n1                          NaN  \n2                          NaN  \n3                          NaN  \n4                          4.0  \n..                         ...  \n995                        NaN  \n996                        6.0  \n997                        NaN  \n998                        NaN  \n999                        NaN  \n\n[1000 rows x 12 columns]",
      "text/html": "<div>\n<style scoped>\n    .dataframe tbody tr th:only-of-type {\n        vertical-align: middle;\n    }\n\n    .dataframe tbody tr th {\n        vertical-align: top;\n    }\n\n    .dataframe thead th {\n        text-align: right;\n    }\n</style>\n<table border=\"1\" class=\"dataframe\">\n  <thead>\n    <tr style=\"text-align: right;\">\n      <th></th>\n      <th>doc_id</th>\n      <th>date</th>\n      <th>time_start</th>\n      <th>time_end</th>\n      <th>time_slot_start</th>\n      <th>time_slot_end</th>\n      <th>time_slot_duration</th>\n      <th>appointments_count</th>\n      <th>overtime_delay</th>\n      <th>event_type</th>\n      <th>event_time_stamp</th>\n      <th>delay_caused_due_to_event</th>\n    </tr>\n  </thead>\n  <tbody>\n    <tr>\n      <th>0</th>\n      <td>d0611be3-30af-46f7-8dad-09cdee7a8d02</td>\n      <td>2024-02-07</td>\n      <td>9:00:00</td>\n      <td>11:00:00</td>\n      <td>9:00:00</td>\n      <td>9:15:00</td>\n      <td>15</td>\n      <td>4</td>\n      <td>6</td>\n      <td>NaN</td>\n      <td>NaN</td>\n      <td>NaN</td>\n    </tr>\n    <tr>\n      <th>1</th>\n      <td>7d9bdfee-82bd-465d-92f2-fa7517784bac</td>\n      <td>2024-01-22</td>\n      <td>9:00:00</td>\n      <td>11:00:00</td>\n      <td>9:15:00</td>\n      <td>9:30:00</td>\n      <td>15</td>\n      <td>4</td>\n      <td>9</td>\n      <td>NaN</td>\n      <td>NaN</td>\n      <td>NaN</td>\n    </tr>\n    <tr>\n      <th>2</th>\n      <td>b1077fe8-00dd-4f18-8cd2-5136ebb244d4</td>\n      <td>2024-01-30</td>\n      <td>9:00:00</td>\n      <td>11:00:00</td>\n      <td>9:00:00</td>\n      <td>9:15:00</td>\n      <td>15</td>\n      <td>4</td>\n      <td>13</td>\n      <td>NaN</td>\n      <td>NaN</td>\n      <td>NaN</td>\n    </tr>\n    <tr>\n      <th>3</th>\n      <td>0f5c3f46-c657-42eb-a85f-d9d588587d46</td>\n      <td>2024-02-05</td>\n      <td>18:00:00</td>\n      <td>20:00:00</td>\n      <td>18:45:00</td>\n      <td>19:00:00</td>\n      <td>15</td>\n      <td>4</td>\n      <td>4</td>\n      <td>NaN</td>\n      <td>NaN</td>\n      <td>NaN</td>\n    </tr>\n    <tr>\n      <th>4</th>\n      <td>cfdd52b1-09e6-426a-a289-5ea02ad7c2fd</td>\n      <td>2024-03-18</td>\n      <td>9:00:00</td>\n      <td>11:00:00</td>\n      <td>9:00:00</td>\n      <td>9:15:00</td>\n      <td>15</td>\n      <td>4</td>\n      <td>13</td>\n      <td>cannot make it</td>\n      <td>2024-03-18 00:00:00</td>\n      <td>4.0</td>\n    </tr>\n    <tr>\n      <th>...</th>\n      <td>...</td>\n      <td>...</td>\n      <td>...</td>\n      <td>...</td>\n      <td>...</td>\n      <td>...</td>\n      <td>...</td>\n      <td>...</td>\n      <td>...</td>\n      <td>...</td>\n      <td>...</td>\n      <td>...</td>\n    </tr>\n    <tr>\n      <th>995</th>\n      <td>f8629e26-8080-4971-bc75-97066dc07a72</td>\n      <td>2024-03-13</td>\n      <td>9:00:00</td>\n      <td>11:00:00</td>\n      <td>9:00:00</td>\n      <td>9:15:00</td>\n      <td>15</td>\n      <td>4</td>\n      <td>10</td>\n      <td>NaN</td>\n      <td>NaN</td>\n      <td>NaN</td>\n    </tr>\n    <tr>\n      <th>996</th>\n      <td>6579926b-3b36-4f73-89af-abac9ed6d060</td>\n      <td>2024-02-18</td>\n      <td>20:00:00</td>\n      <td>23:00:00</td>\n      <td>20:00:00</td>\n      <td>20:15:00</td>\n      <td>15</td>\n      <td>6</td>\n      <td>8</td>\n      <td>cannot make it</td>\n      <td>2024-01-14 00:00:00</td>\n      <td>6.0</td>\n    </tr>\n    <tr>\n      <th>997</th>\n      <td>87188e10-5bd7-4395-9c66-985972e8d5a4</td>\n      <td>2024-03-17</td>\n      <td>20:00:00</td>\n      <td>23:00:00</td>\n      <td>20:30:00</td>\n      <td>20:45:00</td>\n      <td>15</td>\n      <td>6</td>\n      <td>7</td>\n      <td>NaN</td>\n      <td>NaN</td>\n      <td>NaN</td>\n    </tr>\n    <tr>\n      <th>998</th>\n      <td>b01e299f-e0a4-4e5c-a479-a56316fca581</td>\n      <td>2024-02-22</td>\n      <td>18:00:00</td>\n      <td>20:00:00</td>\n      <td>18:15:00</td>\n      <td>18:30:00</td>\n      <td>15</td>\n      <td>4</td>\n      <td>5</td>\n      <td>NaN</td>\n      <td>NaN</td>\n      <td>NaN</td>\n    </tr>\n    <tr>\n      <th>999</th>\n      <td>511048f6-31eb-4ba6-85cd-db54ed37f4de</td>\n      <td>2024-03-28</td>\n      <td>20:00:00</td>\n      <td>23:00:00</td>\n      <td>20:15:00</td>\n      <td>20:30:00</td>\n      <td>15</td>\n      <td>6</td>\n      <td>11</td>\n      <td>NaN</td>\n      <td>NaN</td>\n      <td>NaN</td>\n    </tr>\n  </tbody>\n</table>\n<p>1000 rows × 12 columns</p>\n</div>"
     },
     "execution_count": 7,
     "metadata": {},
     "output_type": "execute_result"
    }
   ],
   "source": [
    "doctor_df = pd.read_csv(DOCTOR_DATASET_PATH).drop(columns=['Unnamed: 0'])\n",
    "\n",
    "doctor_df"
   ],
   "metadata": {
    "collapsed": false,
    "ExecuteTime": {
     "end_time": "2024-03-22T05:51:54.297537Z",
     "start_time": "2024-03-22T05:51:54.287998Z"
    }
   },
   "id": "5a9c145f4e181844",
   "execution_count": 7
  },
  {
   "cell_type": "code",
   "outputs": [
    {
     "data": {
      "text/plain": "      Patient_Name Patient_ID  Age  \\\n0      Arjun Patel      P0001   45   \n1      Avani Kumar      P0002   48   \n2      Dhruv Gupta      P0003   65   \n3      Aditi Singh      P0004   68   \n4     Advik Sharma      P0005   68   \n..             ...        ...  ...   \n995    Aditi Singh      P0996    6   \n996    Advik Patel      P0997   39   \n997  Aarav Chauhan      P0998   39   \n998     Diya Reddy      P0999   66   \n999    Aarav Gupta      P1000   60   \n\n                                        Cause_of_Visit  No_of_Previous_Visits  \\\n0    ['change in bowel habits', 'raised', 'physical...                      4   \n1    ['pain in the lower right abdomen', 'runny nos...                      5   \n2    ['pain in the upper right abdomen', 'increased...                      0   \n3    ['pain in the lower back or side', 'itchy', 'f...                      3   \n4    ['condition that affects the lungs', 'raisedse...                      2   \n..                                                 ...                    ...   \n995  ['cough', 'damage to the kidneys that can lead...                      9   \n996  ['elevated body temperature ', 'hypothyroidism...                      3   \n997         ['pain', 'excessive worry', 'memory loss']                      8   \n998  ['difficulty gettingcondition in which the hea...                      2   \n999           ['swollen', 'abdominal pain', 'fatigue']                      4   \n\n    Cause_Matches_Previous_Visit Doctor_Availability Work_Shift_Time  \\\n0                             No           Available         Evening   \n1                             No         Unavailable         Evening   \n2                            Yes           Available         Evening   \n3                            Yes         Unavailable         Evening   \n4                             No         Unavailable       Afternoon   \n..                           ...                 ...             ...   \n995                          Yes         Unavailable         Morning   \n996                           No         Unavailable         Evening   \n997                          Yes           Available       Afternoon   \n998                           No         Unavailable       Afternoon   \n999                          Yes           Available       Afternoon   \n\n      Schedule_date_time  Delayed_by Severity_of_Ailment  \n0    2024-11-28T07:20:38           0              Severe  \n1    2024-04-25T16:54:40          10                Mild  \n2    2024-01-21T16:49:33           0              Severe  \n3    2024-06-08T06:27:27           0              Severe  \n4    2024-09-21T09:33:23           5            Moderate  \n..                   ...         ...                 ...  \n995  2024-03-04T22:27:33          15              Severe  \n996  2024-08-21T00:56:49           0              Severe  \n997  2024-02-03T19:54:02          15                Mild  \n998  2024-10-30T01:36:36           0              Severe  \n999  2024-10-03T23:25:41           0              Severe  \n\n[1000 rows x 11 columns]",
      "text/html": "<div>\n<style scoped>\n    .dataframe tbody tr th:only-of-type {\n        vertical-align: middle;\n    }\n\n    .dataframe tbody tr th {\n        vertical-align: top;\n    }\n\n    .dataframe thead th {\n        text-align: right;\n    }\n</style>\n<table border=\"1\" class=\"dataframe\">\n  <thead>\n    <tr style=\"text-align: right;\">\n      <th></th>\n      <th>Patient_Name</th>\n      <th>Patient_ID</th>\n      <th>Age</th>\n      <th>Cause_of_Visit</th>\n      <th>No_of_Previous_Visits</th>\n      <th>Cause_Matches_Previous_Visit</th>\n      <th>Doctor_Availability</th>\n      <th>Work_Shift_Time</th>\n      <th>Schedule_date_time</th>\n      <th>Delayed_by</th>\n      <th>Severity_of_Ailment</th>\n    </tr>\n  </thead>\n  <tbody>\n    <tr>\n      <th>0</th>\n      <td>Arjun Patel</td>\n      <td>P0001</td>\n      <td>45</td>\n      <td>['change in bowel habits', 'raised', 'physical...</td>\n      <td>4</td>\n      <td>No</td>\n      <td>Available</td>\n      <td>Evening</td>\n      <td>2024-11-28T07:20:38</td>\n      <td>0</td>\n      <td>Severe</td>\n    </tr>\n    <tr>\n      <th>1</th>\n      <td>Avani Kumar</td>\n      <td>P0002</td>\n      <td>48</td>\n      <td>['pain in the lower right abdomen', 'runny nos...</td>\n      <td>5</td>\n      <td>No</td>\n      <td>Unavailable</td>\n      <td>Evening</td>\n      <td>2024-04-25T16:54:40</td>\n      <td>10</td>\n      <td>Mild</td>\n    </tr>\n    <tr>\n      <th>2</th>\n      <td>Dhruv Gupta</td>\n      <td>P0003</td>\n      <td>65</td>\n      <td>['pain in the upper right abdomen', 'increased...</td>\n      <td>0</td>\n      <td>Yes</td>\n      <td>Available</td>\n      <td>Evening</td>\n      <td>2024-01-21T16:49:33</td>\n      <td>0</td>\n      <td>Severe</td>\n    </tr>\n    <tr>\n      <th>3</th>\n      <td>Aditi Singh</td>\n      <td>P0004</td>\n      <td>68</td>\n      <td>['pain in the lower back or side', 'itchy', 'f...</td>\n      <td>3</td>\n      <td>Yes</td>\n      <td>Unavailable</td>\n      <td>Evening</td>\n      <td>2024-06-08T06:27:27</td>\n      <td>0</td>\n      <td>Severe</td>\n    </tr>\n    <tr>\n      <th>4</th>\n      <td>Advik Sharma</td>\n      <td>P0005</td>\n      <td>68</td>\n      <td>['condition that affects the lungs', 'raisedse...</td>\n      <td>2</td>\n      <td>No</td>\n      <td>Unavailable</td>\n      <td>Afternoon</td>\n      <td>2024-09-21T09:33:23</td>\n      <td>5</td>\n      <td>Moderate</td>\n    </tr>\n    <tr>\n      <th>...</th>\n      <td>...</td>\n      <td>...</td>\n      <td>...</td>\n      <td>...</td>\n      <td>...</td>\n      <td>...</td>\n      <td>...</td>\n      <td>...</td>\n      <td>...</td>\n      <td>...</td>\n      <td>...</td>\n    </tr>\n    <tr>\n      <th>995</th>\n      <td>Aditi Singh</td>\n      <td>P0996</td>\n      <td>6</td>\n      <td>['cough', 'damage to the kidneys that can lead...</td>\n      <td>9</td>\n      <td>Yes</td>\n      <td>Unavailable</td>\n      <td>Morning</td>\n      <td>2024-03-04T22:27:33</td>\n      <td>15</td>\n      <td>Severe</td>\n    </tr>\n    <tr>\n      <th>996</th>\n      <td>Advik Patel</td>\n      <td>P0997</td>\n      <td>39</td>\n      <td>['elevated body temperature ', 'hypothyroidism...</td>\n      <td>3</td>\n      <td>No</td>\n      <td>Unavailable</td>\n      <td>Evening</td>\n      <td>2024-08-21T00:56:49</td>\n      <td>0</td>\n      <td>Severe</td>\n    </tr>\n    <tr>\n      <th>997</th>\n      <td>Aarav Chauhan</td>\n      <td>P0998</td>\n      <td>39</td>\n      <td>['pain', 'excessive worry', 'memory loss']</td>\n      <td>8</td>\n      <td>Yes</td>\n      <td>Available</td>\n      <td>Afternoon</td>\n      <td>2024-02-03T19:54:02</td>\n      <td>15</td>\n      <td>Mild</td>\n    </tr>\n    <tr>\n      <th>998</th>\n      <td>Diya Reddy</td>\n      <td>P0999</td>\n      <td>66</td>\n      <td>['difficulty gettingcondition in which the hea...</td>\n      <td>2</td>\n      <td>No</td>\n      <td>Unavailable</td>\n      <td>Afternoon</td>\n      <td>2024-10-30T01:36:36</td>\n      <td>0</td>\n      <td>Severe</td>\n    </tr>\n    <tr>\n      <th>999</th>\n      <td>Aarav Gupta</td>\n      <td>P1000</td>\n      <td>60</td>\n      <td>['swollen', 'abdominal pain', 'fatigue']</td>\n      <td>4</td>\n      <td>Yes</td>\n      <td>Available</td>\n      <td>Afternoon</td>\n      <td>2024-10-03T23:25:41</td>\n      <td>0</td>\n      <td>Severe</td>\n    </tr>\n  </tbody>\n</table>\n<p>1000 rows × 11 columns</p>\n</div>"
     },
     "execution_count": 8,
     "metadata": {},
     "output_type": "execute_result"
    }
   ],
   "source": [
    "patient_df = pd.read_csv(PATIENT_DATASET_PATH)\n",
    "\n",
    "patient_df"
   ],
   "metadata": {
    "collapsed": false,
    "ExecuteTime": {
     "end_time": "2024-03-22T05:51:54.305002Z",
     "start_time": "2024-03-22T05:51:54.298106Z"
    }
   },
   "id": "e67c40c40b6676bb",
   "execution_count": 8
  }
 ],
 "metadata": {
  "kernelspec": {
   "display_name": "Python 3",
   "language": "python",
   "name": "python3"
  },
  "language_info": {
   "codemirror_mode": {
    "name": "ipython",
    "version": 2
   },
   "file_extension": ".py",
   "mimetype": "text/x-python",
   "name": "python",
   "nbconvert_exporter": "python",
   "pygments_lexer": "ipython2",
   "version": "2.7.6"
  }
 },
 "nbformat": 4,
 "nbformat_minor": 5
}
