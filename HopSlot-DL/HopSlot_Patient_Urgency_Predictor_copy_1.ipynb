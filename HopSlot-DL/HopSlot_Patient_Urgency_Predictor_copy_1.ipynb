{
 "cells": [
  {
   "cell_type": "markdown",
   "source": [
    "# HopSlot - Patient Urgency/Severity Predictor"
   ],
   "metadata": {
    "collapsed": false
   },
   "id": "80aa15a1419761b2"
  },
  {
   "cell_type": "code",
   "execution_count": 1,
   "id": "initial_id",
   "metadata": {
    "collapsed": true,
    "ExecuteTime": {
     "end_time": "2024-03-22T02:50:54.196504Z",
     "start_time": "2024-03-22T02:50:53.605531Z"
    }
   },
   "outputs": [],
   "source": [
    "import pandas as pd\n",
    "import numpy as np\n",
    "import random\n",
    "from sklearn.preprocessing import LabelEncoder, StandardScaler\n",
    "from sklearn.model_selection import  train_test_split\n",
    "from sklearn.ensemble import RandomForestClassifier\n",
    "from sklearn.feature_extraction.text import TfidfVectorizer\n",
    "from sklearn.feature_extraction import DictVectorizer\n",
    "from sklearn.metrics import accuracy_score, precision_score, recall_score, f1_score\n",
    "from pathlib import Path\n",
    "from scipy.sparse import hstack"
   ]
  },
  {
   "cell_type": "code",
   "outputs": [],
   "source": [
    "BASE_DATASET_PATH = Path('./datasets/synt/patient_data.csv')"
   ],
   "metadata": {
    "collapsed": false,
    "ExecuteTime": {
     "end_time": "2024-03-22T02:50:54.199232Z",
     "start_time": "2024-03-22T02:50:54.197636Z"
    }
   },
   "id": "f23acb74aa4f029d",
   "execution_count": 2
  },
  {
   "cell_type": "code",
   "outputs": [
    {
     "data": {
      "text/plain": "      Patient_Name Patient_ID  Age  \\\n0      Arjun Patel      P0001   45   \n1      Avani Kumar      P0002   48   \n2      Dhruv Gupta      P0003   65   \n3      Aditi Singh      P0004   68   \n4     Advik Sharma      P0005   68   \n..             ...        ...  ...   \n995    Aditi Singh      P0996    6   \n996    Advik Patel      P0997   39   \n997  Aarav Chauhan      P0998   39   \n998     Diya Reddy      P0999   66   \n999    Aarav Gupta      P1000   60   \n\n                                        Cause_of_Visit  No_of_Previous_Visits  \\\n0    ['change in bowel habits' 'raised' 'physical d...                      4   \n1    ['pain in the lower right abdomen' 'runny nose...                      5   \n2    ['pain in the upper right abdomen' 'increased ...                      0   \n3    ['pain in the lower back or side' 'itchy' 'fat...                      3   \n4    ['condition that affects the lungs' 'raised'\\n...                      2   \n..                                                 ...                    ...   \n995  ['cough' 'damage to the kidneys that can lead ...                      9   \n996  ['elevated body temperature ' 'hypothyroidism'...                      3   \n997           ['pain' 'excessive worry' 'memory loss']                      8   \n998  ['difficulty getting'\\n 'condition in which th...                      2   \n999             ['swollen' 'abdominal pain' 'fatigue']                      4   \n\n    Cause_Matches_Previous_Visit Doctor_Availability Work_Shift_Time  \\\n0                             No           Available         Evening   \n1                             No         Unavailable         Evening   \n2                            Yes           Available         Evening   \n3                            Yes         Unavailable         Evening   \n4                             No         Unavailable       Afternoon   \n..                           ...                 ...             ...   \n995                          Yes         Unavailable         Morning   \n996                           No         Unavailable         Evening   \n997                          Yes           Available       Afternoon   \n998                           No         Unavailable       Afternoon   \n999                          Yes           Available       Afternoon   \n\n      Schedule_date_time  Delayed_by Severity_of_Ailment  \n0    2024-11-28T07:20:38           0              Severe  \n1    2024-04-25T16:54:40          10                Mild  \n2    2024-01-21T16:49:33           0              Severe  \n3    2024-06-08T06:27:27           0              Severe  \n4    2024-09-21T09:33:23           5            Moderate  \n..                   ...         ...                 ...  \n995  2024-03-04T22:27:33          15              Severe  \n996  2024-08-21T00:56:49           0              Severe  \n997  2024-02-03T19:54:02          15                Mild  \n998  2024-10-30T01:36:36           0              Severe  \n999  2024-10-03T23:25:41           0              Severe  \n\n[1000 rows x 11 columns]",
      "text/html": "<div>\n<style scoped>\n    .dataframe tbody tr th:only-of-type {\n        vertical-align: middle;\n    }\n\n    .dataframe tbody tr th {\n        vertical-align: top;\n    }\n\n    .dataframe thead th {\n        text-align: right;\n    }\n</style>\n<table border=\"1\" class=\"dataframe\">\n  <thead>\n    <tr style=\"text-align: right;\">\n      <th></th>\n      <th>Patient_Name</th>\n      <th>Patient_ID</th>\n      <th>Age</th>\n      <th>Cause_of_Visit</th>\n      <th>No_of_Previous_Visits</th>\n      <th>Cause_Matches_Previous_Visit</th>\n      <th>Doctor_Availability</th>\n      <th>Work_Shift_Time</th>\n      <th>Schedule_date_time</th>\n      <th>Delayed_by</th>\n      <th>Severity_of_Ailment</th>\n    </tr>\n  </thead>\n  <tbody>\n    <tr>\n      <th>0</th>\n      <td>Arjun Patel</td>\n      <td>P0001</td>\n      <td>45</td>\n      <td>['change in bowel habits' 'raised' 'physical d...</td>\n      <td>4</td>\n      <td>No</td>\n      <td>Available</td>\n      <td>Evening</td>\n      <td>2024-11-28T07:20:38</td>\n      <td>0</td>\n      <td>Severe</td>\n    </tr>\n    <tr>\n      <th>1</th>\n      <td>Avani Kumar</td>\n      <td>P0002</td>\n      <td>48</td>\n      <td>['pain in the lower right abdomen' 'runny nose...</td>\n      <td>5</td>\n      <td>No</td>\n      <td>Unavailable</td>\n      <td>Evening</td>\n      <td>2024-04-25T16:54:40</td>\n      <td>10</td>\n      <td>Mild</td>\n    </tr>\n    <tr>\n      <th>2</th>\n      <td>Dhruv Gupta</td>\n      <td>P0003</td>\n      <td>65</td>\n      <td>['pain in the upper right abdomen' 'increased ...</td>\n      <td>0</td>\n      <td>Yes</td>\n      <td>Available</td>\n      <td>Evening</td>\n      <td>2024-01-21T16:49:33</td>\n      <td>0</td>\n      <td>Severe</td>\n    </tr>\n    <tr>\n      <th>3</th>\n      <td>Aditi Singh</td>\n      <td>P0004</td>\n      <td>68</td>\n      <td>['pain in the lower back or side' 'itchy' 'fat...</td>\n      <td>3</td>\n      <td>Yes</td>\n      <td>Unavailable</td>\n      <td>Evening</td>\n      <td>2024-06-08T06:27:27</td>\n      <td>0</td>\n      <td>Severe</td>\n    </tr>\n    <tr>\n      <th>4</th>\n      <td>Advik Sharma</td>\n      <td>P0005</td>\n      <td>68</td>\n      <td>['condition that affects the lungs' 'raised'\\n...</td>\n      <td>2</td>\n      <td>No</td>\n      <td>Unavailable</td>\n      <td>Afternoon</td>\n      <td>2024-09-21T09:33:23</td>\n      <td>5</td>\n      <td>Moderate</td>\n    </tr>\n    <tr>\n      <th>...</th>\n      <td>...</td>\n      <td>...</td>\n      <td>...</td>\n      <td>...</td>\n      <td>...</td>\n      <td>...</td>\n      <td>...</td>\n      <td>...</td>\n      <td>...</td>\n      <td>...</td>\n      <td>...</td>\n    </tr>\n    <tr>\n      <th>995</th>\n      <td>Aditi Singh</td>\n      <td>P0996</td>\n      <td>6</td>\n      <td>['cough' 'damage to the kidneys that can lead ...</td>\n      <td>9</td>\n      <td>Yes</td>\n      <td>Unavailable</td>\n      <td>Morning</td>\n      <td>2024-03-04T22:27:33</td>\n      <td>15</td>\n      <td>Severe</td>\n    </tr>\n    <tr>\n      <th>996</th>\n      <td>Advik Patel</td>\n      <td>P0997</td>\n      <td>39</td>\n      <td>['elevated body temperature ' 'hypothyroidism'...</td>\n      <td>3</td>\n      <td>No</td>\n      <td>Unavailable</td>\n      <td>Evening</td>\n      <td>2024-08-21T00:56:49</td>\n      <td>0</td>\n      <td>Severe</td>\n    </tr>\n    <tr>\n      <th>997</th>\n      <td>Aarav Chauhan</td>\n      <td>P0998</td>\n      <td>39</td>\n      <td>['pain' 'excessive worry' 'memory loss']</td>\n      <td>8</td>\n      <td>Yes</td>\n      <td>Available</td>\n      <td>Afternoon</td>\n      <td>2024-02-03T19:54:02</td>\n      <td>15</td>\n      <td>Mild</td>\n    </tr>\n    <tr>\n      <th>998</th>\n      <td>Diya Reddy</td>\n      <td>P0999</td>\n      <td>66</td>\n      <td>['difficulty getting'\\n 'condition in which th...</td>\n      <td>2</td>\n      <td>No</td>\n      <td>Unavailable</td>\n      <td>Afternoon</td>\n      <td>2024-10-30T01:36:36</td>\n      <td>0</td>\n      <td>Severe</td>\n    </tr>\n    <tr>\n      <th>999</th>\n      <td>Aarav Gupta</td>\n      <td>P1000</td>\n      <td>60</td>\n      <td>['swollen' 'abdominal pain' 'fatigue']</td>\n      <td>4</td>\n      <td>Yes</td>\n      <td>Available</td>\n      <td>Afternoon</td>\n      <td>2024-10-03T23:25:41</td>\n      <td>0</td>\n      <td>Severe</td>\n    </tr>\n  </tbody>\n</table>\n<p>1000 rows × 11 columns</p>\n</div>"
     },
     "execution_count": 3,
     "metadata": {},
     "output_type": "execute_result"
    }
   ],
   "source": [
    "patient_df = pd.read_csv(BASE_DATASET_PATH)\n",
    "\n",
    "patient_df"
   ],
   "metadata": {
    "collapsed": false,
    "ExecuteTime": {
     "end_time": "2024-03-22T02:50:54.208895Z",
     "start_time": "2024-03-22T02:50:54.199748Z"
    }
   },
   "id": "3a3da6698fabb04a",
   "execution_count": 3
  },
  {
   "cell_type": "code",
   "outputs": [
    {
     "data": {
      "text/plain": "(     Age                                     Cause_of_Visit  \\\n 0     45  ['change in bowel habits' 'raised' 'physical d...   \n 1     48  ['pain in the lower right abdomen' 'runny nose...   \n 2     65  ['pain in the upper right abdomen' 'increased ...   \n 3     68  ['pain in the lower back or side' 'itchy' 'fat...   \n 4     68  ['condition that affects the lungs' 'raised'\\n...   \n ..   ...                                                ...   \n 995    6  ['cough' 'damage to the kidneys that can lead ...   \n 996   39  ['elevated body temperature ' 'hypothyroidism'...   \n 997   39           ['pain' 'excessive worry' 'memory loss']   \n 998   66  ['difficulty getting'\\n 'condition in which th...   \n 999   60             ['swollen' 'abdominal pain' 'fatigue']   \n \n      No_of_Previous_Visits Cause_Matches_Previous_Visit Doctor_Availability  \\\n 0                        4                           No           Available   \n 1                        5                           No         Unavailable   \n 2                        0                          Yes           Available   \n 3                        3                          Yes         Unavailable   \n 4                        2                           No         Unavailable   \n ..                     ...                          ...                 ...   \n 995                      9                          Yes         Unavailable   \n 996                      3                           No         Unavailable   \n 997                      8                          Yes           Available   \n 998                      2                           No         Unavailable   \n 999                      4                          Yes           Available   \n \n     Work_Shift_Time   Schedule_date_time  Delayed_by  \n 0           Evening  2024-11-28T07:20:38           0  \n 1           Evening  2024-04-25T16:54:40          10  \n 2           Evening  2024-01-21T16:49:33           0  \n 3           Evening  2024-06-08T06:27:27           0  \n 4         Afternoon  2024-09-21T09:33:23           5  \n ..              ...                  ...         ...  \n 995         Morning  2024-03-04T22:27:33          15  \n 996         Evening  2024-08-21T00:56:49           0  \n 997       Afternoon  2024-02-03T19:54:02          15  \n 998       Afternoon  2024-10-30T01:36:36           0  \n 999       Afternoon  2024-10-03T23:25:41           0  \n \n [1000 rows x 8 columns],\n 0        Severe\n 1          Mild\n 2        Severe\n 3        Severe\n 4      Moderate\n          ...   \n 995      Severe\n 996      Severe\n 997        Mild\n 998      Severe\n 999      Severe\n Name: Severity_of_Ailment, Length: 1000, dtype: object)"
     },
     "execution_count": 4,
     "metadata": {},
     "output_type": "execute_result"
    }
   ],
   "source": [
    "X = patient_df.iloc[:, 2:-1]\n",
    "y = patient_df.iloc[:, -1]\n",
    "\n",
    "X, y"
   ],
   "metadata": {
    "collapsed": false,
    "ExecuteTime": {
     "end_time": "2024-03-22T02:50:54.213320Z",
     "start_time": "2024-03-22T02:50:54.209557Z"
    }
   },
   "id": "23fcd49dc9ecef3c",
   "execution_count": 4
  },
  {
   "cell_type": "code",
   "outputs": [
    {
     "data": {
      "text/plain": "dtype('O')"
     },
     "execution_count": 5,
     "metadata": {},
     "output_type": "execute_result"
    }
   ],
   "source": [
    "X['Cause_of_Visit'].dtype"
   ],
   "metadata": {
    "collapsed": false,
    "ExecuteTime": {
     "end_time": "2024-03-22T02:50:54.216555Z",
     "start_time": "2024-03-22T02:50:54.214685Z"
    }
   },
   "id": "ba8cd7a75cdc07a7",
   "execution_count": 5
  },
  {
   "cell_type": "code",
   "outputs": [
    {
     "data": {
      "text/plain": "\"['change in bowel habits','raised','physical dependence on alcohol']\""
     },
     "execution_count": 6,
     "metadata": {},
     "output_type": "execute_result"
    }
   ],
   "source": [
    "'\\',\\''.join(X['Cause_of_Visit'][0].split('\\' \\''))"
   ],
   "metadata": {
    "collapsed": false,
    "ExecuteTime": {
     "end_time": "2024-03-22T02:50:54.219107Z",
     "start_time": "2024-03-22T02:50:54.217075Z"
    }
   },
   "id": "f7f1430fa5581efb",
   "execution_count": 6
  },
  {
   "cell_type": "code",
   "outputs": [],
   "source": [
    "import ast\n",
    "\n",
    "X['Cause_of_Visit'] = X['Cause_of_Visit'].apply(lambda symptom: ast.literal_eval('\\',\\''.join(symptom.split('\\' \\''))))"
   ],
   "metadata": {
    "collapsed": false,
    "ExecuteTime": {
     "end_time": "2024-03-22T02:50:54.227055Z",
     "start_time": "2024-03-22T02:50:54.219638Z"
    }
   },
   "id": "24d74cefd8102bb6",
   "execution_count": 7
  },
  {
   "cell_type": "code",
   "outputs": [
    {
     "data": {
      "text/plain": "(1000,)"
     },
     "execution_count": 8,
     "metadata": {},
     "output_type": "execute_result"
    }
   ],
   "source": [
    "X['Cause_of_Visit'].shape"
   ],
   "metadata": {
    "collapsed": false,
    "ExecuteTime": {
     "end_time": "2024-03-22T02:50:54.229736Z",
     "start_time": "2024-03-22T02:50:54.227772Z"
    }
   },
   "id": "3e0a18ecd662b9dd",
   "execution_count": 8
  },
  {
   "cell_type": "code",
   "outputs": [
    {
     "data": {
      "text/plain": "array(['disturbance in eating behavior that can lead to serious health problemssudden weakness',\n       'difficulty gettingdifficulty urinating',\n       'sexually transmitted infection that can cause burning during urinationpain in the lower right abdomen',\n       'disturbance in eating behavior that can lead to serious health problemshyperthyroidism',\n       'chronic autoimmune disease that can affect any part of the bodydiarrhea',\n       'change in bowel habitsincreased pressure in the eye that can damage the optic nerveinflammation of the liver',\n       'sudden weaknessdifficulty with social interaction',\n       'widespread painsexually transmitted infection that can cause blisters on the genitalsphysical dependence on alcohol',\n       'nauseacondition in which the heart cannot pump blood as well as it shouldbulge in the wall of the aorta',\n       'sexually transmitted infection that can cause blisters on the genitalspainful urination',\n       'increased pressure in the eye that can damage the optic nervepain in the lower right abdomen',\n       'diarrheaincreased pressure in the eye that can damage the optic nerveexcessive worry',\n       'feverdisturbance in eating behavior that can lead to serious health problems',\n       'lump',\n       'sudden weaknesscondition in which the heart cannot pump blood as well as it shouldseizures',\n       'increased pressure in the eye that can damage the optic nervepain in the upper abdomen',\n       'tremorspain in the lower right abdomen', 'hyperthyroidism',\n       'sexually transmitted infection that can cause blisters on the genitalsraised',\n       'condition in which the heart cannot pump blood as well as it shoulddisturbance in eating behavior that can lead to serious health problemsswollen',\n       'bulge in the wall of the aortafever',\n       'increased pressure in the eye that can damage the optic nervedifficulty urinating',\n       'sadnessdamage to the kidneys that can lead to kidney failure',\n       'abdominal painbulge in the wall of the aorta',\n       'pain in the upper right abdomen',\n       'extreme mood swingsdamage to the kidneys that can lead to kidney failure',\n       'cough that does not go awaydecreased kidney function',\n       'pain in the lower right abdomendecreased kidney function',\n       'hypothyroidismsexually transmitted infection that can cause blisters on the genitals',\n       'cough that does not go awaypainful urination', 'pain',\n       'itchychronic autoimmune disease that can affect any part of the body',\n       'lumpdisturbance in eating behavior that can lead to serious health problems',\n       'cough',\n       'painful urinationsexually transmitted infection that can cause blisters on the genitals',\n       'abdominal paindisturbance in eating behavior that can lead to serious health problems',\n       'chronic autoimmune disease that can affect any part of the bodyrunny nose',\n       'sexually transmitted infection that can cause blisters on the genitalscondition that affects the lungs',\n       'damage to the kidneys that can lead to kidney failurepainful urination',\n       'chest paindisturbance in eating behavior that can lead to serious health problemsdifficulty urinating',\n       'increased pressure in the eye that can damage the optic nerveinflammation of the liver',\n       'painful rash that follows nerve pathincreased pressure in the eye that can damage the optic nerve',\n       'high levels of cholesterol in the blood',\n       'feversexually transmitted infection that can cause blisters on the genitalsphysical dependence on alcohol',\n       'paincondition in which the heart cannot pump blood as well as it should',\n       'chronic autoimmune disease that can affect any part of the bodylump in the neck',\n       'difficulty urinatingbulge in the wall of the aorta',\n       'cough that does not go awaydisturbance in eating behavior that can lead to serious health problems',\n       'high levels of cholesterol in the blooddifficulty getting',\n       'disturbance in eating behavior that can lead to serious health problemssexually transmitted infection that can cause burning during urinationrash',\n       'bulge in the wall of the aorta',\n       'sadnesscondition that affects the lungs', 'sudden weakness',\n       'itchysexually transmitted infection that can cause blisters on the genitals',\n       'disturbance in eating behavior that can lead to serious health problemshigh levels of cholesterol in the blooddamage to the kidneys that can lead to kidney failure',\n       'chronic autoimmune disease that can affect any part of the bodychange in bowel habits',\n       'inflammation of the liver', 'loosehypothyroidism',\n       'damage to the kidneys that can lead to kidney failurepainful urinationsexually transmitted infection that can cause burning during urination',\n       'high levels of cholesterol in the bloodchronic bronchitis',\n       'painful rash that follows nerve pathpain in the upper right abdomen',\n       'increased pressure in the eye that can damage the optic nervechest pain',\n       'abdominal painabnormal pap test results',\n       'rashsexually transmitted infection that can cause burning during urinationdiarrhea',\n       'condition in which the heart cannot pump blood as well as it shouldpain in the lower back or sidedamage to the kidneys that can lead to kidney failure',\n       'physical dependence on alcoholwidespread pain',\n       'itchingchronic autoimmune disease that can affect any part of the bodypainful urination',\n       'condition that affects the lungsdisturbance in eating behavior that can lead to serious health problemsfever',\n       'physical dependence on alcoholchronic autoimmune disease that can affect any part of the body',\n       'nauseachronic autoimmune disease that can affect any part of the bodyphysical dependence on alcohol',\n       'itchingdisturbance in eating behavior that can lead to serious health problems',\n       'nauseaincreased pressure in the eye that can damage the optic nerve',\n       'pain in the lower back or side',\n       'feversexually transmitted infection that can cause blisters on the genitalschest pain',\n       'blood in the urinesexually transmitted infection that can cause burning during urinationloose',\n       'chronic bronchitissexually transmitted infection that can cause blisters on the genitals',\n       'sexually transmitted infection that can cause blisters on the genitalspainful rash that follows nerve path',\n       'increased pressure in the eye that can damage the optic nervehyperthyroidism',\n       'rashblood in the urine', 'swollen',\n       'bulge in the wall of the aortahigh levels of cholesterol in the blood',\n       'lump in the neckincreased pressure in the eye that can damage the optic nerve',\n       'painful urinationelevated body temperature ',\n       'painful urinationdamage to the kidneys that can lead to kidney failure',\n       'vomitingitching',\n       'pain in the lower right abdomensexually transmitted infection that can cause blisters on the genitalshyperthyroidism',\n       'inflammation of the liverincreased pressure in the eye that can damage the optic nerve',\n       'change in bowel habitssexually transmitted infection that can cause burning during urinationincreased thirst',\n       'blood in the urinesexually transmitted infection that can cause burning during urination',\n       'sexually transmitted infection that can cause burning during urinationitchy',\n       'condition that affects the lungsdifficulty getting',\n       'pain in the lower back or sidechronic autoimmune disease that can affect any part of the bodylump in the neck',\n       'chronic autoimmune disease that can affect any part of the bodyhypothyroidism',\n       'chronic autoimmune disease that can affect any part of the bodyexcessive worry',\n       'high levels of cholesterol in the bloodcondition in which the heart cannot pump blood as well as it shouldinflammation of the liver',\n       'sexually transmitted infection that can cause blisters on the genitalsnausea',\n       'difficulty with social interactionextreme mood swings',\n       'hypothyroidismcondition that affects the lungs',\n       'pain in the upper right abdomenincreased pressure in the eye that can damage the optic nerveelevated body temperature ',\n       'change in bowel habitsdiarrhea',\n       'wheezingincreased pressure in the eye that can damage the optic nerve',\n       'bulge in the wall of the aortadisturbance in eating behavior that can lead to serious health problems',\n       'damage to the kidneys that can lead to kidney failurepainful rash that follows nerve path',\n       'increased thirstdamage to the kidneys that can lead to kidney failuredifficulty with social interaction',\n       'condition in which the heart cannot pump blood as well as it shouldpain in the lower right abdomen',\n       'painful urinationcondition in which the heart cannot pump blood as well as it shouldraised',\n       'fatiguesexually transmitted infection that can cause burning during urination',\n       'painful urinationpain in the upper right abdomen',\n       'extreme mood swings',\n       'runny noseincreased pressure in the eye that can damage the optic nerve',\n       'sexually transmitted infection that can cause burning during urinationchest pain',\n       'feverincreased pressure in the eye that can damage the optic nerve',\n       'rashelevated body temperature ', 'red',\n       'disturbance in eating behavior that can lead to serious health problemsdiarrhea',\n       'extreme mood swingsdisturbance in eating behavior that can lead to serious health problemsbulge in the wall of the aorta',\n       'pain in the lower back or sidecondition in which the heart cannot pump blood as well as it shouldhigh levels of cholesterol in the blood',\n       'itchyincreased pressure in the eye that can damage the optic nerve',\n       'itchydamage to the kidneys that can lead to kidney failure',\n       'high levels of cholesterol in the bloodraised',\n       'pain in the lower right abdomenpainful urination',\n       'bulge in the wall of the aortaabnormal pap test results',\n       'hyperthyroidismpain in the lower back or side',\n       'seizurespain in the upper right abdomen',\n       'difficulty with social interactiondamage to the kidneys that can lead to kidney failure',\n       'painful urinationdisturbance in eating behavior that can lead to serious health problemspain in the lower back or side',\n       'itchysexually transmitted infection that can cause blisters on the genitalshigh levels of cholesterol in the blood',\n       'sadnesschange in bowel habits',\n       'itchysexually transmitted infection that can cause blisters on the genitalssudden weakness',\n       'sadnesschronic autoimmune disease that can affect any part of the body',\n       'damage to the kidneys that can lead to kidney failurephysical dependence on alcoholcondition in which the heart cannot pump blood as well as it should',\n       'swollensexually transmitted infection that can cause blisters on the genitalsrash',\n       'sadness',\n       'condition in which the heart cannot pump blood as well as it shouldsadnesschronic autoimmune disease that can affect any part of the body',\n       'damage to the kidneys that can lead to kidney failurehigh levels of cholesterol in the bloodphysical dependence on alcohol',\n       'painful rash that follows nerve pathcondition in which the heart cannot pump blood as well as it should',\n       'high levels of cholesterol in the bloodpain in the lower right abdomen',\n       'chest paindamage to the kidneys that can lead to kidney failure',\n       'bulge in the wall of the aortaextreme mood swings',\n       'condition in which the heart cannot pump blood as well as it shouldabdominal pain',\n       'chronic autoimmune disease that can affect any part of the bodywidespread pain',\n       'chronic bronchitisinflammation of the liver',\n       'difficulty with social interactioninflammation of the liver',\n       'rashcondition in which the heart cannot pump blood as well as it shouldincreased pressure in the eye that can damage the optic nerve',\n       'pain in the lower right abdomen',\n       'excessive worrydisturbance in eating behavior that can lead to serious health problems',\n       'cough that does not go awaydamage to the kidneys that can lead to kidney failure',\n       'tremorshigh levels of cholesterol in the blood',\n       'wheezingsexually transmitted infection that can cause burning during urinationrash',\n       'disturbance in eating behavior that can lead to serious health problemslump',\n       'nauseachronic autoimmune disease that can affect any part of the body',\n       'sexually transmitted infection that can cause burning during urinationsadness',\n       'loosecondition in which the heart cannot pump blood as well as it should',\n       'wheezingsexually transmitted infection that can cause burning during urination',\n       'runny nose',\n       'pain in the lower back or sidedamage to the kidneys that can lead to kidney failure',\n       'diarrheasexually transmitted infection that can cause burning during urinationrash',\n       'painful rash that follows nerve pathhigh levels of cholesterol in the blood',\n       'abnormal pap test resultsdisturbance in eating behavior that can lead to serious health problems',\n       'sexually transmitted infection that can cause blisters on the genitalsincreased thirst',\n       'runny nosecondition in which the heart cannot pump blood as well as it shouldchange in bowel habits',\n       'abnormal pap test resultswidespread pain',\n       'blood in the urinedamage to the kidneys that can lead to kidney failure',\n       'pain in the lower back or sideelevated body temperature ',\n       'decreased kidney functionincreased pressure in the eye that can damage the optic nerve',\n       'lump in the neckcondition in which the heart cannot pump blood as well as it shouldrunny nose',\n       'cough that does not go awayexcessive worry',\n       'pain in the upper abdomen',\n       'abnormal pap test resultsexcessive worry', 'itching',\n       'memory losscondition in which the heart cannot pump blood as well as it shouldpain in the lower right abdomen',\n       'decreased kidney function',\n       'pain in the lower back or sidecondition in which the heart cannot pump blood as well as it shouldsexually transmitted infection that can cause burning during urination',\n       'pain in the lower back or sidedifficulty with social interaction',\n       'increased pressure in the eye that can damage the optic nerveincreased thirst',\n       'cough that does not go awayphysical dependence on alcohol',\n       'bulge in the wall of the aortacondition that affects the lungs',\n       'hypothyroidism',\n       'disturbance in eating behavior that can lead to serious health problemslump in the neck',\n       'redsexually transmitted infection that can cause burning during urinationhigh levels of cholesterol in the blood',\n       'cough that does not go away', 'change in bowel habits',\n       'pain in the lower back or sidepainful rash that follows nerve path',\n       'damage to the kidneys that can lead to kidney failureelevated body temperature ',\n       'high levels of cholesterol in the bloodincreased pressure in the eye that can damage the optic nervedifficulty urinating',\n       'widespread painpain in the lower back or side',\n       'extreme mood swingschronic bronchitis',\n       'condition that affects the lungsdisturbance in eating behavior that can lead to serious health problemsabdominal pain',\n       'condition in which the heart cannot pump blood as well as it shouldhyperthyroidism',\n       'difficulty gettingcondition in which the heart cannot pump blood as well as it should',\n       'sexually transmitted infection that can cause blisters on the genitalsexcessive worry',\n       'itchingsexually transmitted infection that can cause blisters on the genitalsphysical dependence on alcohol',\n       'inflammation of the liversexually transmitted infection that can cause burning during urination',\n       'blood in the urinechronic autoimmune disease that can affect any part of the body',\n       'damage to the kidneys that can lead to kidney failurecough that does not go away',\n       'wheezingdisturbance in eating behavior that can lead to serious health problems',\n       'abnormal pap test results',\n       'increased pressure in the eye that can damage the optic nervepainful urination',\n       'sexually transmitted infection that can cause blisters on the genitalssadness',\n       'pain in the upper right abdomenincreased pressure in the eye that can damage the optic nervephysical dependence on alcohol',\n       'chronic autoimmune disease that can affect any part of the bodypain in the upper abdomen',\n       'abdominal paincondition in which the heart cannot pump blood as well as it shoulditchy',\n       'bulge in the wall of the aortared',\n       'change in bowel habitsdisturbance in eating behavior that can lead to serious health problemspain in the upper abdomen',\n       'increased pressure in the eye that can damage the optic nerveseizures',\n       'pain in the lower right abdomenincreased pressure in the eye that can damage the optic nervedisturbance in eating behavior that can lead to serious health problems',\n       'sexually transmitted infection that can cause burning during urinationred',\n       'raised',\n       'lump in the neckdisturbance in eating behavior that can lead to serious health problems',\n       'difficulty gettingdamage to the kidneys that can lead to kidney failurechange in bowel habits',\n       'chronic bronchitischronic autoimmune disease that can affect any part of the body',\n       'sadnesssexually transmitted infection that can cause blisters on the genitalsdifficulty urinating',\n       'extreme mood swingscondition that affects the lungs', 'itchy',\n       'painincreased pressure in the eye that can damage the optic nerve',\n       'sexually transmitted infection that can cause burning during urinationpain in the upper right abdomen',\n       'sexually transmitted infection that can cause burning during urinationincreased pressure in the eye that can damage the optic nerve',\n       'condition that affects the lungs',\n       'bulge in the wall of the aortachronic autoimmune disease that can affect any part of the body',\n       'high levels of cholesterol in the bloodcondition that affects the lungs',\n       'decreased kidney functionpain in the lower right abdomen',\n       'difficulty gettingcondition in which the heart cannot pump blood as well as it shouldfever',\n       'abnormal pap test resultscough that does not go away',\n       'sexually transmitted infection that can cause burning during urinationsexually transmitted infection that can cause blisters on the genitalsblood in the urine',\n       'blood in the urine',\n       'pain in the upper right abdomencondition that affects the lungs',\n       'widespread painchronic autoimmune disease that can affect any part of the bodyexcessive worry',\n       'memory losspain in the upper abdomen',\n       'sexually transmitted infection that can cause burning during urinationextreme mood swings',\n       'condition in which the heart cannot pump blood as well as it shouldwidespread pain',\n       'condition in which the heart cannot pump blood as well as it shouldpainful rash that follows nerve path',\n       'runny noseincreased pressure in the eye that can damage the optic nervehypothyroidism',\n       'abdominal painsexually transmitted infection that can cause burning during urination',\n       'disturbance in eating behavior that can lead to serious health problemschest pain',\n       'disturbance in eating behavior that can lead to serious health problemssexually transmitted infection that can cause blisters on the genitalsdifficulty with social interaction',\n       'painful rash that follows nerve path',\n       'pain in the lower right abdomenhigh levels of cholesterol in the blood',\n       'raisedsexually transmitted infection that can cause blisters on the genitalsabdominal pain',\n       'excessive worry',\n       'damage to the kidneys that can lead to kidney failure',\n       'bulge in the wall of the aortadamage to the kidneys that can lead to kidney failure',\n       'elevated body temperature ',\n       'pain in the lower right abdomenincreased pressure in the eye that can damage the optic nerve',\n       'disturbance in eating behavior that can lead to serious health problemssadness',\n       'swollendisturbance in eating behavior that can lead to serious health problems',\n       'bulge in the wall of the aortaincreased pressure in the eye that can damage the optic nerveincreased thirst',\n       'vomiting', 'extreme mood swingsabnormal pap test results',\n       'wheezingincreased pressure in the eye that can damage the optic nervehyperthyroidism',\n       'elevated body temperature sexually transmitted infection that can cause blisters on the genitals',\n       'disturbance in eating behavior that can lead to serious health problemsdifficulty urinating',\n       'elevated body temperature disturbance in eating behavior that can lead to serious health problems',\n       'lump in the neck',\n       'diarrheasexually transmitted infection that can cause burning during urinationvomiting',\n       'pain in the lower back or sideincreased pressure in the eye that can damage the optic nervepainful urination',\n       'excessive worrycondition in which the heart cannot pump blood as well as it should',\n       'seizuresdamage to the kidneys that can lead to kidney failure',\n       'lumpdamage to the kidneys that can lead to kidney failure',\n       'widespread painincreased pressure in the eye that can damage the optic nerveabnormal pap test results',\n       'damage to the kidneys that can lead to kidney failurelump',\n       'nauseacondition in which the heart cannot pump blood as well as it shouldabdominal pain',\n       'hyperthyroidismsexually transmitted infection that can cause burning during urination',\n       'sexually transmitted infection that can cause blisters on the genitalsabnormal pap test results',\n       'abnormal pap test resultssexually transmitted infection that can cause burning during urinationsexually transmitted infection that can cause blisters on the genitals',\n       'raisedsexually transmitted infection that can cause burning during urination',\n       'nausea',\n       'difficulty with social interactiondisturbance in eating behavior that can lead to serious health problems',\n       'damage to the kidneys that can lead to kidney failuredisturbance in eating behavior that can lead to serious health problems',\n       'difficulty urinatingsexually transmitted infection that can cause blisters on the genitalsvomiting',\n       'pain in the upper right abdomenincreased pressure in the eye that can damage the optic nerveabdominal pain',\n       'swollensexually transmitted infection that can cause burning during urination',\n       'increased pressure in the eye that can damage the optic nervecough that does not go away',\n       'physical dependence on alcoholsexually transmitted infection that can cause burning during urinationlump',\n       'condition in which the heart cannot pump blood as well as it shoulddifficulty urinating',\n       'difficulty urinatingsexually transmitted infection that can cause blisters on the genitals',\n       'condition that affects the lungshigh levels of cholesterol in the blood',\n       'chronic autoimmune disease that can affect any part of the bodypain in the upper right abdomen',\n       'sudden weaknesssexually transmitted infection that can cause burning during urination',\n       'sexually transmitted infection that can cause burning during urinationpainful rash that follows nerve path',\n       'tremorssexually transmitted infection that can cause burning during urinationcondition that affects the lungs',\n       'painful urinationincreased pressure in the eye that can damage the optic nerve',\n       'chronic autoimmune disease that can affect any part of the bodypain',\n       'damage to the kidneys that can lead to kidney failureinflammation of the liver',\n       'damage to the kidneys that can lead to kidney failureraised',\n       'sexually transmitted infection that can cause blisters on the genitalsinflammation of the liver',\n       'sexually transmitted infection that can cause blisters on the genitalshypothyroidism',\n       'raisedchronic autoimmune disease that can affect any part of the body',\n       'itchysexually transmitted infection that can cause burning during urinationitching',\n       'high levels of cholesterol in the bloodpainful rash that follows nerve path',\n       'pain in the lower right abdomendamage to the kidneys that can lead to kidney failure',\n       'runny nosecondition in which the heart cannot pump blood as well as it shouldincreased pressure in the eye that can damage the optic nerve',\n       'chronic bronchitis',\n       'pain in the lower back or sidesudden weakness',\n       'chronic autoimmune disease that can affect any part of the bodydecreased kidney functiondisturbance in eating behavior that can lead to serious health problems',\n       'pain in the lower right abdomensexually transmitted infection that can cause burning during urinationpain',\n       'damage to the kidneys that can lead to kidney failurevomiting',\n       'sexually transmitted infection that can cause blisters on the genitalsabdominal pain',\n       'cough that does not go awaypain in the lower back or side',\n       'disturbance in eating behavior that can lead to serious health problemscondition that affects the lungs',\n       'damage to the kidneys that can lead to kidney failurememory loss',\n       'loose',\n       'inflammation of the liversexually transmitted infection that can cause blisters on the genitals',\n       'chronic bronchitispain in the lower right abdomen',\n       'difficulty gettinginflammation of the liver',\n       'pain in the lower right abdomensexually transmitted infection that can cause blisters on the genitalsexcessive worry',\n       'hyperthyroidismdisturbance in eating behavior that can lead to serious health problems',\n       'excessive worrychronic autoimmune disease that can affect any part of the body',\n       'pain in the upper right abdomenhyperthyroidism', 'lumpwheezing',\n       'condition in which the heart cannot pump blood as well as it shouldchronic bronchitis',\n       'widespread pain',\n       'memory lossdisturbance in eating behavior that can lead to serious health problems',\n       'blood in the urinepain in the upper abdomen',\n       'high levels of cholesterol in the bloodabdominal pain', 'fatigue',\n       'sexually transmitted infection that can cause blisters on the genitalsdisturbance in eating behavior that can lead to serious health problemspain',\n       'difficulty gettingchronic autoimmune disease that can affect any part of the body',\n       'abdominal pain',\n       'nauseasexually transmitted infection that can cause burning during urination',\n       'widespread painsexually transmitted infection that can cause burning during urination',\n       'condition that affects the lungsblood in the urine',\n       'tremorsincreased pressure in the eye that can damage the optic nerve',\n       'inflammation of the livercondition in which the heart cannot pump blood as well as it shouldchronic bronchitis',\n       'change in bowel habitsdisturbance in eating behavior that can lead to serious health problems',\n       'runny nosepain in the lower right abdomen',\n       'elevated body temperature damage to the kidneys that can lead to kidney failure',\n       'pain in the upper right abdomenabnormal pap test results',\n       'sexually transmitted infection that can cause blisters on the genitalselevated body temperature ',\n       'difficulty getting',\n       'condition in which the heart cannot pump blood as well as it shouldlump',\n       'condition that affects the lungscondition in which the heart cannot pump blood as well as it shouldsadness',\n       'elevated body temperature change in bowel habits',\n       'rashsexually transmitted infection that can cause burning during urination',\n       'feversexually transmitted infection that can cause burning during urination',\n       'seizures',\n       'lumpsexually transmitted infection that can cause burning during urination',\n       'increased pressure in the eye that can damage the optic nervedecreased kidney function',\n       'physical dependence on alcohol',\n       'sexually transmitted infection that can cause blisters on the genitalslump',\n       'sexually transmitted infection that can cause blisters on the genitalsdiarrhea',\n       'condition that affects the lungsdifficulty urinating',\n       'vomitingchronic autoimmune disease that can affect any part of the bodyexcessive worry',\n       'damage to the kidneys that can lead to kidney failuredecreased kidney function',\n       'fever',\n       'tremorssexually transmitted infection that can cause burning during urinationred',\n       'inflammation of the liverpainful rash that follows nerve path',\n       'condition in which the heart cannot pump blood as well as it shouldrunny nose',\n       'rash',\n       'tremorsdamage to the kidneys that can lead to kidney failure',\n       'tremorsdisturbance in eating behavior that can lead to serious health problems',\n       'tremorspain in the upper right abdomen',\n       'lumpsexually transmitted infection that can cause blisters on the genitals',\n       'sexually transmitted infection that can cause burning during urinationrash',\n       'hypothyroidismchronic autoimmune disease that can affect any part of the bodyitching',\n       'condition in which the heart cannot pump blood as well as it shouldblood in the urine',\n       'diarrhea',\n       'sexually transmitted infection that can cause blisters on the genitalscough',\n       'memory losscondition in which the heart cannot pump blood as well as it should',\n       'lumpincreased pressure in the eye that can damage the optic nerve',\n       'inflammation of the liverpain in the upper right abdomen',\n       'increased pressure in the eye that can damage the optic nerve',\n       'sexually transmitted infection that can cause burning during urinationhypothyroidism',\n       'sexually transmitted infection that can cause burning during urinationhigh levels of cholesterol in the blood',\n       'chronic autoimmune disease that can affect any part of the bodycondition that affects the lungs',\n       'extreme mood swingsmemory loss',\n       'lump in the neckcondition in which the heart cannot pump blood as well as it shouldtremors',\n       'sexually transmitted infection that can cause burning during urinationpain in the upper abdomen',\n       'damage to the kidneys that can lead to kidney failurehypothyroidism',\n       'condition in which the heart cannot pump blood as well as it shouldlump in the neck',\n       'itchydisturbance in eating behavior that can lead to serious health problems',\n       'chronic autoimmune disease that can affect any part of the bodypainful rash that follows nerve path',\n       'cough that does not go awayabnormal pap test results',\n       'painful urination', 'memory loss',\n       'increased pressure in the eye that can damage the optic nervedamage to the kidneys that can lead to kidney failure',\n       'bulge in the wall of the aortachange in bowel habits',\n       'increased pressure in the eye that can damage the optic nervedisturbance in eating behavior that can lead to serious health problemscondition in which the heart cannot pump blood as well as it should',\n       'extreme mood swingsincreased pressure in the eye that can damage the optic nerveblood in the urine',\n       'sexually transmitted infection that can cause burning during urinationnausea',\n       'chest pain', 'high levels of cholesterol in the bloodseizures',\n       'condition that affects the lungspainful rash that follows nerve path',\n       'physical dependence on alcoholsexually transmitted infection that can cause burning during urination',\n       'pain in the lower right abdomenchronic autoimmune disease that can affect any part of the body',\n       'sexually transmitted infection that can cause blisters on the genitalscough that does not go away',\n       'nauseadisturbance in eating behavior that can lead to serious health problemssadness',\n       'sexually transmitted infection that can cause burning during urinationseizures',\n       'sexually transmitted infection that can cause burning during urinationdecreased kidney function',\n       'sexually transmitted infection that can cause burning during urinationfever',\n       'pain in the upper abdomendifficulty urinating',\n       'redcondition in which the heart cannot pump blood as well as it should',\n       'disturbance in eating behavior that can lead to serious health problemswidespread pain',\n       'condition that affects the lungsdisturbance in eating behavior that can lead to serious health problemsdifficulty getting',\n       'lumpchronic autoimmune disease that can affect any part of the body',\n       'looseextreme mood swings', 'wheezing',\n       'sexually transmitted infection that can cause burning during urinationabnormal pap test results',\n       'increased pressure in the eye that can damage the optic nervesadness',\n       'difficulty with social interactionblood in the urine',\n       'elevated body temperature pain in the lower back or side',\n       'extreme mood swingspain in the lower back or side',\n       'decreased kidney functionpainful rash that follows nerve path',\n       'cough that does not go awaychronic autoimmune disease that can affect any part of the body',\n       'difficulty urinatingsexually transmitted infection that can cause burning during urinationraised',\n       'swollenchronic autoimmune disease that can affect any part of the body',\n       'pain in the lower right abdomendisturbance in eating behavior that can lead to serious health problems',\n       'change in bowel habitsblood in the urine',\n       'bulge in the wall of the aortainflammation of the liver',\n       'tremors', 'elevated body temperature chronic bronchitis',\n       'sexually transmitted infection that can cause blisters on the genitalspain in the upper abdomen',\n       'difficulty with social interaction',\n       'diarrheadifficulty with social interaction',\n       'disturbance in eating behavior that can lead to serious health problemsfever',\n       'chest painelevated body temperature ',\n       'disturbance in eating behavior that can lead to serious health problemspainful rash that follows nerve path',\n       'coughdamage to the kidneys that can lead to kidney failure',\n       'disturbance in eating behavior that can lead to serious health problemssexually transmitted infection that can cause burning during urinationincreased thirst',\n       'nauseadifficulty urinating', 'increased thirst',\n       'chronic autoimmune disease that can affect any part of the bodyabdominal pain',\n       'increased pressure in the eye that can damage the optic nervedamage to the kidneys that can lead to kidney failurecondition that affects the lungs',\n       'nauseasexually transmitted infection that can cause blisters on the genitalspain in the upper abdomen',\n       'damage to the kidneys that can lead to kidney failurehyperthyroidism',\n       'chronic autoimmune disease that can affect any part of the body',\n       'physical dependence on alcoholbulge in the wall of the aorta',\n       'condition that affects the lungsitchy',\n       'condition in which the heart cannot pump blood as well as it shouldsudden weakness',\n       'runny nosehypothyroidism',\n       'increased pressure in the eye that can damage the optic nerveabnormal pap test results',\n       'nauseasexually transmitted infection that can cause blisters on the genitalssexually transmitted infection that can cause burning during urination',\n       'pain in the upper abdomendamage to the kidneys that can lead to kidney failure',\n       'pain in the lower back or sideincreased pressure in the eye that can damage the optic nerve',\n       'itchycondition in which the heart cannot pump blood as well as it should',\n       'sexually transmitted infection that can cause blisters on the genitalsmemory loss',\n       'sexually transmitted infection that can cause blisters on the genitalsdifficulty getting',\n       'difficulty urinating',\n       'increased pressure in the eye that can damage the optic nervepain in the upper right abdomen',\n       'vomitingchronic autoimmune disease that can affect any part of the body',\n       'diarrheasexually transmitted infection that can cause burning during urinationfatigue',\n       'pain in the lower right abdomendifficulty urinating',\n       'paindisturbance in eating behavior that can lead to serious health problemssudden weakness',\n       'feverbulge in the wall of the aorta',\n       'difficulty urinatingelevated body temperature '], dtype='<U199')"
     },
     "execution_count": 9,
     "metadata": {},
     "output_type": "execute_result"
    }
   ],
   "source": [
    "# Unique Symptoms Vocabulary\n",
    "\n",
    "symptoms = X['Cause_of_Visit'].sum()\n",
    "symptoms = list(set(symptoms))\n",
    "\n",
    "symptoms = np.array(symptoms)\n",
    "\n",
    "# symptoms = np.expand_dims(symptoms, axis=1)\n",
    "symptoms"
   ],
   "metadata": {
    "collapsed": false,
    "ExecuteTime": {
     "end_time": "2024-03-22T02:50:54.236557Z",
     "start_time": "2024-03-22T02:50:54.230304Z"
    }
   },
   "id": "edc3012879ea8c4d",
   "execution_count": 9
  },
  {
   "cell_type": "code",
   "outputs": [],
   "source": [
    "def join_symptoms(symptoms_list):\n",
    "  return ' '.join(symptoms_list) if isinstance(symptoms_list, list) else symptoms_list\n"
   ],
   "metadata": {
    "collapsed": false,
    "ExecuteTime": {
     "end_time": "2024-03-22T02:50:54.238794Z",
     "start_time": "2024-03-22T02:50:54.237205Z"
    }
   },
   "id": "1c7a172a970d3b61",
   "execution_count": 10
  },
  {
   "cell_type": "code",
   "outputs": [],
   "source": [
    "X['Cause_of_Visit'] = X['Cause_of_Visit'].apply(join_symptoms)"
   ],
   "metadata": {
    "collapsed": false,
    "ExecuteTime": {
     "end_time": "2024-03-22T02:50:54.241196Z",
     "start_time": "2024-03-22T02:50:54.239430Z"
    }
   },
   "id": "81dd122a7b67518a",
   "execution_count": 11
  },
  {
   "cell_type": "code",
   "outputs": [
    {
     "data": {
      "text/plain": "array([[0., 0., 0., 0., 0., 0., 0., 0., 0., 0., 0., 0., 0., 0., 0., 0.,\n        0., 0., 0., 0., 0., 0., 0., 0., 0., 0., 0., 0., 0., 0., 0., 0.,\n        0., 0., 0., 0., 0., 0., 0., 0., 0., 0., 0., 0., 0., 0., 0., 0.,\n        0., 0., 0., 0., 0., 0., 0., 0., 0., 0., 0., 0., 0., 0., 0., 0.,\n        0., 0., 0., 0., 0., 0., 0., 0., 0., 0., 0., 0., 0., 0., 0., 0.,\n        0., 0., 0., 0., 0., 0., 0., 0., 0., 0., 0., 0., 0., 0., 0., 0.,\n        0., 0., 0., 0., 0., 0., 0., 0., 0., 0., 0., 0., 0., 0., 0., 0.,\n        0., 0., 0., 0., 0., 0., 0., 0., 0., 0., 0., 0., 0., 0., 0., 0.,\n        0., 0., 0., 0., 0., 0., 1., 0., 0., 0., 0., 0., 0., 0., 0., 0.,\n        0., 0., 0., 0., 0., 0., 0., 0., 0., 0., 0., 0., 0., 0., 0., 0.,\n        0., 0., 0., 0., 0., 0., 0., 0., 0., 0., 0., 0., 0., 0., 0., 0.,\n        0., 0., 0., 0., 0., 0., 0., 0., 0., 0., 0., 0., 0., 0., 0., 0.,\n        0., 0., 0., 0., 0., 0., 0., 0., 0., 0., 0., 0., 0., 0., 0., 0.,\n        0., 0., 0., 0., 0., 0., 0., 0., 0., 0., 0., 0., 0., 0., 0., 0.,\n        0., 0., 0., 0., 0., 0., 0., 0., 0., 0., 0., 0., 0., 0., 0., 0.,\n        0., 0., 0., 0., 0., 0., 0., 0., 0., 0., 0., 0., 0., 0., 0., 0.,\n        0., 0., 0., 0., 0., 0., 0., 0., 0., 0., 0., 0., 0., 0., 0., 0.,\n        0., 0., 0., 0., 0., 0., 0., 0., 0., 0., 0., 0., 0., 0., 0., 0.,\n        0., 0., 0., 0., 0., 0., 0., 0., 0., 0., 0., 0., 0., 0., 0., 0.,\n        0., 0., 0., 0., 0., 0., 0., 0., 0., 0., 0., 0., 0., 0., 0., 0.,\n        0., 0., 0., 0., 0., 0., 0., 0., 0., 0., 0., 0., 0., 0., 0., 0.,\n        0., 0., 0., 0., 0., 0., 0., 0., 0., 0., 0., 0., 0., 0., 0., 0.,\n        0., 0., 0., 0., 0., 0., 0., 0., 0., 0., 0., 0., 0., 0., 0., 0.,\n        0., 0., 0., 0., 0., 0., 0., 0., 0., 0., 0., 0., 0., 0., 0., 0.,\n        0., 0., 0., 0., 0., 0., 0., 0., 0., 0., 0., 0., 0., 0., 0., 0.,\n        0., 0., 0., 0., 0., 0., 0., 0., 0., 0., 0., 0., 0., 0., 0., 0.,\n        0., 0., 0., 0., 0., 0., 0., 0., 0., 0., 0., 0., 0., 0., 0., 0.,\n        0., 0., 0., 0., 0., 0., 0., 0., 0., 0., 0., 0., 0., 0., 0., 0.,\n        0., 0., 0., 0., 0., 0., 0., 0., 0., 0., 0., 0., 0., 0., 0., 0.,\n        0., 0., 0., 0., 0., 0., 0., 0., 0., 0., 0., 0., 0., 0., 0., 0.,\n        0., 0., 0., 0., 0., 0., 0., 0., 0., 0., 0., 0.]])"
     },
     "execution_count": 12,
     "metadata": {},
     "output_type": "execute_result"
    }
   ],
   "source": [
    "symptoms_vectorizer = TfidfVectorizer(lowercase=False)\n",
    "\n",
    "# X['Cause_of_Visit'] = X['Cause_of_Visit'].apply(lambda symptom: ' '.join(symptom))\n",
    "\n",
    "X['Cause_of_Visit'] = symptoms_vectorizer.fit_transform(X['Cause_of_Visit']).toarray()\n",
    "\n",
    "symptoms_vectorizer.transform(['fever']).toarray()"
   ],
   "metadata": {
    "collapsed": false,
    "ExecuteTime": {
     "end_time": "2024-03-22T02:50:54.250958Z",
     "start_time": "2024-03-22T02:50:54.241780Z"
    }
   },
   "id": "6cc114d162ccecf8",
   "execution_count": 12
  },
  {
   "cell_type": "code",
   "outputs": [],
   "source": [
    "def vectorize_symptoms(symptoms: list):\n",
    "    print(f\"Vectorizing {len(symptoms)}\")\n",
    "    print(f\"Symptoms: {symptoms}\")\n",
    "    v = symptoms_vectorizer.transform([symptoms])\n",
    "    # print(f\"Vectorized Symptoms: {v.toarray()[0]}\")\n",
    "    return v"
   ],
   "metadata": {
    "collapsed": false,
    "ExecuteTime": {
     "end_time": "2024-03-22T02:50:54.253300Z",
     "start_time": "2024-03-22T02:50:54.251631Z"
    }
   },
   "id": "d6de878dae00fe92",
   "execution_count": 13
  },
  {
   "cell_type": "code",
   "outputs": [],
   "source": [
    "# X_tfidf = X['Cause_of_Visit'].apply(vectorize_symptoms)\n",
    "# X['Cause_of_Visit'] = X['Cause_of_Visit'].apply(vectorize_symptoms)\n",
    "\n",
    "# X = X.drop(columns=['Cause_of_Visit'])\n",
    "\n",
    "# X = hstack((X_tfidf, X))"
   ],
   "metadata": {
    "collapsed": false,
    "ExecuteTime": {
     "end_time": "2024-03-22T02:50:54.257066Z",
     "start_time": "2024-03-22T02:50:54.255664Z"
    }
   },
   "id": "576db14d6c1ba3d6",
   "execution_count": 14
  },
  {
   "cell_type": "code",
   "outputs": [
    {
     "data": {
      "text/plain": "0      0\n1      1\n2      0\n3      1\n4      1\n      ..\n995    1\n996    1\n997    0\n998    1\n999    0\nName: Doctor_Availability, Length: 1000, dtype: int64"
     },
     "execution_count": 15,
     "metadata": {},
     "output_type": "execute_result"
    }
   ],
   "source": [
    "# Label Encode Doctor Availability\n",
    "doc_avail_le = LabelEncoder()\n",
    "X['Doctor_Availability'] = doc_avail_le.fit_transform(X['Doctor_Availability'])\n",
    "\n",
    "X['Doctor_Availability']"
   ],
   "metadata": {
    "collapsed": false,
    "ExecuteTime": {
     "end_time": "2024-03-22T02:50:54.260315Z",
     "start_time": "2024-03-22T02:50:54.257595Z"
    }
   },
   "id": "b127f2b81e029519",
   "execution_count": 15
  },
  {
   "cell_type": "code",
   "outputs": [
    {
     "data": {
      "text/plain": "0      1\n1      1\n2      1\n3      1\n4      0\n      ..\n995    2\n996    1\n997    0\n998    0\n999    0\nName: Work_Shift_Time, Length: 1000, dtype: int64"
     },
     "execution_count": 16,
     "metadata": {},
     "output_type": "execute_result"
    }
   ],
   "source": [
    "# Label Encode Work Shift time\n",
    "\n",
    "work_shift_le = LabelEncoder()\n",
    "X['Work_Shift_Time'] = work_shift_le.fit_transform(X['Work_Shift_Time'])\n",
    "\n",
    "X['Work_Shift_Time']"
   ],
   "metadata": {
    "collapsed": false,
    "ExecuteTime": {
     "end_time": "2024-03-22T02:50:54.263303Z",
     "start_time": "2024-03-22T02:50:54.260926Z"
    }
   },
   "id": "6988a8797384ea09",
   "execution_count": 16
  },
  {
   "cell_type": "code",
   "outputs": [],
   "source": [
    "# Label Encode prev match\n",
    "prev_matching_le = LabelEncoder()\n",
    "\n",
    "X['Cause_Matches_Previous_Visit'] = prev_matching_le.fit_transform(X['Cause_Matches_Previous_Visit'])"
   ],
   "metadata": {
    "collapsed": false,
    "ExecuteTime": {
     "end_time": "2024-03-22T02:50:54.265323Z",
     "start_time": "2024-03-22T02:50:54.263835Z"
    }
   },
   "id": "7362088c83df3ed7",
   "execution_count": 17
  },
  {
   "cell_type": "code",
   "outputs": [
    {
     "data": {
      "text/plain": "Age                               int64\nCause_of_Visit                  float64\nNo_of_Previous_Visits             int64\nCause_Matches_Previous_Visit      int64\nDoctor_Availability               int64\nWork_Shift_Time                   int64\nSchedule_date_time               object\nDelayed_by                        int64\ndtype: object"
     },
     "execution_count": 18,
     "metadata": {},
     "output_type": "execute_result"
    }
   ],
   "source": [
    "X.dtypes"
   ],
   "metadata": {
    "collapsed": false,
    "ExecuteTime": {
     "end_time": "2024-03-22T02:50:54.267976Z",
     "start_time": "2024-03-22T02:50:54.265823Z"
    }
   },
   "id": "c4d63b70d0f8971f",
   "execution_count": 18
  },
  {
   "cell_type": "code",
   "outputs": [
    {
     "data": {
      "text/plain": "Age                               int64\nCause_of_Visit                  float64\nNo_of_Previous_Visits             int64\nCause_Matches_Previous_Visit      int64\nDoctor_Availability               int64\nWork_Shift_Time                   int64\nDelayed_by                        int64\ndtype: object"
     },
     "execution_count": 19,
     "metadata": {},
     "output_type": "execute_result"
    }
   ],
   "source": [
    "# X['Schedule_date_time'] = pd.to_datetime(X['Schedule_date_time'])\n",
    "# \n",
    "# X['Schedule_date_time_day'] = X['Schedule_date_time'].dt.day\n",
    "# X['Schedule_date_time_month'] = X['Schedule_date_time'].dt.month\n",
    "# X['Schedule_date_time_year'] = X['Schedule_date_time'].dt.year\n",
    "# \n",
    "# # Hour of Day\n",
    "# X['Schedule_date_time_hour_of_day'] = X['Schedule_date_time'].dt.hour\n",
    "# \n",
    "# # Cyclical Encoding of Hours\n",
    "# X['Schedule_date_time_hour_sin'] = np.sin(2 * np.pi * X['Schedule_date_time_hour_of_day']/24)\n",
    "# X['Schedule_date_time_hour_cos'] = np.cos(2 * np.pi * X['Schedule_date_time_hour_of_day']/24)\n",
    "\n",
    "X = X.drop(columns=['Schedule_date_time'])\n",
    "\n",
    "X.dtypes"
   ],
   "metadata": {
    "collapsed": false,
    "ExecuteTime": {
     "end_time": "2024-03-22T02:50:54.271201Z",
     "start_time": "2024-03-22T02:50:54.268613Z"
    }
   },
   "id": "86e80028470a9003",
   "execution_count": 19
  },
  {
   "cell_type": "code",
   "outputs": [
    {
     "data": {
      "text/plain": "array([2, 0, 2, 2, 1, 1, 0, 0, 1, 2, 2, 1, 2, 0, 1, 1, 1, 2, 1, 1, 2, 2,\n       1, 2, 2, 1, 2, 1, 1, 1, 2, 2, 0, 2, 1, 2, 2, 0, 1, 0, 0, 0, 1, 1,\n       0, 1, 2, 2, 2, 1, 2, 2, 2, 1, 0, 2, 2, 0, 1, 1, 1, 1, 2, 1, 2, 2,\n       0, 2, 0, 1, 2, 1, 2, 0, 1, 1, 0, 1, 1, 1, 1, 0, 0, 0, 1, 2, 2, 2,\n       1, 0, 1, 2, 1, 1, 0, 2, 0, 0, 0, 1, 2, 1, 2, 2, 2, 0, 0, 2, 2, 2,\n       2, 2, 2, 2, 2, 2, 1, 2, 1, 1, 1, 0, 1, 0, 2, 0, 0, 0, 0, 1, 0, 2,\n       2, 2, 1, 1, 1, 0, 0, 1, 2, 1, 2, 1, 2, 2, 1, 1, 0, 2, 2, 0, 0, 2,\n       2, 1, 1, 1, 1, 0, 2, 2, 0, 0, 1, 1, 2, 1, 2, 0, 0, 1, 0, 0, 1, 1,\n       2, 2, 1, 1, 0, 1, 1, 2, 2, 0, 2, 0, 2, 1, 0, 1, 1, 1, 2, 0, 2, 0,\n       0, 1, 0, 2, 1, 1, 0, 0, 2, 1, 2, 1, 2, 2, 0, 2, 2, 2, 1, 0, 2, 1,\n       2, 2, 2, 0, 0, 1, 0, 1, 0, 2, 2, 2, 0, 0, 1, 0, 0, 0, 0, 1, 2, 1,\n       2, 0, 2, 1, 1, 2, 0, 0, 1, 0, 1, 1, 0, 0, 0, 2, 0, 2, 2, 2, 1, 1,\n       0, 1, 1, 2, 2, 1, 1, 2, 1, 1, 1, 1, 1, 0, 1, 1, 2, 2, 1, 0, 2, 0,\n       1, 2, 2, 0, 0, 1, 1, 1, 0, 0, 1, 1, 0, 0, 0, 1, 1, 1, 0, 1, 2, 2,\n       2, 1, 1, 1, 2, 1, 0, 0, 2, 2, 1, 0, 1, 1, 2, 0, 2, 2, 1, 2, 2, 2,\n       1, 2, 1, 0, 1, 2, 0, 1, 1, 2, 2, 1, 2, 1, 2, 1, 1, 0, 1, 2, 1, 2,\n       1, 2, 1, 2, 0, 1, 2, 2, 0, 1, 1, 0, 2, 1, 2, 2, 0, 2, 2, 1, 2, 0,\n       0, 0, 1, 0, 2, 1, 2, 0, 1, 0, 2, 0, 1, 2, 1, 0, 1, 1, 0, 0, 1, 2,\n       1, 1, 2, 0, 2, 2, 2, 2, 2, 2, 0, 1, 0, 0, 1, 0, 1, 0, 1, 1, 1, 1,\n       0, 1, 2, 1, 2, 1, 0, 0, 0, 1, 0, 2, 1, 1, 2, 2, 1, 0, 1, 0, 1, 2,\n       2, 2, 1, 2, 0, 2, 2, 2, 1, 1, 1, 1, 0, 2, 1, 1, 1, 0, 2, 1, 2, 0,\n       0, 1, 1, 0, 1, 2, 1, 0, 2, 2, 0, 1, 2, 0, 1, 0, 0, 0, 2, 2, 2, 0,\n       1, 2, 0, 2, 2, 1, 1, 2, 0, 0, 0, 1, 1, 0, 2, 1, 0, 1, 0, 2, 1, 0,\n       2, 0, 0, 2, 0, 1, 1, 2, 2, 2, 0, 2, 1, 1, 2, 0, 2, 2, 0, 1, 1, 1,\n       0, 0, 0, 0, 2, 2, 2, 2, 1, 1, 0, 1, 2, 2, 0, 0, 2, 1, 0, 0, 1, 2,\n       0, 2, 1, 2, 2, 0, 1, 1, 0, 1, 2, 1, 1, 2, 0, 2, 2, 0, 1, 2, 2, 1,\n       1, 0, 1, 0, 0, 2, 0, 2, 1, 1, 2, 1, 2, 2, 0, 1, 1, 1, 2, 2, 0, 0,\n       1, 2, 0, 2, 1, 0, 1, 2, 2, 2, 2, 2, 0, 0, 0, 1, 0, 1, 2, 1, 2, 0,\n       0, 1, 0, 0, 0, 2, 0, 0, 1, 2, 1, 1, 1, 2, 2, 0, 0, 1, 0, 1, 1, 1,\n       1, 1, 2, 0, 1, 0, 1, 2, 2, 1, 0, 1, 0, 0, 0, 1, 2, 2, 0, 2, 0, 0,\n       2, 1, 1, 0, 1, 1, 2, 0, 0, 1, 1, 1, 2, 1, 1, 2, 1, 2, 1, 2, 2, 1,\n       1, 1, 1, 2, 0, 0, 2, 1, 1, 1, 2, 0, 2, 2, 0, 2, 0, 2, 0, 1, 1, 2,\n       0, 1, 0, 0, 0, 1, 1, 2, 1, 1, 2, 1, 0, 1, 2, 1, 2, 0, 1, 2, 2, 2,\n       2, 0, 2, 2, 2, 2, 0, 1, 0, 0, 0, 2, 1, 0, 2, 0, 1, 2, 2, 1, 1, 0,\n       1, 0, 2, 2, 2, 2, 0, 2, 2, 0, 1, 2, 1, 0, 1, 0, 0, 1, 0, 1, 0, 1,\n       1, 1, 1, 1, 0, 2, 0, 0, 2, 1, 0, 2, 1, 2, 0, 1, 2, 0, 2, 1, 0, 0,\n       1, 2, 0, 1, 0, 2, 0, 2, 2, 2, 1, 2, 1, 1, 2, 2, 0, 2, 0, 1, 0, 1,\n       2, 1, 0, 2, 1, 0, 2, 1, 0, 1, 2, 2, 1, 0, 1, 2, 0, 0, 2, 2, 2, 0,\n       1, 2, 1, 0, 0, 2, 2, 2, 0, 2, 2, 2, 1, 0, 2, 0, 1, 1, 0, 2, 2, 2,\n       2, 0, 0, 0, 1, 1, 0, 1, 0, 1, 1, 0, 2, 2, 1, 1, 0, 0, 2, 2, 1, 1,\n       2, 0, 0, 0, 1, 1, 0, 1, 2, 2, 1, 0, 0, 1, 1, 2, 1, 2, 2, 0, 0, 2,\n       2, 2, 0, 1, 1, 2, 2, 1, 2, 0, 0, 1, 1, 0, 0, 1, 1, 0, 0, 2, 2, 1,\n       1, 0, 2, 0, 1, 2, 2, 1, 0, 2, 2, 1, 0, 0, 1, 1, 0, 2, 1, 0, 1, 2,\n       1, 0, 1, 2, 2, 1, 2, 1, 2, 1, 2, 0, 1, 0, 1, 0, 2, 2, 0, 1, 0, 0,\n       0, 2, 0, 0, 0, 2, 2, 1, 2, 0, 0, 0, 0, 2, 1, 1, 1, 2, 0, 2, 0, 0,\n       0, 0, 2, 0, 0, 2, 2, 0, 2, 2])"
     },
     "execution_count": 20,
     "metadata": {},
     "output_type": "execute_result"
    }
   ],
   "source": [
    "target_le = LabelEncoder()\n",
    "\n",
    "y = target_le.fit_transform(y)\n",
    "\n",
    "y"
   ],
   "metadata": {
    "collapsed": false,
    "ExecuteTime": {
     "end_time": "2024-03-22T02:50:54.274466Z",
     "start_time": "2024-03-22T02:50:54.271795Z"
    }
   },
   "id": "534a14ae6ccd9c7c",
   "execution_count": 20
  },
  {
   "cell_type": "code",
   "outputs": [
    {
     "data": {
      "text/plain": "(800, 200, 800, 200)"
     },
     "execution_count": 21,
     "metadata": {},
     "output_type": "execute_result"
    }
   ],
   "source": [
    "# X = X.drop(columns=['Cause_of_Visit'])\n",
    "\n",
    "X_train, X_test, y_train, y_test = train_test_split(X, y, test_size=0.2, random_state=42)\n",
    "\n",
    "len(X_train), len(X_test), len(y_train), len(y_test)"
   ],
   "metadata": {
    "collapsed": false,
    "ExecuteTime": {
     "end_time": "2024-03-22T02:50:54.277678Z",
     "start_time": "2024-03-22T02:50:54.274989Z"
    }
   },
   "id": "2cc566080427580a",
   "execution_count": 21
  },
  {
   "cell_type": "code",
   "outputs": [
    {
     "data": {
      "text/plain": "RandomForestClassifier(criterion='entropy', n_estimators=200, random_state=42)",
      "text/html": "<style>#sk-container-id-1 {color: black;}#sk-container-id-1 pre{padding: 0;}#sk-container-id-1 div.sk-toggleable {background-color: white;}#sk-container-id-1 label.sk-toggleable__label {cursor: pointer;display: block;width: 100%;margin-bottom: 0;padding: 0.3em;box-sizing: border-box;text-align: center;}#sk-container-id-1 label.sk-toggleable__label-arrow:before {content: \"▸\";float: left;margin-right: 0.25em;color: #696969;}#sk-container-id-1 label.sk-toggleable__label-arrow:hover:before {color: black;}#sk-container-id-1 div.sk-estimator:hover label.sk-toggleable__label-arrow:before {color: black;}#sk-container-id-1 div.sk-toggleable__content {max-height: 0;max-width: 0;overflow: hidden;text-align: left;background-color: #f0f8ff;}#sk-container-id-1 div.sk-toggleable__content pre {margin: 0.2em;color: black;border-radius: 0.25em;background-color: #f0f8ff;}#sk-container-id-1 input.sk-toggleable__control:checked~div.sk-toggleable__content {max-height: 200px;max-width: 100%;overflow: auto;}#sk-container-id-1 input.sk-toggleable__control:checked~label.sk-toggleable__label-arrow:before {content: \"▾\";}#sk-container-id-1 div.sk-estimator input.sk-toggleable__control:checked~label.sk-toggleable__label {background-color: #d4ebff;}#sk-container-id-1 div.sk-label input.sk-toggleable__control:checked~label.sk-toggleable__label {background-color: #d4ebff;}#sk-container-id-1 input.sk-hidden--visually {border: 0;clip: rect(1px 1px 1px 1px);clip: rect(1px, 1px, 1px, 1px);height: 1px;margin: -1px;overflow: hidden;padding: 0;position: absolute;width: 1px;}#sk-container-id-1 div.sk-estimator {font-family: monospace;background-color: #f0f8ff;border: 1px dotted black;border-radius: 0.25em;box-sizing: border-box;margin-bottom: 0.5em;}#sk-container-id-1 div.sk-estimator:hover {background-color: #d4ebff;}#sk-container-id-1 div.sk-parallel-item::after {content: \"\";width: 100%;border-bottom: 1px solid gray;flex-grow: 1;}#sk-container-id-1 div.sk-label:hover label.sk-toggleable__label {background-color: #d4ebff;}#sk-container-id-1 div.sk-serial::before {content: \"\";position: absolute;border-left: 1px solid gray;box-sizing: border-box;top: 0;bottom: 0;left: 50%;z-index: 0;}#sk-container-id-1 div.sk-serial {display: flex;flex-direction: column;align-items: center;background-color: white;padding-right: 0.2em;padding-left: 0.2em;position: relative;}#sk-container-id-1 div.sk-item {position: relative;z-index: 1;}#sk-container-id-1 div.sk-parallel {display: flex;align-items: stretch;justify-content: center;background-color: white;position: relative;}#sk-container-id-1 div.sk-item::before, #sk-container-id-1 div.sk-parallel-item::before {content: \"\";position: absolute;border-left: 1px solid gray;box-sizing: border-box;top: 0;bottom: 0;left: 50%;z-index: -1;}#sk-container-id-1 div.sk-parallel-item {display: flex;flex-direction: column;z-index: 1;position: relative;background-color: white;}#sk-container-id-1 div.sk-parallel-item:first-child::after {align-self: flex-end;width: 50%;}#sk-container-id-1 div.sk-parallel-item:last-child::after {align-self: flex-start;width: 50%;}#sk-container-id-1 div.sk-parallel-item:only-child::after {width: 0;}#sk-container-id-1 div.sk-dashed-wrapped {border: 1px dashed gray;margin: 0 0.4em 0.5em 0.4em;box-sizing: border-box;padding-bottom: 0.4em;background-color: white;}#sk-container-id-1 div.sk-label label {font-family: monospace;font-weight: bold;display: inline-block;line-height: 1.2em;}#sk-container-id-1 div.sk-label-container {text-align: center;}#sk-container-id-1 div.sk-container {/* jupyter's `normalize.less` sets `[hidden] { display: none; }` but bootstrap.min.css set `[hidden] { display: none !important; }` so we also need the `!important` here to be able to override the default hidden behavior on the sphinx rendered scikit-learn.org. See: https://github.com/scikit-learn/scikit-learn/issues/21755 */display: inline-block !important;position: relative;}#sk-container-id-1 div.sk-text-repr-fallback {display: none;}</style><div id=\"sk-container-id-1\" class=\"sk-top-container\"><div class=\"sk-text-repr-fallback\"><pre>RandomForestClassifier(criterion=&#x27;entropy&#x27;, n_estimators=200, random_state=42)</pre><b>In a Jupyter environment, please rerun this cell to show the HTML representation or trust the notebook. <br />On GitHub, the HTML representation is unable to render, please try loading this page with nbviewer.org.</b></div><div class=\"sk-container\" hidden><div class=\"sk-item\"><div class=\"sk-estimator sk-toggleable\"><input class=\"sk-toggleable__control sk-hidden--visually\" id=\"sk-estimator-id-1\" type=\"checkbox\" checked><label for=\"sk-estimator-id-1\" class=\"sk-toggleable__label sk-toggleable__label-arrow\">RandomForestClassifier</label><div class=\"sk-toggleable__content\"><pre>RandomForestClassifier(criterion=&#x27;entropy&#x27;, n_estimators=200, random_state=42)</pre></div></div></div></div></div>"
     },
     "execution_count": 22,
     "metadata": {},
     "output_type": "execute_result"
    }
   ],
   "source": [
    "rfc_model = RandomForestClassifier(n_estimators=200, random_state=42, criterion='entropy')\n",
    "\n",
    "rfc_model.fit(X_train, y_train)"
   ],
   "metadata": {
    "collapsed": false,
    "ExecuteTime": {
     "end_time": "2024-03-22T02:50:54.433295Z",
     "start_time": "2024-03-22T02:50:54.278131Z"
    }
   },
   "id": "755edba2c48b3dc9",
   "execution_count": 22
  },
  {
   "cell_type": "code",
   "outputs": [
    {
     "name": "stdout",
     "output_type": "stream",
     "text": [
      "['Severe' 'Mild' 'Severe' 'Severe' 'Mild' 'Severe' 'Moderate' 'Mild'\n",
      " 'Severe' 'Mild' 'Mild' 'Moderate' 'Moderate' 'Moderate' 'Severe'\n",
      " 'Moderate' 'Mild' 'Severe' 'Mild' 'Mild' 'Moderate' 'Mild' 'Moderate'\n",
      " 'Mild' 'Mild' 'Severe' 'Moderate' 'Mild' 'Severe' 'Moderate' 'Mild'\n",
      " 'Mild' 'Mild' 'Moderate' 'Mild' 'Mild' 'Severe' 'Moderate' 'Severe'\n",
      " 'Mild' 'Mild' 'Severe' 'Moderate' 'Severe' 'Severe' 'Mild' 'Moderate'\n",
      " 'Severe' 'Severe' 'Severe' 'Mild' 'Severe' 'Moderate' 'Moderate' 'Mild'\n",
      " 'Moderate' 'Severe' 'Mild' 'Mild' 'Moderate' 'Severe' 'Moderate' 'Mild'\n",
      " 'Mild' 'Mild' 'Mild' 'Moderate' 'Mild' 'Severe' 'Severe' 'Moderate'\n",
      " 'Mild' 'Severe' 'Moderate' 'Severe' 'Mild' 'Moderate' 'Mild' 'Moderate'\n",
      " 'Mild' 'Moderate' 'Mild' 'Moderate' 'Severe' 'Mild' 'Severe' 'Moderate'\n",
      " 'Severe' 'Moderate' 'Severe' 'Moderate' 'Severe' 'Severe' 'Mild'\n",
      " 'Moderate' 'Mild' 'Moderate' 'Mild' 'Moderate' 'Moderate' 'Severe' 'Mild'\n",
      " 'Mild' 'Mild' 'Moderate' 'Moderate' 'Severe' 'Severe' 'Moderate' 'Mild'\n",
      " 'Mild' 'Severe' 'Moderate' 'Moderate' 'Severe' 'Mild' 'Mild' 'Moderate'\n",
      " 'Moderate' 'Severe' 'Severe' 'Mild' 'Mild' 'Moderate' 'Severe' 'Moderate'\n",
      " 'Mild' 'Mild' 'Moderate' 'Severe' 'Moderate' 'Severe' 'Moderate' 'Severe'\n",
      " 'Moderate' 'Moderate' 'Moderate' 'Mild' 'Moderate' 'Moderate' 'Moderate'\n",
      " 'Moderate' 'Moderate' 'Severe' 'Severe' 'Moderate' 'Moderate' 'Mild'\n",
      " 'Moderate' 'Mild' 'Severe' 'Severe' 'Moderate' 'Mild' 'Mild' 'Severe'\n",
      " 'Moderate' 'Mild' 'Severe' 'Severe' 'Moderate' 'Mild' 'Moderate' 'Severe'\n",
      " 'Mild' 'Severe' 'Severe' 'Moderate' 'Mild' 'Severe' 'Moderate' 'Severe'\n",
      " 'Severe' 'Moderate' 'Mild' 'Severe' 'Severe' 'Moderate' 'Moderate'\n",
      " 'Moderate' 'Moderate' 'Moderate' 'Moderate' 'Mild' 'Mild' 'Severe' 'Mild'\n",
      " 'Severe' 'Severe' 'Mild' 'Severe' 'Severe' 'Mild' 'Moderate' 'Severe'\n",
      " 'Mild' 'Mild' 'Severe' 'Severe' 'Moderate']\n"
     ]
    },
    {
     "data": {
      "text/plain": "0.36"
     },
     "execution_count": 23,
     "metadata": {},
     "output_type": "execute_result"
    }
   ],
   "source": [
    "y_preds = rfc_model.predict(X_test)\n",
    "\n",
    "print(target_le.inverse_transform(y_preds))\n",
    "accuracy_score(y_test, y_preds)"
   ],
   "metadata": {
    "collapsed": false,
    "ExecuteTime": {
     "end_time": "2024-03-22T02:50:54.445173Z",
     "start_time": "2024-03-22T02:50:54.434080Z"
    }
   },
   "id": "5cd01f7eba5df4f2",
   "execution_count": 23
  }
 ],
 "metadata": {
  "kernelspec": {
   "display_name": "Python 3",
   "language": "python",
   "name": "python3"
  },
  "language_info": {
   "codemirror_mode": {
    "name": "ipython",
    "version": 2
   },
   "file_extension": ".py",
   "mimetype": "text/x-python",
   "name": "python",
   "nbconvert_exporter": "python",
   "pygments_lexer": "ipython2",
   "version": "2.7.6"
  }
 },
 "nbformat": 4,
 "nbformat_minor": 5
}
