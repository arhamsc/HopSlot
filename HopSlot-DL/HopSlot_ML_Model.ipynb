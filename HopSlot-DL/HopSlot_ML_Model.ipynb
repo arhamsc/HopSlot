{
 "cells": [
  {
   "cell_type": "markdown",
   "source": [
    "# HopSlot - Machine Learning Model"
   ],
   "metadata": {
    "collapsed": false
   },
   "id": "a7440c06ff6aec78"
  },
  {
   "cell_type": "markdown",
   "source": [
    "## Import modules and dataset "
   ],
   "metadata": {
    "collapsed": false
   },
   "id": "812b67d0a4f1ea32"
  },
  {
   "cell_type": "code",
   "outputs": [],
   "source": [
    "import pandas as pd\n",
    "from sklearn.model_selection import train_test_split\n",
    "from sklearn.ensemble import RandomForestClassifier\n",
    "from sklearn.feature_extraction.text import TfidfVectorizer\n",
    "from sklearn.metrics import accuracy_score, precision_score, recall_score, f1_score"
   ],
   "metadata": {
    "collapsed": false,
    "ExecuteTime": {
     "end_time": "2024-03-21T12:58:26.073563Z",
     "start_time": "2024-03-21T12:58:26.053610Z"
    }
   },
   "id": "d17df812c61b4f11",
   "execution_count": 186
  },
  {
   "cell_type": "code",
   "execution_count": 187,
   "id": "initial_id",
   "metadata": {
    "collapsed": true,
    "ExecuteTime": {
     "end_time": "2024-03-21T12:58:26.075203Z",
     "start_time": "2024-03-21T12:58:26.063378Z"
    }
   },
   "outputs": [],
   "source": [
    "disease_df = pd.read_csv(\"./datasets/diseases_dataset.csv\")\n",
    "patient_df = pd.read_csv(\"./datasets/patient_data.csv\")"
   ]
  },
  {
   "cell_type": "markdown",
   "source": [
    "## Disease Prediction based on Symptoms ML Model"
   ],
   "metadata": {
    "collapsed": false
   },
   "id": "38c7e628e0538842"
  },
  {
   "cell_type": "markdown",
   "source": [
    "### Data Preprocessing"
   ],
   "metadata": {
    "collapsed": false
   },
   "id": "7770621bd3751b44"
  },
  {
   "cell_type": "code",
   "outputs": [
    {
     "data": {
      "text/plain": "                     disease  \\\n0                        flu   \n1                 bronchitis   \n2                  pneumonia   \n3               heart attack   \n4                     stroke   \n..                       ...   \n94                 epilepsy    \n95              fibromyalgia   \n96           graves' disease   \n97  hashimoto's thyroiditis    \n98                     lupus   \n\n                                             symptoms  \\\n0   [fever, cough, sore throat, runny or stuffy no...   \n1   [cough, mucus production, shortness of breath,...   \n2   [fever, cough, shortness of breath, chest pain...   \n3   [chest pain, shortness of breath, nausea, vomi...   \n4   [sudden weakness, numbness on one side of the ...   \n..                                                ...   \n94                                         [seizures]   \n95             [widespread pain, fatigue, tenderness]   \n96  [hyperthyroidism, which is an overactive thyroid]   \n97  [hypothyroidism, which is an underactive thyro...   \n98  [chronic autoimmune disease that can affect an...   \n\n                                                cures  \\\n0            over-the-counter medications,rest,fluids   \n1   antibiotics,over-the-counter medications,rest,...   \n2   antibiotics,over-the-counter medications,rest,...   \n3                          emergency medical services   \n4                          emergency medical services   \n..                                                ...   \n94                                 medication,surgery   \n95                       medication,lifestyle changes   \n96                                 medication,surgery   \n97                                         medication   \n98                       medication,lifestyle changes   \n\n                         doctor     risk level  \n0     family doctor,urgent care      low (0.1%  \n1   family doctor,pulmonologist      low (0.5%  \n2   family doctor,pulmonologist  moderate (1%)  \n3                  cardiologist     high (20%)  \n4                  neurologist      high (15%)  \n..                          ...            ...  \n94                  neurologist         varies  \n95               rheumatologist         varies  \n96              endocrinologist         varies  \n97              endocrinologist         varies  \n98              rheumatologist          varies  \n\n[99 rows x 5 columns]",
      "text/html": "<div>\n<style scoped>\n    .dataframe tbody tr th:only-of-type {\n        vertical-align: middle;\n    }\n\n    .dataframe tbody tr th {\n        vertical-align: top;\n    }\n\n    .dataframe thead th {\n        text-align: right;\n    }\n</style>\n<table border=\"1\" class=\"dataframe\">\n  <thead>\n    <tr style=\"text-align: right;\">\n      <th></th>\n      <th>disease</th>\n      <th>symptoms</th>\n      <th>cures</th>\n      <th>doctor</th>\n      <th>risk level</th>\n    </tr>\n  </thead>\n  <tbody>\n    <tr>\n      <th>0</th>\n      <td>flu</td>\n      <td>[fever, cough, sore throat, runny or stuffy no...</td>\n      <td>over-the-counter medications,rest,fluids</td>\n      <td>family doctor,urgent care</td>\n      <td>low (0.1%</td>\n    </tr>\n    <tr>\n      <th>1</th>\n      <td>bronchitis</td>\n      <td>[cough, mucus production, shortness of breath,...</td>\n      <td>antibiotics,over-the-counter medications,rest,...</td>\n      <td>family doctor,pulmonologist</td>\n      <td>low (0.5%</td>\n    </tr>\n    <tr>\n      <th>2</th>\n      <td>pneumonia</td>\n      <td>[fever, cough, shortness of breath, chest pain...</td>\n      <td>antibiotics,over-the-counter medications,rest,...</td>\n      <td>family doctor,pulmonologist</td>\n      <td>moderate (1%)</td>\n    </tr>\n    <tr>\n      <th>3</th>\n      <td>heart attack</td>\n      <td>[chest pain, shortness of breath, nausea, vomi...</td>\n      <td>emergency medical services</td>\n      <td>cardiologist</td>\n      <td>high (20%)</td>\n    </tr>\n    <tr>\n      <th>4</th>\n      <td>stroke</td>\n      <td>[sudden weakness, numbness on one side of the ...</td>\n      <td>emergency medical services</td>\n      <td>neurologist</td>\n      <td>high (15%)</td>\n    </tr>\n    <tr>\n      <th>...</th>\n      <td>...</td>\n      <td>...</td>\n      <td>...</td>\n      <td>...</td>\n      <td>...</td>\n    </tr>\n    <tr>\n      <th>94</th>\n      <td>epilepsy</td>\n      <td>[seizures]</td>\n      <td>medication,surgery</td>\n      <td>neurologist</td>\n      <td>varies</td>\n    </tr>\n    <tr>\n      <th>95</th>\n      <td>fibromyalgia</td>\n      <td>[widespread pain, fatigue, tenderness]</td>\n      <td>medication,lifestyle changes</td>\n      <td>rheumatologist</td>\n      <td>varies</td>\n    </tr>\n    <tr>\n      <th>96</th>\n      <td>graves' disease</td>\n      <td>[hyperthyroidism, which is an overactive thyroid]</td>\n      <td>medication,surgery</td>\n      <td>endocrinologist</td>\n      <td>varies</td>\n    </tr>\n    <tr>\n      <th>97</th>\n      <td>hashimoto's thyroiditis</td>\n      <td>[hypothyroidism, which is an underactive thyro...</td>\n      <td>medication</td>\n      <td>endocrinologist</td>\n      <td>varies</td>\n    </tr>\n    <tr>\n      <th>98</th>\n      <td>lupus</td>\n      <td>[chronic autoimmune disease that can affect an...</td>\n      <td>medication,lifestyle changes</td>\n      <td>rheumatologist</td>\n      <td>varies</td>\n    </tr>\n  </tbody>\n</table>\n<p>99 rows × 5 columns</p>\n</div>"
     },
     "execution_count": 188,
     "metadata": {},
     "output_type": "execute_result"
    }
   ],
   "source": [
    "# Convert the csv of symptoms to list in python\n",
    "disease_df['symptoms'] = disease_df.apply(lambda x: x['symptoms'].split(\",\"), axis=1)\n",
    "\n",
    "disease_df"
   ],
   "metadata": {
    "collapsed": false,
    "ExecuteTime": {
     "end_time": "2024-03-21T12:58:26.085913Z",
     "start_time": "2024-03-21T12:58:26.081398Z"
    }
   },
   "id": "b4366322b0a29992",
   "execution_count": 188
  },
  {
   "cell_type": "code",
   "outputs": [
    {
     "data": {
      "text/plain": "                     disease  \\\n0                        flu   \n1                 bronchitis   \n2                  pneumonia   \n3               heart attack   \n4                     stroke   \n..                       ...   \n94                 epilepsy    \n95              fibromyalgia   \n96           graves' disease   \n97  hashimoto's thyroiditis    \n98                     lupus   \n\n                                             symptoms  \n0   [fever, cough, sore throat, runny or stuffy no...  \n1   [cough, mucus production, shortness of breath,...  \n2   [fever, cough, shortness of breath, chest pain...  \n3   [chest pain, shortness of breath, nausea, vomi...  \n4   [sudden weakness, numbness on one side of the ...  \n..                                                ...  \n94                                         [seizures]  \n95             [widespread pain, fatigue, tenderness]  \n96  [hyperthyroidism, which is an overactive thyroid]  \n97  [hypothyroidism, which is an underactive thyro...  \n98  [chronic autoimmune disease that can affect an...  \n\n[99 rows x 2 columns]",
      "text/html": "<div>\n<style scoped>\n    .dataframe tbody tr th:only-of-type {\n        vertical-align: middle;\n    }\n\n    .dataframe tbody tr th {\n        vertical-align: top;\n    }\n\n    .dataframe thead th {\n        text-align: right;\n    }\n</style>\n<table border=\"1\" class=\"dataframe\">\n  <thead>\n    <tr style=\"text-align: right;\">\n      <th></th>\n      <th>disease</th>\n      <th>symptoms</th>\n    </tr>\n  </thead>\n  <tbody>\n    <tr>\n      <th>0</th>\n      <td>flu</td>\n      <td>[fever, cough, sore throat, runny or stuffy no...</td>\n    </tr>\n    <tr>\n      <th>1</th>\n      <td>bronchitis</td>\n      <td>[cough, mucus production, shortness of breath,...</td>\n    </tr>\n    <tr>\n      <th>2</th>\n      <td>pneumonia</td>\n      <td>[fever, cough, shortness of breath, chest pain...</td>\n    </tr>\n    <tr>\n      <th>3</th>\n      <td>heart attack</td>\n      <td>[chest pain, shortness of breath, nausea, vomi...</td>\n    </tr>\n    <tr>\n      <th>4</th>\n      <td>stroke</td>\n      <td>[sudden weakness, numbness on one side of the ...</td>\n    </tr>\n    <tr>\n      <th>...</th>\n      <td>...</td>\n      <td>...</td>\n    </tr>\n    <tr>\n      <th>94</th>\n      <td>epilepsy</td>\n      <td>[seizures]</td>\n    </tr>\n    <tr>\n      <th>95</th>\n      <td>fibromyalgia</td>\n      <td>[widespread pain, fatigue, tenderness]</td>\n    </tr>\n    <tr>\n      <th>96</th>\n      <td>graves' disease</td>\n      <td>[hyperthyroidism, which is an overactive thyroid]</td>\n    </tr>\n    <tr>\n      <th>97</th>\n      <td>hashimoto's thyroiditis</td>\n      <td>[hypothyroidism, which is an underactive thyro...</td>\n    </tr>\n    <tr>\n      <th>98</th>\n      <td>lupus</td>\n      <td>[chronic autoimmune disease that can affect an...</td>\n    </tr>\n  </tbody>\n</table>\n<p>99 rows × 2 columns</p>\n</div>"
     },
     "execution_count": 189,
     "metadata": {},
     "output_type": "execute_result"
    }
   ],
   "source": [
    "# Drop Unnecessary Columns\n",
    "disease_df = disease_df.drop(columns=['cures', 'doctor', 'risk level'])\n",
    "\n",
    "disease_df"
   ],
   "metadata": {
    "collapsed": false,
    "ExecuteTime": {
     "end_time": "2024-03-21T12:58:26.101508Z",
     "start_time": "2024-03-21T12:58:26.087198Z"
    }
   },
   "id": "5d3da08380e28cdc",
   "execution_count": 189
  },
  {
   "cell_type": "code",
   "outputs": [
    {
     "data": {
      "text/plain": "(array([list(['fever', 'cough', 'sore throat', 'runny or stuffy nose', 'muscle aches', 'headache', 'fatigue']),\n        list(['cough', 'mucus production', 'shortness of breath', 'chest pain']),\n        list(['fever', 'cough', 'shortness of breath', 'chest pain', 'fatigue']),\n        list(['chest pain', 'shortness of breath', 'nausea', 'vomiting', 'lightheadedness', 'sweating']),\n        list(['sudden weakness', 'numbness on one side of the body', 'confusion', 'difficulty speaking', 'trouble seeing in one eye', 'severe headache']),\n        list(['lump', 'unexplained weight loss', 'fatigue', 'changes in bowel', 'bladder habits', 'persistent cough', 'indigestion', 'unexplained bleeding or discharge']),\n        list(['increased thirst', 'frequent urination', 'unexplained weight loss', 'fatigue', 'blurred vision', 'cuts that are slow to heal']),\n        list(['memory loss', 'confusion', 'difficulty thinking', 'changes in personality or behavior']),\n        list(['pain', 'stiffness', 'swelling', 'inflammation in the joints']),\n        list(['fever', 'sore throat', 'cough', 'conjunctivitis', 'rash', 'pink eye']),\n        list(['vomiting', 'diarrhea', 'jaundice', 'liver damage', 'death']),\n        list(['physical dependence on alcohol', 'tolerance to alcohol', 'withdrawal symptoms', 'impaired judgment', 'memory problems', 'liver damage', 'heart disease', 'cancer']),\n        list(['runny nose', 'sneezing', 'itchy eyes', 'itchy nose', 'throat', 'palate']),\n        list(['memory loss', 'confusion', 'difficulty thinking', 'changes in personality or behavior']),\n        list(['fatigue', 'shortness of breath', 'pale skin', 'lightheadedness', 'dizziness']),\n        list(['excessive worry', 'fear', 'anxiety that interfere with daily life']),\n        list(['pain in the lower right abdomen', 'nausea', 'vomiting', 'fever']),\n        list(['pain', 'stiffness', 'swelling', 'inflammation in the joints']),\n        list(['difficulty with social interaction', 'repetitive behaviors', 'restricted interests']),\n        list(['wheezing', 'shortness of breath', 'coughing', 'chest tightness']),\n        list(['fever', 'headache', 'stiff neck', 'nausea', 'vomiting', 'sensitivity to light']),\n        list(['extreme mood swings', 'from manito depression']),\n        list(['blood in the urine', 'pain or burning when urinating', 'frequent urination', 'urgency to urinate', 'incontinence']),\n        list(['pain', 'swelling', 'redness', 'warmth', 'tenderness in the affected area', 'shortness of breath', 'chest pain', 'difficulty breathing', 'coughing up blood']),\n        list(['cough', 'mucus production', 'shortness of breath', 'chest pain']),\n        list(['pain', 'swelling', 'inflammation in bursa', 'which is small sac of fluid that cushions joints']),\n        list(['lump', 'unexplained weight loss', 'fatigue', 'changes in bowel', 'bladder habits', 'persistent cough', 'indigestion', 'unexplained bleeding or discharge']),\n        list(['abnormal pap test results', 'abnormal vaginal bleeding', 'pain during sex']),\n        list(['rash', 'fever', 'headache', 'muscle aches', 'fatigue']),\n        list(['chronic bronchitis', 'emphysema']),\n        list(['high levels of cholesterol in the blood']),\n        list(['runny nose', 'sneezing', 'sore throat', 'cough', 'congestion']),\n        list(['red', 'itchy', 'watery eyes']),\n        list(['sadness', 'hopelessness', 'loss of interest in activities', 'changes in appetite', 'sleep', 'energy levels']),\n        list(['increased thirst', 'frequent urination', 'unexplained weight loss', 'fatigue', 'blurred vision', 'cuts that are slow to heal']),\n        list(['loose', 'watery stools']),\n        list(['disturbance in eating behavior that can lead to serious health problems']),\n        list(['seizures']), list(['elevated body temperature ']),\n        list(['nausea', 'vomiting', 'diarrhea', 'abdominal cramps']),\n        list(['pain in the upper right abdomen', 'nausea', 'vomiting', 'fever']),\n        list(['sexually transmitted infection that can cause burning during urination', 'discharge from the penis or vagina', 'pain in the lower abdomen']),\n        list(['chest pain', 'shortness of breath', 'fatigue', 'dizziness', 'fainting']),\n        list(['inflammation of the liver']),\n        list(['sexually transmitted infection that can cause blisters on the genitals', 'mouth', 'other parts of the body']),\n        list(['fever', 'cough', 'sore throat', 'runny or stuffy nose', 'muscle aches', 'headache', 'fatigue']),\n        list(['abdominal pain', 'bloating', 'constipation', 'diarrhea']),\n        list(['pain in the lower back or side', 'nausea', 'vomiting', 'blood in the urine']),\n        list(['cough that does not go away', 'shortness of breath', 'chest pain', 'unexplained weight loss', 'fatigue', 'blood in the sputum']),\n        list(['fever', 'chills', 'sweating', 'headache', 'muscle aches', 'fatigue', 'vomiting', 'diarrhea']),\n        list(['fever', 'cough', 'runny nose', 'red eyes', 'sore throat', 'rash']),\n        list(['fever', 'headache', 'stiff neck', 'nausea', 'vomiting', 'sensitivity to light']),\n        list(['fever', 'sore throat', 'fatigue', 'swollen lymph nodes', 'rash']),\n        list(['fever', 'cough', 'shortness of breath', 'chest pain', 'fatigue']),\n        list(['fever', 'headache', 'muscle aches', 'tingling at the bite site', 'difficulty swallowing', 'hydrophobia', 'aerophobia']),\n        list(['fever', 'diarrhea', 'abdominal cramps', 'nausea', 'vomiting']),\n        list(['painful rash that follows nerve path']),\n        list(['cough that does not go away', 'fever', 'night sweats', 'weight loss', 'fatigue', 'chest pain']),\n        list(['painful urination', 'burning', 'frequent urination', 'urgency to urinate', 'blood in the urine']),\n        list(['swollen', 'twisted veins', 'usually in the legs']),\n        list(['raised', 'rough growths on the skin']),\n        list(['itching', 'burning', 'discharge from the vaginor penis']),\n        list(['pain', 'redness', 'inflammation in the eye']),\n        list(['pain in the lower right abdomen', 'nausea', 'vomiting', 'fever']),\n        list(['decreased kidney function']),\n        list(['memory loss', 'confusion', 'difficulty thinking', 'changes in personality or behavior']),\n        list(['fatigue', 'shortness of breath', 'pale skin', 'lightheadedness', 'dizziness']),\n        list(['bulge in the wall of the aorta', 'the largest artery in the body']),\n        list(['fever', 'headache', 'stiff neck', 'nausea', 'vomiting', 'sensitivity to light']),\n        list(['extreme mood swings', 'from manito depression']),\n        list(['abnormal pap test results', 'abnormal vaginal bleeding', 'pain during sex']),\n        list(['change in bowel habits', 'such as diarrhea', 'constipation', 'narrowing of the stool', 'blood in the stool', 'abdominal pain', 'unexplained weight loss']),\n        list(['memory loss', 'confusion', 'difficulty thinking', 'changes in personality or behavior']),\n        list(['difficulty getting', 'keeping an erection ']),\n        list(['widespread pain', 'fatigue', 'tenderness']),\n        list(['increased pressure in the eye that can damage the optic nerve', 'lead to vision loss']),\n        list(['condition in which the heart cannot pump blood as well as it should']),\n        list(['damage to the kidneys that can lead to kidney failure']),\n        list(['condition that affects the lungs', 'can make it difficult to breathe']),\n        list(['tremors', 'slow movement', 'stiffness', 'difficulty with balance', 'coordination ']),\n        list(['pain in the upper abdomen', 'indigestion', 'nausea', 'vomiting']),\n        list(['pain', 'numbness', 'tingling in the arms or legs']),\n        list(['fever', 'cough', 'shortness of breath', 'chest pain', 'fatigue']),\n        list(['difficulty urinating', 'blood in the urine', 'pain in the back or hips', 'erectile dysfunction']),\n        list(['pain', 'swelling', 'stiffness in the joints']),\n        list(['sudden weakness', 'numbness on one side of the body', 'difficulty speaking', 'confusion', 'trouble seeing in one eye', 'severe headache']),\n        list(['pain in the upper abdomen', 'indigestion', 'nausea', 'vomiting', 'weight loss']),\n        list(['lump in the neck', 'hoarseness', 'fatigue', 'weight loss', 'unexplained heat intolerance', 'sensitivity to cold']),\n        list(['diarrhea', 'bloody stool', 'abdominal pain', 'weight loss']),\n        list(['raised', 'rough growths on the skin']),\n        list(['itchy', 'red', 'inflamed skin']),\n        list(['diarrhea', 'bloating', 'weight loss', 'fatigue', 'abdominal pain']),\n        list(['fatigue', 'shortness of breath', 'swelling', 'high blood pressure', 'changes in urination']),\n        list(['diarrhea', 'bloody stool', 'abdominal pain', 'weight loss']),\n        list(['seizures']),\n        list(['widespread pain', 'fatigue', 'tenderness']),\n        list(['hyperthyroidism', 'which is an overactive thyroid']),\n        list(['hypothyroidism', 'which is an underactive thyroid ']),\n        list(['chronic autoimmune disease that can affect any part of the body'])],\n       dtype=object),\n array(['flu', 'bronchitis', 'pneumonia', 'heart attack', 'stroke',\n        'cancer', 'diabetes', \"alzheimer's disease\", 'arthritis',\n        'adenovirus', 'aflatoxicosis', 'alcoholism', 'allergic rhinitis',\n        \"alzheimer's disease\", 'anemia', 'anxiety disorder',\n        'appendicitis', 'arthritis', 'asperger syndrome', 'asthma',\n        'bacterial meningitis', 'bipolar disorder', 'bladder cancer',\n        'blood clot', 'bronchitis', 'bursitis', 'cancer',\n        'cervical cancer', 'chickenpox',\n        'chronic obstructive pulmonary disease (copd)', 'cholesterol',\n        'common cold', 'conjunctivitis', 'depression ', 'diabetes',\n        'diarrhea', 'eating disorder', 'epilepsy', 'fever',\n        'food poisoning', 'gallstones', 'gonorrhea', 'heart disease',\n        'hepatitis', 'herpes', 'influenza',\n        'irritable bowel syndrome (ibs)', 'kidney stones ', 'lung cancer',\n        'malaria', 'measles', 'meningitis', 'mononucleosis', 'pneumonia',\n        'rabies', 'salmonella', 'shingles', 'tuberculosis (tb)',\n        'urinary tract infection (uti)', 'varicose veins', 'warts ',\n        'yeast infection', 'acanthamoebkeratitis', 'acute appendicitis',\n        'acute kidney injury (aki) ', \"alzheimer's disease\", 'anemia',\n        'aortic aneurysm', 'bacterial meningitis ', 'bipolar disorder',\n        'cervical cancer ', 'colorectal cancer', 'dementia',\n        'erectile dysfunction', 'fibromyalgi', 'glaucoma', 'heart failure',\n        'kidney disease', 'lung disease', \"parkinson's disease\",\n        'peptic ulcer disease ', 'peripheral artery disease', 'pneumonia',\n        'prostate cancer', 'rheumatoid arthritis', 'stroke',\n        'stomach cancer', 'thyroid cancer', 'ulcerative colitis', 'warts',\n        'atopic dermatitis', 'celiac disease', 'chronic kidney disease',\n        \"crohn's disease\", 'epilepsy ', 'fibromyalgia', \"graves' disease\",\n        \"hashimoto's thyroiditis \", 'lupus'], dtype=object))"
     },
     "execution_count": 190,
     "metadata": {},
     "output_type": "execute_result"
    }
   ],
   "source": [
    "# Extract data frame\n",
    "disease_X = disease_df.iloc[:, 1].values\n",
    "disease_y = disease_df.iloc[:, 0].values\n",
    "\n",
    "disease_X, disease_y"
   ],
   "metadata": {
    "collapsed": false,
    "ExecuteTime": {
     "end_time": "2024-03-21T12:58:26.109856Z",
     "start_time": "2024-03-21T12:58:26.090352Z"
    }
   },
   "id": "eec900329b65ba84",
   "execution_count": 190
  },
  {
   "cell_type": "code",
   "outputs": [
    {
     "data": {
      "text/plain": "((99,),\n array([list(['fever', 'cough', 'sore throat', 'runny or stuffy nose', 'muscle aches', 'headache', 'fatigue']),\n        list(['cough', 'mucus production', 'shortness of breath', 'chest pain']),\n        list(['fever', 'cough', 'shortness of breath', 'chest pain', 'fatigue']),\n        list(['chest pain', 'shortness of breath', 'nausea', 'vomiting', 'lightheadedness', 'sweating']),\n        list(['sudden weakness', 'numbness on one side of the body', 'confusion', 'difficulty speaking', 'trouble seeing in one eye', 'severe headache']),\n        list(['lump', 'unexplained weight loss', 'fatigue', 'changes in bowel', 'bladder habits', 'persistent cough', 'indigestion', 'unexplained bleeding or discharge']),\n        list(['increased thirst', 'frequent urination', 'unexplained weight loss', 'fatigue', 'blurred vision', 'cuts that are slow to heal']),\n        list(['memory loss', 'confusion', 'difficulty thinking', 'changes in personality or behavior']),\n        list(['pain', 'stiffness', 'swelling', 'inflammation in the joints']),\n        list(['fever', 'sore throat', 'cough', 'conjunctivitis', 'rash', 'pink eye']),\n        list(['vomiting', 'diarrhea', 'jaundice', 'liver damage', 'death']),\n        list(['physical dependence on alcohol', 'tolerance to alcohol', 'withdrawal symptoms', 'impaired judgment', 'memory problems', 'liver damage', 'heart disease', 'cancer']),\n        list(['runny nose', 'sneezing', 'itchy eyes', 'itchy nose', 'throat', 'palate']),\n        list(['memory loss', 'confusion', 'difficulty thinking', 'changes in personality or behavior']),\n        list(['fatigue', 'shortness of breath', 'pale skin', 'lightheadedness', 'dizziness']),\n        list(['excessive worry', 'fear', 'anxiety that interfere with daily life']),\n        list(['pain in the lower right abdomen', 'nausea', 'vomiting', 'fever']),\n        list(['pain', 'stiffness', 'swelling', 'inflammation in the joints']),\n        list(['difficulty with social interaction', 'repetitive behaviors', 'restricted interests']),\n        list(['wheezing', 'shortness of breath', 'coughing', 'chest tightness']),\n        list(['fever', 'headache', 'stiff neck', 'nausea', 'vomiting', 'sensitivity to light']),\n        list(['extreme mood swings', 'from manito depression']),\n        list(['blood in the urine', 'pain or burning when urinating', 'frequent urination', 'urgency to urinate', 'incontinence']),\n        list(['pain', 'swelling', 'redness', 'warmth', 'tenderness in the affected area', 'shortness of breath', 'chest pain', 'difficulty breathing', 'coughing up blood']),\n        list(['cough', 'mucus production', 'shortness of breath', 'chest pain']),\n        list(['pain', 'swelling', 'inflammation in bursa', 'which is small sac of fluid that cushions joints']),\n        list(['lump', 'unexplained weight loss', 'fatigue', 'changes in bowel', 'bladder habits', 'persistent cough', 'indigestion', 'unexplained bleeding or discharge']),\n        list(['abnormal pap test results', 'abnormal vaginal bleeding', 'pain during sex']),\n        list(['rash', 'fever', 'headache', 'muscle aches', 'fatigue']),\n        list(['chronic bronchitis', 'emphysema']),\n        list(['high levels of cholesterol in the blood']),\n        list(['runny nose', 'sneezing', 'sore throat', 'cough', 'congestion']),\n        list(['red', 'itchy', 'watery eyes']),\n        list(['sadness', 'hopelessness', 'loss of interest in activities', 'changes in appetite', 'sleep', 'energy levels']),\n        list(['increased thirst', 'frequent urination', 'unexplained weight loss', 'fatigue', 'blurred vision', 'cuts that are slow to heal']),\n        list(['loose', 'watery stools']),\n        list(['disturbance in eating behavior that can lead to serious health problems']),\n        list(['seizures']), list(['elevated body temperature ']),\n        list(['nausea', 'vomiting', 'diarrhea', 'abdominal cramps']),\n        list(['pain in the upper right abdomen', 'nausea', 'vomiting', 'fever']),\n        list(['sexually transmitted infection that can cause burning during urination', 'discharge from the penis or vagina', 'pain in the lower abdomen']),\n        list(['chest pain', 'shortness of breath', 'fatigue', 'dizziness', 'fainting']),\n        list(['inflammation of the liver']),\n        list(['sexually transmitted infection that can cause blisters on the genitals', 'mouth', 'other parts of the body']),\n        list(['fever', 'cough', 'sore throat', 'runny or stuffy nose', 'muscle aches', 'headache', 'fatigue']),\n        list(['abdominal pain', 'bloating', 'constipation', 'diarrhea']),\n        list(['pain in the lower back or side', 'nausea', 'vomiting', 'blood in the urine']),\n        list(['cough that does not go away', 'shortness of breath', 'chest pain', 'unexplained weight loss', 'fatigue', 'blood in the sputum']),\n        list(['fever', 'chills', 'sweating', 'headache', 'muscle aches', 'fatigue', 'vomiting', 'diarrhea']),\n        list(['fever', 'cough', 'runny nose', 'red eyes', 'sore throat', 'rash']),\n        list(['fever', 'headache', 'stiff neck', 'nausea', 'vomiting', 'sensitivity to light']),\n        list(['fever', 'sore throat', 'fatigue', 'swollen lymph nodes', 'rash']),\n        list(['fever', 'cough', 'shortness of breath', 'chest pain', 'fatigue']),\n        list(['fever', 'headache', 'muscle aches', 'tingling at the bite site', 'difficulty swallowing', 'hydrophobia', 'aerophobia']),\n        list(['fever', 'diarrhea', 'abdominal cramps', 'nausea', 'vomiting']),\n        list(['painful rash that follows nerve path']),\n        list(['cough that does not go away', 'fever', 'night sweats', 'weight loss', 'fatigue', 'chest pain']),\n        list(['painful urination', 'burning', 'frequent urination', 'urgency to urinate', 'blood in the urine']),\n        list(['swollen', 'twisted veins', 'usually in the legs']),\n        list(['raised', 'rough growths on the skin']),\n        list(['itching', 'burning', 'discharge from the vaginor penis']),\n        list(['pain', 'redness', 'inflammation in the eye']),\n        list(['pain in the lower right abdomen', 'nausea', 'vomiting', 'fever']),\n        list(['decreased kidney function']),\n        list(['memory loss', 'confusion', 'difficulty thinking', 'changes in personality or behavior']),\n        list(['fatigue', 'shortness of breath', 'pale skin', 'lightheadedness', 'dizziness']),\n        list(['bulge in the wall of the aorta', 'the largest artery in the body']),\n        list(['fever', 'headache', 'stiff neck', 'nausea', 'vomiting', 'sensitivity to light']),\n        list(['extreme mood swings', 'from manito depression']),\n        list(['abnormal pap test results', 'abnormal vaginal bleeding', 'pain during sex']),\n        list(['change in bowel habits', 'such as diarrhea', 'constipation', 'narrowing of the stool', 'blood in the stool', 'abdominal pain', 'unexplained weight loss']),\n        list(['memory loss', 'confusion', 'difficulty thinking', 'changes in personality or behavior']),\n        list(['difficulty getting', 'keeping an erection ']),\n        list(['widespread pain', 'fatigue', 'tenderness']),\n        list(['increased pressure in the eye that can damage the optic nerve', 'lead to vision loss']),\n        list(['condition in which the heart cannot pump blood as well as it should']),\n        list(['damage to the kidneys that can lead to kidney failure']),\n        list(['condition that affects the lungs', 'can make it difficult to breathe']),\n        list(['tremors', 'slow movement', 'stiffness', 'difficulty with balance', 'coordination ']),\n        list(['pain in the upper abdomen', 'indigestion', 'nausea', 'vomiting']),\n        list(['pain', 'numbness', 'tingling in the arms or legs']),\n        list(['fever', 'cough', 'shortness of breath', 'chest pain', 'fatigue']),\n        list(['difficulty urinating', 'blood in the urine', 'pain in the back or hips', 'erectile dysfunction']),\n        list(['pain', 'swelling', 'stiffness in the joints']),\n        list(['sudden weakness', 'numbness on one side of the body', 'difficulty speaking', 'confusion', 'trouble seeing in one eye', 'severe headache']),\n        list(['pain in the upper abdomen', 'indigestion', 'nausea', 'vomiting', 'weight loss']),\n        list(['lump in the neck', 'hoarseness', 'fatigue', 'weight loss', 'unexplained heat intolerance', 'sensitivity to cold']),\n        list(['diarrhea', 'bloody stool', 'abdominal pain', 'weight loss']),\n        list(['raised', 'rough growths on the skin']),\n        list(['itchy', 'red', 'inflamed skin']),\n        list(['diarrhea', 'bloating', 'weight loss', 'fatigue', 'abdominal pain']),\n        list(['fatigue', 'shortness of breath', 'swelling', 'high blood pressure', 'changes in urination']),\n        list(['diarrhea', 'bloody stool', 'abdominal pain', 'weight loss']),\n        list(['seizures']),\n        list(['widespread pain', 'fatigue', 'tenderness']),\n        list(['hyperthyroidism', 'which is an overactive thyroid']),\n        list(['hypothyroidism', 'which is an underactive thyroid ']),\n        list(['chronic autoimmune disease that can affect any part of the body'])],\n       dtype=object))"
     },
     "execution_count": 191,
     "metadata": {},
     "output_type": "execute_result"
    }
   ],
   "source": [
    "# disease_X = disease_X.squeeze()\n",
    "\n",
    "disease_X.shape, disease_X"
   ],
   "metadata": {
    "collapsed": false,
    "ExecuteTime": {
     "end_time": "2024-03-21T12:58:26.110363Z",
     "start_time": "2024-03-21T12:58:26.093724Z"
    }
   },
   "id": "75f9349febb4ac58",
   "execution_count": 191
  },
  {
   "cell_type": "code",
   "outputs": [],
   "source": [
    "# Vectorize Symptoms\n",
    "\n",
    "symptoms_vectorizer = TfidfVectorizer(tokenizer=lambda doc:doc, lowercase=False, token_pattern=None)\n",
    "disease_X = symptoms_vectorizer.fit_transform(disease_X)"
   ],
   "metadata": {
    "collapsed": false,
    "ExecuteTime": {
     "end_time": "2024-03-21T12:58:26.122775Z",
     "start_time": "2024-03-21T12:58:26.103327Z"
    }
   },
   "id": "8e1c0cacf65e073c",
   "execution_count": 192
  },
  {
   "cell_type": "code",
   "outputs": [
    {
     "data": {
      "text/plain": "[<1x183 sparse matrix of type '<class 'numpy.float64'>'\n \twith 7 stored elements in Compressed Sparse Row format>,\n <1x183 sparse matrix of type '<class 'numpy.float64'>'\n \twith 4 stored elements in Compressed Sparse Row format>,\n <1x183 sparse matrix of type '<class 'numpy.float64'>'\n \twith 5 stored elements in Compressed Sparse Row format>,\n <1x183 sparse matrix of type '<class 'numpy.float64'>'\n \twith 6 stored elements in Compressed Sparse Row format>,\n <1x183 sparse matrix of type '<class 'numpy.float64'>'\n \twith 6 stored elements in Compressed Sparse Row format>,\n <1x183 sparse matrix of type '<class 'numpy.float64'>'\n \twith 8 stored elements in Compressed Sparse Row format>,\n <1x183 sparse matrix of type '<class 'numpy.float64'>'\n \twith 6 stored elements in Compressed Sparse Row format>,\n <1x183 sparse matrix of type '<class 'numpy.float64'>'\n \twith 4 stored elements in Compressed Sparse Row format>,\n <1x183 sparse matrix of type '<class 'numpy.float64'>'\n \twith 4 stored elements in Compressed Sparse Row format>,\n <1x183 sparse matrix of type '<class 'numpy.float64'>'\n \twith 6 stored elements in Compressed Sparse Row format>,\n <1x183 sparse matrix of type '<class 'numpy.float64'>'\n \twith 5 stored elements in Compressed Sparse Row format>,\n <1x183 sparse matrix of type '<class 'numpy.float64'>'\n \twith 8 stored elements in Compressed Sparse Row format>,\n <1x183 sparse matrix of type '<class 'numpy.float64'>'\n \twith 6 stored elements in Compressed Sparse Row format>,\n <1x183 sparse matrix of type '<class 'numpy.float64'>'\n \twith 4 stored elements in Compressed Sparse Row format>,\n <1x183 sparse matrix of type '<class 'numpy.float64'>'\n \twith 5 stored elements in Compressed Sparse Row format>,\n <1x183 sparse matrix of type '<class 'numpy.float64'>'\n \twith 3 stored elements in Compressed Sparse Row format>,\n <1x183 sparse matrix of type '<class 'numpy.float64'>'\n \twith 4 stored elements in Compressed Sparse Row format>,\n <1x183 sparse matrix of type '<class 'numpy.float64'>'\n \twith 4 stored elements in Compressed Sparse Row format>,\n <1x183 sparse matrix of type '<class 'numpy.float64'>'\n \twith 3 stored elements in Compressed Sparse Row format>,\n <1x183 sparse matrix of type '<class 'numpy.float64'>'\n \twith 4 stored elements in Compressed Sparse Row format>,\n <1x183 sparse matrix of type '<class 'numpy.float64'>'\n \twith 6 stored elements in Compressed Sparse Row format>,\n <1x183 sparse matrix of type '<class 'numpy.float64'>'\n \twith 2 stored elements in Compressed Sparse Row format>,\n <1x183 sparse matrix of type '<class 'numpy.float64'>'\n \twith 5 stored elements in Compressed Sparse Row format>,\n <1x183 sparse matrix of type '<class 'numpy.float64'>'\n \twith 9 stored elements in Compressed Sparse Row format>,\n <1x183 sparse matrix of type '<class 'numpy.float64'>'\n \twith 4 stored elements in Compressed Sparse Row format>,\n <1x183 sparse matrix of type '<class 'numpy.float64'>'\n \twith 4 stored elements in Compressed Sparse Row format>,\n <1x183 sparse matrix of type '<class 'numpy.float64'>'\n \twith 8 stored elements in Compressed Sparse Row format>,\n <1x183 sparse matrix of type '<class 'numpy.float64'>'\n \twith 3 stored elements in Compressed Sparse Row format>,\n <1x183 sparse matrix of type '<class 'numpy.float64'>'\n \twith 5 stored elements in Compressed Sparse Row format>,\n <1x183 sparse matrix of type '<class 'numpy.float64'>'\n \twith 2 stored elements in Compressed Sparse Row format>,\n <1x183 sparse matrix of type '<class 'numpy.float64'>'\n \twith 1 stored elements in Compressed Sparse Row format>,\n <1x183 sparse matrix of type '<class 'numpy.float64'>'\n \twith 5 stored elements in Compressed Sparse Row format>,\n <1x183 sparse matrix of type '<class 'numpy.float64'>'\n \twith 3 stored elements in Compressed Sparse Row format>,\n <1x183 sparse matrix of type '<class 'numpy.float64'>'\n \twith 6 stored elements in Compressed Sparse Row format>,\n <1x183 sparse matrix of type '<class 'numpy.float64'>'\n \twith 6 stored elements in Compressed Sparse Row format>,\n <1x183 sparse matrix of type '<class 'numpy.float64'>'\n \twith 2 stored elements in Compressed Sparse Row format>,\n <1x183 sparse matrix of type '<class 'numpy.float64'>'\n \twith 1 stored elements in Compressed Sparse Row format>,\n <1x183 sparse matrix of type '<class 'numpy.float64'>'\n \twith 1 stored elements in Compressed Sparse Row format>,\n <1x183 sparse matrix of type '<class 'numpy.float64'>'\n \twith 1 stored elements in Compressed Sparse Row format>,\n <1x183 sparse matrix of type '<class 'numpy.float64'>'\n \twith 4 stored elements in Compressed Sparse Row format>,\n <1x183 sparse matrix of type '<class 'numpy.float64'>'\n \twith 4 stored elements in Compressed Sparse Row format>,\n <1x183 sparse matrix of type '<class 'numpy.float64'>'\n \twith 3 stored elements in Compressed Sparse Row format>,\n <1x183 sparse matrix of type '<class 'numpy.float64'>'\n \twith 5 stored elements in Compressed Sparse Row format>,\n <1x183 sparse matrix of type '<class 'numpy.float64'>'\n \twith 1 stored elements in Compressed Sparse Row format>,\n <1x183 sparse matrix of type '<class 'numpy.float64'>'\n \twith 3 stored elements in Compressed Sparse Row format>,\n <1x183 sparse matrix of type '<class 'numpy.float64'>'\n \twith 7 stored elements in Compressed Sparse Row format>,\n <1x183 sparse matrix of type '<class 'numpy.float64'>'\n \twith 4 stored elements in Compressed Sparse Row format>,\n <1x183 sparse matrix of type '<class 'numpy.float64'>'\n \twith 4 stored elements in Compressed Sparse Row format>,\n <1x183 sparse matrix of type '<class 'numpy.float64'>'\n \twith 6 stored elements in Compressed Sparse Row format>,\n <1x183 sparse matrix of type '<class 'numpy.float64'>'\n \twith 8 stored elements in Compressed Sparse Row format>,\n <1x183 sparse matrix of type '<class 'numpy.float64'>'\n \twith 6 stored elements in Compressed Sparse Row format>,\n <1x183 sparse matrix of type '<class 'numpy.float64'>'\n \twith 6 stored elements in Compressed Sparse Row format>,\n <1x183 sparse matrix of type '<class 'numpy.float64'>'\n \twith 5 stored elements in Compressed Sparse Row format>,\n <1x183 sparse matrix of type '<class 'numpy.float64'>'\n \twith 5 stored elements in Compressed Sparse Row format>,\n <1x183 sparse matrix of type '<class 'numpy.float64'>'\n \twith 7 stored elements in Compressed Sparse Row format>,\n <1x183 sparse matrix of type '<class 'numpy.float64'>'\n \twith 5 stored elements in Compressed Sparse Row format>,\n <1x183 sparse matrix of type '<class 'numpy.float64'>'\n \twith 1 stored elements in Compressed Sparse Row format>,\n <1x183 sparse matrix of type '<class 'numpy.float64'>'\n \twith 6 stored elements in Compressed Sparse Row format>,\n <1x183 sparse matrix of type '<class 'numpy.float64'>'\n \twith 5 stored elements in Compressed Sparse Row format>,\n <1x183 sparse matrix of type '<class 'numpy.float64'>'\n \twith 3 stored elements in Compressed Sparse Row format>,\n <1x183 sparse matrix of type '<class 'numpy.float64'>'\n \twith 2 stored elements in Compressed Sparse Row format>,\n <1x183 sparse matrix of type '<class 'numpy.float64'>'\n \twith 3 stored elements in Compressed Sparse Row format>,\n <1x183 sparse matrix of type '<class 'numpy.float64'>'\n \twith 3 stored elements in Compressed Sparse Row format>,\n <1x183 sparse matrix of type '<class 'numpy.float64'>'\n \twith 4 stored elements in Compressed Sparse Row format>,\n <1x183 sparse matrix of type '<class 'numpy.float64'>'\n \twith 1 stored elements in Compressed Sparse Row format>,\n <1x183 sparse matrix of type '<class 'numpy.float64'>'\n \twith 4 stored elements in Compressed Sparse Row format>,\n <1x183 sparse matrix of type '<class 'numpy.float64'>'\n \twith 5 stored elements in Compressed Sparse Row format>,\n <1x183 sparse matrix of type '<class 'numpy.float64'>'\n \twith 2 stored elements in Compressed Sparse Row format>,\n <1x183 sparse matrix of type '<class 'numpy.float64'>'\n \twith 6 stored elements in Compressed Sparse Row format>,\n <1x183 sparse matrix of type '<class 'numpy.float64'>'\n \twith 2 stored elements in Compressed Sparse Row format>,\n <1x183 sparse matrix of type '<class 'numpy.float64'>'\n \twith 3 stored elements in Compressed Sparse Row format>,\n <1x183 sparse matrix of type '<class 'numpy.float64'>'\n \twith 7 stored elements in Compressed Sparse Row format>,\n <1x183 sparse matrix of type '<class 'numpy.float64'>'\n \twith 4 stored elements in Compressed Sparse Row format>,\n <1x183 sparse matrix of type '<class 'numpy.float64'>'\n \twith 2 stored elements in Compressed Sparse Row format>,\n <1x183 sparse matrix of type '<class 'numpy.float64'>'\n \twith 3 stored elements in Compressed Sparse Row format>,\n <1x183 sparse matrix of type '<class 'numpy.float64'>'\n \twith 2 stored elements in Compressed Sparse Row format>,\n <1x183 sparse matrix of type '<class 'numpy.float64'>'\n \twith 1 stored elements in Compressed Sparse Row format>,\n <1x183 sparse matrix of type '<class 'numpy.float64'>'\n \twith 1 stored elements in Compressed Sparse Row format>,\n <1x183 sparse matrix of type '<class 'numpy.float64'>'\n \twith 2 stored elements in Compressed Sparse Row format>,\n <1x183 sparse matrix of type '<class 'numpy.float64'>'\n \twith 5 stored elements in Compressed Sparse Row format>,\n <1x183 sparse matrix of type '<class 'numpy.float64'>'\n \twith 4 stored elements in Compressed Sparse Row format>,\n <1x183 sparse matrix of type '<class 'numpy.float64'>'\n \twith 3 stored elements in Compressed Sparse Row format>,\n <1x183 sparse matrix of type '<class 'numpy.float64'>'\n \twith 5 stored elements in Compressed Sparse Row format>,\n <1x183 sparse matrix of type '<class 'numpy.float64'>'\n \twith 4 stored elements in Compressed Sparse Row format>,\n <1x183 sparse matrix of type '<class 'numpy.float64'>'\n \twith 3 stored elements in Compressed Sparse Row format>,\n <1x183 sparse matrix of type '<class 'numpy.float64'>'\n \twith 6 stored elements in Compressed Sparse Row format>,\n <1x183 sparse matrix of type '<class 'numpy.float64'>'\n \twith 5 stored elements in Compressed Sparse Row format>,\n <1x183 sparse matrix of type '<class 'numpy.float64'>'\n \twith 6 stored elements in Compressed Sparse Row format>,\n <1x183 sparse matrix of type '<class 'numpy.float64'>'\n \twith 4 stored elements in Compressed Sparse Row format>,\n <1x183 sparse matrix of type '<class 'numpy.float64'>'\n \twith 2 stored elements in Compressed Sparse Row format>,\n <1x183 sparse matrix of type '<class 'numpy.float64'>'\n \twith 3 stored elements in Compressed Sparse Row format>,\n <1x183 sparse matrix of type '<class 'numpy.float64'>'\n \twith 5 stored elements in Compressed Sparse Row format>,\n <1x183 sparse matrix of type '<class 'numpy.float64'>'\n \twith 5 stored elements in Compressed Sparse Row format>,\n <1x183 sparse matrix of type '<class 'numpy.float64'>'\n \twith 4 stored elements in Compressed Sparse Row format>,\n <1x183 sparse matrix of type '<class 'numpy.float64'>'\n \twith 1 stored elements in Compressed Sparse Row format>,\n <1x183 sparse matrix of type '<class 'numpy.float64'>'\n \twith 3 stored elements in Compressed Sparse Row format>,\n <1x183 sparse matrix of type '<class 'numpy.float64'>'\n \twith 2 stored elements in Compressed Sparse Row format>,\n <1x183 sparse matrix of type '<class 'numpy.float64'>'\n \twith 2 stored elements in Compressed Sparse Row format>,\n <1x183 sparse matrix of type '<class 'numpy.float64'>'\n \twith 1 stored elements in Compressed Sparse Row format>]"
     },
     "execution_count": 193,
     "metadata": {},
     "output_type": "execute_result"
    }
   ],
   "source": [
    "list(disease_X)"
   ],
   "metadata": {
    "collapsed": false,
    "ExecuteTime": {
     "end_time": "2024-03-21T12:58:26.141381Z",
     "start_time": "2024-03-21T12:58:26.113228Z"
    }
   },
   "id": "23e4496cf7db4718",
   "execution_count": 193
  },
  {
   "cell_type": "code",
   "outputs": [],
   "source": [
    "# Split train and test\n",
    "\n",
    "disease_X_train, disease_X_test, disease_y_train, disease_y_test = train_test_split(disease_X, disease_y, test_size=.2, random_state=42)"
   ],
   "metadata": {
    "collapsed": false,
    "ExecuteTime": {
     "end_time": "2024-03-21T12:58:26.160524Z",
     "start_time": "2024-03-21T12:58:26.144060Z"
    }
   },
   "id": "b36068389fc24e0",
   "execution_count": 194
  },
  {
   "cell_type": "markdown",
   "source": [
    "### Train Model"
   ],
   "metadata": {
    "collapsed": false
   },
   "id": "39b128ed95e04bd6"
  },
  {
   "cell_type": "code",
   "outputs": [
    {
     "data": {
      "text/plain": "RandomForestClassifier(criterion='entropy', n_estimators=200, random_state=42)",
      "text/html": "<style>#sk-container-id-6 {color: black;}#sk-container-id-6 pre{padding: 0;}#sk-container-id-6 div.sk-toggleable {background-color: white;}#sk-container-id-6 label.sk-toggleable__label {cursor: pointer;display: block;width: 100%;margin-bottom: 0;padding: 0.3em;box-sizing: border-box;text-align: center;}#sk-container-id-6 label.sk-toggleable__label-arrow:before {content: \"▸\";float: left;margin-right: 0.25em;color: #696969;}#sk-container-id-6 label.sk-toggleable__label-arrow:hover:before {color: black;}#sk-container-id-6 div.sk-estimator:hover label.sk-toggleable__label-arrow:before {color: black;}#sk-container-id-6 div.sk-toggleable__content {max-height: 0;max-width: 0;overflow: hidden;text-align: left;background-color: #f0f8ff;}#sk-container-id-6 div.sk-toggleable__content pre {margin: 0.2em;color: black;border-radius: 0.25em;background-color: #f0f8ff;}#sk-container-id-6 input.sk-toggleable__control:checked~div.sk-toggleable__content {max-height: 200px;max-width: 100%;overflow: auto;}#sk-container-id-6 input.sk-toggleable__control:checked~label.sk-toggleable__label-arrow:before {content: \"▾\";}#sk-container-id-6 div.sk-estimator input.sk-toggleable__control:checked~label.sk-toggleable__label {background-color: #d4ebff;}#sk-container-id-6 div.sk-label input.sk-toggleable__control:checked~label.sk-toggleable__label {background-color: #d4ebff;}#sk-container-id-6 input.sk-hidden--visually {border: 0;clip: rect(1px 1px 1px 1px);clip: rect(1px, 1px, 1px, 1px);height: 1px;margin: -1px;overflow: hidden;padding: 0;position: absolute;width: 1px;}#sk-container-id-6 div.sk-estimator {font-family: monospace;background-color: #f0f8ff;border: 1px dotted black;border-radius: 0.25em;box-sizing: border-box;margin-bottom: 0.5em;}#sk-container-id-6 div.sk-estimator:hover {background-color: #d4ebff;}#sk-container-id-6 div.sk-parallel-item::after {content: \"\";width: 100%;border-bottom: 1px solid gray;flex-grow: 1;}#sk-container-id-6 div.sk-label:hover label.sk-toggleable__label {background-color: #d4ebff;}#sk-container-id-6 div.sk-serial::before {content: \"\";position: absolute;border-left: 1px solid gray;box-sizing: border-box;top: 0;bottom: 0;left: 50%;z-index: 0;}#sk-container-id-6 div.sk-serial {display: flex;flex-direction: column;align-items: center;background-color: white;padding-right: 0.2em;padding-left: 0.2em;position: relative;}#sk-container-id-6 div.sk-item {position: relative;z-index: 1;}#sk-container-id-6 div.sk-parallel {display: flex;align-items: stretch;justify-content: center;background-color: white;position: relative;}#sk-container-id-6 div.sk-item::before, #sk-container-id-6 div.sk-parallel-item::before {content: \"\";position: absolute;border-left: 1px solid gray;box-sizing: border-box;top: 0;bottom: 0;left: 50%;z-index: -1;}#sk-container-id-6 div.sk-parallel-item {display: flex;flex-direction: column;z-index: 1;position: relative;background-color: white;}#sk-container-id-6 div.sk-parallel-item:first-child::after {align-self: flex-end;width: 50%;}#sk-container-id-6 div.sk-parallel-item:last-child::after {align-self: flex-start;width: 50%;}#sk-container-id-6 div.sk-parallel-item:only-child::after {width: 0;}#sk-container-id-6 div.sk-dashed-wrapped {border: 1px dashed gray;margin: 0 0.4em 0.5em 0.4em;box-sizing: border-box;padding-bottom: 0.4em;background-color: white;}#sk-container-id-6 div.sk-label label {font-family: monospace;font-weight: bold;display: inline-block;line-height: 1.2em;}#sk-container-id-6 div.sk-label-container {text-align: center;}#sk-container-id-6 div.sk-container {/* jupyter's `normalize.less` sets `[hidden] { display: none; }` but bootstrap.min.css set `[hidden] { display: none !important; }` so we also need the `!important` here to be able to override the default hidden behavior on the sphinx rendered scikit-learn.org. See: https://github.com/scikit-learn/scikit-learn/issues/21755 */display: inline-block !important;position: relative;}#sk-container-id-6 div.sk-text-repr-fallback {display: none;}</style><div id=\"sk-container-id-6\" class=\"sk-top-container\"><div class=\"sk-text-repr-fallback\"><pre>RandomForestClassifier(criterion=&#x27;entropy&#x27;, n_estimators=200, random_state=42)</pre><b>In a Jupyter environment, please rerun this cell to show the HTML representation or trust the notebook. <br />On GitHub, the HTML representation is unable to render, please try loading this page with nbviewer.org.</b></div><div class=\"sk-container\" hidden><div class=\"sk-item\"><div class=\"sk-estimator sk-toggleable\"><input class=\"sk-toggleable__control sk-hidden--visually\" id=\"sk-estimator-id-6\" type=\"checkbox\" checked><label for=\"sk-estimator-id-6\" class=\"sk-toggleable__label sk-toggleable__label-arrow\">RandomForestClassifier</label><div class=\"sk-toggleable__content\"><pre>RandomForestClassifier(criterion=&#x27;entropy&#x27;, n_estimators=200, random_state=42)</pre></div></div></div></div></div>"
     },
     "execution_count": 195,
     "metadata": {},
     "output_type": "execute_result"
    }
   ],
   "source": [
    "rfc_model = RandomForestClassifier(n_estimators=200, criterion='entropy', random_state=42)\n",
    "rfc_model.fit(disease_X_train, disease_y_train)"
   ],
   "metadata": {
    "collapsed": false,
    "ExecuteTime": {
     "end_time": "2024-03-21T12:58:26.266306Z",
     "start_time": "2024-03-21T12:58:26.179596Z"
    }
   },
   "id": "96e9d97acecbcafb",
   "execution_count": 195
  },
  {
   "cell_type": "code",
   "outputs": [],
   "source": [
    "def vectorize_input_symptoms(symptoms: list):\n",
    "    return symptoms_vectorizer.transform([symptoms])"
   ],
   "metadata": {
    "collapsed": false,
    "ExecuteTime": {
     "end_time": "2024-03-21T12:58:26.266547Z",
     "start_time": "2024-03-21T12:58:26.265367Z"
    }
   },
   "id": "6b523a74ac263b27",
   "execution_count": 196
  },
  {
   "cell_type": "code",
   "outputs": [
    {
     "data": {
      "text/plain": "0.1"
     },
     "execution_count": 197,
     "metadata": {},
     "output_type": "execute_result"
    }
   ],
   "source": [
    "y_preds = rfc_model.predict(disease_X_test)\n",
    "\n",
    "accuracy_score(disease_y_test, y_preds)"
   ],
   "metadata": {
    "collapsed": false,
    "ExecuteTime": {
     "end_time": "2024-03-21T12:58:26.274478Z",
     "start_time": "2024-03-21T12:58:26.267621Z"
    }
   },
   "id": "4394739e6e8d4930",
   "execution_count": 197
  },
  {
   "cell_type": "code",
   "outputs": [
    {
     "name": "stdout",
     "output_type": "stream",
     "text": [
      "['measles']\n"
     ]
    }
   ],
   "source": [
    "sample_symptoms = vectorize_input_symptoms(['fever', 'sore throat', 'cough'])\n",
    "\n",
    "sample_pred = rfc_model.predict(sample_symptoms)\n",
    "\n",
    "print(sample_pred)"
   ],
   "metadata": {
    "collapsed": false,
    "ExecuteTime": {
     "end_time": "2024-03-21T12:58:26.281808Z",
     "start_time": "2024-03-21T12:58:26.275761Z"
    }
   },
   "id": "246b27891677769b",
   "execution_count": 198
  },
  {
   "cell_type": "code",
   "outputs": [],
   "source": [
    "import dill\n",
    "import pickle\n",
    "from pathlib import Path\n",
    "\n",
    "BASE_PATH = Path('./models/disease_ml')\n",
    "BASE_PATH.mkdir(parents=True, exist_ok=True)\n",
    "\n",
    "VECTORIZED_MODEL_PATH = BASE_PATH / 'symptoms_vectorizer.pkl'\n",
    "MODEL_SAVE_PATH = BASE_PATH / 'diseases_rfc_model.pkl'\n",
    "\n",
    "# Save the vectorizer\n",
    "with open(VECTORIZED_MODEL_PATH, 'wb') as f:\n",
    "    dill.dump(symptoms_vectorizer, f)\n",
    "\n",
    "# Save the model\n",
    "with open(MODEL_SAVE_PATH, 'wb') as f:\n",
    "    dill.dump(rfc_model, f)\n"
   ],
   "metadata": {
    "collapsed": false,
    "ExecuteTime": {
     "end_time": "2024-03-21T13:28:16.073900Z",
     "start_time": "2024-03-21T13:28:16.024614Z"
    }
   },
   "id": "ece47ee08e41e659",
   "execution_count": 204
  },
  {
   "cell_type": "code",
   "outputs": [],
   "source": [
    "import dill\n",
    "\n",
    "# Load the vectorizer\n",
    "with open(VECTORIZED_MODEL_PATH, 'rb') as f:\n",
    "    loaded_vectorizer = dill.load(f)\n",
    "\n",
    "# Load the model\n",
    "with open(MODEL_SAVE_PATH, 'rb') as f:\n",
    "    loaded_model = dill.load(f)"
   ],
   "metadata": {
    "collapsed": false,
    "ExecuteTime": {
     "end_time": "2024-03-21T13:29:21.402431Z",
     "start_time": "2024-03-21T13:29:21.394400Z"
    }
   },
   "id": "696d6c157cf8fc87",
   "execution_count": 205
  },
  {
   "cell_type": "code",
   "outputs": [
    {
     "name": "stdout",
     "output_type": "stream",
     "text": [
      "['measles']\n"
     ]
    }
   ],
   "source": [
    "sample_symptoms = loaded_vectorizer.transform([['fever', 'sore throat', 'cough']])\n",
    "\n",
    "sample_pred = loaded_model.predict(sample_symptoms)\n",
    "\n",
    "print(sample_pred)"
   ],
   "metadata": {
    "collapsed": false,
    "ExecuteTime": {
     "end_time": "2024-03-21T13:32:32.398537Z",
     "start_time": "2024-03-21T13:32:32.386456Z"
    }
   },
   "id": "d25f734b5e37d932",
   "execution_count": 210
  }
 ],
 "metadata": {
  "kernelspec": {
   "display_name": "Python 3",
   "language": "python",
   "name": "python3"
  },
  "language_info": {
   "codemirror_mode": {
    "name": "ipython",
    "version": 2
   },
   "file_extension": ".py",
   "mimetype": "text/x-python",
   "name": "python",
   "nbconvert_exporter": "python",
   "pygments_lexer": "ipython2",
   "version": "2.7.6"
  }
 },
 "nbformat": 4,
 "nbformat_minor": 5
}
