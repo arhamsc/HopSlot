{
 "cells": [
  {
   "cell_type": "markdown",
   "source": [],
   "metadata": {
    "collapsed": false
   },
   "id": "dc06ec45cc4801dd"
  },
  {
   "cell_type": "markdown",
   "source": [
    "# HopSlot - Patient Urgency/Severity Predictor Copy"
   ],
   "metadata": {
    "collapsed": false
   },
   "id": "724df39c83b6b5c6"
  },
  {
   "cell_type": "code",
   "outputs": [],
   "source": [
    "import pandas as pd\n",
    "import numpy as np\n",
    "import random\n",
    "from sklearn.preprocessing import LabelEncoder, StandardScaler\n",
    "from sklearn.model_selection import  train_test_split\n",
    "from sklearn.ensemble import RandomForestClassifier\n",
    "from sklearn.feature_extraction.text import TfidfVectorizer\n",
    "from sklearn.feature_extraction import DictVectorizer\n",
    "from sklearn.metrics import accuracy_score, precision_score, recall_score, f1_score\n",
    "from pathlib import Path\n",
    "from sklearn.svm import SVC\n",
    "from scipy.sparse import hstack"
   ],
   "metadata": {
    "collapsed": false,
    "ExecuteTime": {
     "end_time": "2024-03-22T05:53:48.554618Z",
     "start_time": "2024-03-22T05:53:48.551750Z"
    }
   },
   "id": "6ba14e6693328a2d",
   "execution_count": 263
  },
  {
   "cell_type": "code",
   "outputs": [],
   "source": [
    "BASE_DATASET_PATH = Path('./datasets/synt/patient_data_2.csv')"
   ],
   "metadata": {
    "collapsed": false,
    "ExecuteTime": {
     "end_time": "2024-03-22T05:53:48.563655Z",
     "start_time": "2024-03-22T05:53:48.562015Z"
    }
   },
   "id": "8a8e60bae7d2dd87",
   "execution_count": 264
  },
  {
   "cell_type": "code",
   "outputs": [
    {
     "data": {
      "text/plain": "      Age                                     Cause_of_Visit  \\\n0       4  ['diarrhea', 'bulge in the wall of the aorta',...   \n1      23  ['decreased kidney function', 'cough that does...   \n2      34      ['chest pain', 'fever', 'difficulty getting']   \n3      80    ['fever', 'hyperthyroidism', 'widespread pain']   \n4      87  ['extreme mood swings', 'fever', 'sudden weakn...   \n...   ...                                                ...   \n1995   81  ['nausea', 'pain in the lower back or side', '...   \n1996   23          ['difficulty urinating', 'rash', 'fever']   \n1997   21  ['lump', 'chronic autoimmune disease that can ...   \n1998   53  ['cough', 'pain in the lower back or side', 'c...   \n1999   35  ['sexually transmitted infection that can caus...   \n\n      No_of_Previous_Visits Cause_Matches_Previous_Visit Doctor_Availability  \\\n0                         8                          Yes         Unavailable   \n1                         0                           No           Available   \n2                         9                          Yes           Available   \n3                         7                          Yes         Unavailable   \n4                         5                          Yes           Available   \n...                     ...                          ...                 ...   \n1995                      2                           No           Available   \n1996                      1                           No           Available   \n1997                      5                          Yes           Available   \n1998                      2                           No           Available   \n1999                      9                           No           Available   \n\n     Work_Shift_Time   Schedule_date_time  Delayed_by Severity_of_Ailment  \n0            Evening  2024-11-17 10:03:49           0              Severe  \n1            Evening  2024-05-18 02:05:25           5              Severe  \n2            Evening  2024-01-02 06:56:37          10              Severe  \n3            Evening  2024-11-06 08:43:16           0            Moderate  \n4            Morning  2024-10-25 05:12:30          10            Moderate  \n...              ...                  ...         ...                 ...  \n1995         Morning  2024-08-04 08:45:52           0              Severe  \n1996         Morning  2024-01-30 16:31:47           0                Mild  \n1997       Afternoon  2024-02-27 21:11:08          15              Severe  \n1998         Evening  2024-12-28 03:20:37          10            Moderate  \n1999         Morning  2024-02-18 13:05:04           0              Severe  \n\n[2000 rows x 9 columns]",
      "text/html": "<div>\n<style scoped>\n    .dataframe tbody tr th:only-of-type {\n        vertical-align: middle;\n    }\n\n    .dataframe tbody tr th {\n        vertical-align: top;\n    }\n\n    .dataframe thead th {\n        text-align: right;\n    }\n</style>\n<table border=\"1\" class=\"dataframe\">\n  <thead>\n    <tr style=\"text-align: right;\">\n      <th></th>\n      <th>Age</th>\n      <th>Cause_of_Visit</th>\n      <th>No_of_Previous_Visits</th>\n      <th>Cause_Matches_Previous_Visit</th>\n      <th>Doctor_Availability</th>\n      <th>Work_Shift_Time</th>\n      <th>Schedule_date_time</th>\n      <th>Delayed_by</th>\n      <th>Severity_of_Ailment</th>\n    </tr>\n  </thead>\n  <tbody>\n    <tr>\n      <th>0</th>\n      <td>4</td>\n      <td>['diarrhea', 'bulge in the wall of the aorta',...</td>\n      <td>8</td>\n      <td>Yes</td>\n      <td>Unavailable</td>\n      <td>Evening</td>\n      <td>2024-11-17 10:03:49</td>\n      <td>0</td>\n      <td>Severe</td>\n    </tr>\n    <tr>\n      <th>1</th>\n      <td>23</td>\n      <td>['decreased kidney function', 'cough that does...</td>\n      <td>0</td>\n      <td>No</td>\n      <td>Available</td>\n      <td>Evening</td>\n      <td>2024-05-18 02:05:25</td>\n      <td>5</td>\n      <td>Severe</td>\n    </tr>\n    <tr>\n      <th>2</th>\n      <td>34</td>\n      <td>['chest pain', 'fever', 'difficulty getting']</td>\n      <td>9</td>\n      <td>Yes</td>\n      <td>Available</td>\n      <td>Evening</td>\n      <td>2024-01-02 06:56:37</td>\n      <td>10</td>\n      <td>Severe</td>\n    </tr>\n    <tr>\n      <th>3</th>\n      <td>80</td>\n      <td>['fever', 'hyperthyroidism', 'widespread pain']</td>\n      <td>7</td>\n      <td>Yes</td>\n      <td>Unavailable</td>\n      <td>Evening</td>\n      <td>2024-11-06 08:43:16</td>\n      <td>0</td>\n      <td>Moderate</td>\n    </tr>\n    <tr>\n      <th>4</th>\n      <td>87</td>\n      <td>['extreme mood swings', 'fever', 'sudden weakn...</td>\n      <td>5</td>\n      <td>Yes</td>\n      <td>Available</td>\n      <td>Morning</td>\n      <td>2024-10-25 05:12:30</td>\n      <td>10</td>\n      <td>Moderate</td>\n    </tr>\n    <tr>\n      <th>...</th>\n      <td>...</td>\n      <td>...</td>\n      <td>...</td>\n      <td>...</td>\n      <td>...</td>\n      <td>...</td>\n      <td>...</td>\n      <td>...</td>\n      <td>...</td>\n    </tr>\n    <tr>\n      <th>1995</th>\n      <td>81</td>\n      <td>['nausea', 'pain in the lower back or side', '...</td>\n      <td>2</td>\n      <td>No</td>\n      <td>Available</td>\n      <td>Morning</td>\n      <td>2024-08-04 08:45:52</td>\n      <td>0</td>\n      <td>Severe</td>\n    </tr>\n    <tr>\n      <th>1996</th>\n      <td>23</td>\n      <td>['difficulty urinating', 'rash', 'fever']</td>\n      <td>1</td>\n      <td>No</td>\n      <td>Available</td>\n      <td>Morning</td>\n      <td>2024-01-30 16:31:47</td>\n      <td>0</td>\n      <td>Mild</td>\n    </tr>\n    <tr>\n      <th>1997</th>\n      <td>21</td>\n      <td>['lump', 'chronic autoimmune disease that can ...</td>\n      <td>5</td>\n      <td>Yes</td>\n      <td>Available</td>\n      <td>Afternoon</td>\n      <td>2024-02-27 21:11:08</td>\n      <td>15</td>\n      <td>Severe</td>\n    </tr>\n    <tr>\n      <th>1998</th>\n      <td>53</td>\n      <td>['cough', 'pain in the lower back or side', 'c...</td>\n      <td>2</td>\n      <td>No</td>\n      <td>Available</td>\n      <td>Evening</td>\n      <td>2024-12-28 03:20:37</td>\n      <td>10</td>\n      <td>Moderate</td>\n    </tr>\n    <tr>\n      <th>1999</th>\n      <td>35</td>\n      <td>['sexually transmitted infection that can caus...</td>\n      <td>9</td>\n      <td>No</td>\n      <td>Available</td>\n      <td>Morning</td>\n      <td>2024-02-18 13:05:04</td>\n      <td>0</td>\n      <td>Severe</td>\n    </tr>\n  </tbody>\n</table>\n<p>2000 rows × 9 columns</p>\n</div>"
     },
     "execution_count": 265,
     "metadata": {},
     "output_type": "execute_result"
    }
   ],
   "source": [
    "patient_df = pd.read_csv(BASE_DATASET_PATH)\n",
    "\n",
    "patient_df"
   ],
   "metadata": {
    "collapsed": false,
    "ExecuteTime": {
     "end_time": "2024-03-22T05:53:48.602709Z",
     "start_time": "2024-03-22T05:53:48.595339Z"
    }
   },
   "id": "3167b14dcd9e37b6",
   "execution_count": 265
  },
  {
   "cell_type": "code",
   "outputs": [
    {
     "data": {
      "text/plain": "(      Age                                     Cause_of_Visit  \\\n 0       4  ['diarrhea', 'bulge in the wall of the aorta',...   \n 1      23  ['decreased kidney function', 'cough that does...   \n 2      34      ['chest pain', 'fever', 'difficulty getting']   \n 3      80    ['fever', 'hyperthyroidism', 'widespread pain']   \n 4      87  ['extreme mood swings', 'fever', 'sudden weakn...   \n ...   ...                                                ...   \n 1995   81  ['nausea', 'pain in the lower back or side', '...   \n 1996   23          ['difficulty urinating', 'rash', 'fever']   \n 1997   21  ['lump', 'chronic autoimmune disease that can ...   \n 1998   53  ['cough', 'pain in the lower back or side', 'c...   \n 1999   35  ['sexually transmitted infection that can caus...   \n \n       No_of_Previous_Visits Cause_Matches_Previous_Visit Doctor_Availability  \\\n 0                         8                          Yes         Unavailable   \n 1                         0                           No           Available   \n 2                         9                          Yes           Available   \n 3                         7                          Yes         Unavailable   \n 4                         5                          Yes           Available   \n ...                     ...                          ...                 ...   \n 1995                      2                           No           Available   \n 1996                      1                           No           Available   \n 1997                      5                          Yes           Available   \n 1998                      2                           No           Available   \n 1999                      9                           No           Available   \n \n      Work_Shift_Time   Schedule_date_time  Delayed_by  \n 0            Evening  2024-11-17 10:03:49           0  \n 1            Evening  2024-05-18 02:05:25           5  \n 2            Evening  2024-01-02 06:56:37          10  \n 3            Evening  2024-11-06 08:43:16           0  \n 4            Morning  2024-10-25 05:12:30          10  \n ...              ...                  ...         ...  \n 1995         Morning  2024-08-04 08:45:52           0  \n 1996         Morning  2024-01-30 16:31:47           0  \n 1997       Afternoon  2024-02-27 21:11:08          15  \n 1998         Evening  2024-12-28 03:20:37          10  \n 1999         Morning  2024-02-18 13:05:04           0  \n \n [2000 rows x 8 columns],\n 0         Severe\n 1         Severe\n 2         Severe\n 3       Moderate\n 4       Moderate\n           ...   \n 1995      Severe\n 1996        Mild\n 1997      Severe\n 1998    Moderate\n 1999      Severe\n Name: Severity_of_Ailment, Length: 2000, dtype: object)"
     },
     "execution_count": 266,
     "metadata": {},
     "output_type": "execute_result"
    }
   ],
   "source": [
    "X = patient_df.iloc[:, :-1]\n",
    "y = patient_df.iloc[:, -1]\n",
    "\n",
    "X, y"
   ],
   "metadata": {
    "collapsed": false,
    "ExecuteTime": {
     "end_time": "2024-03-22T05:53:48.607648Z",
     "start_time": "2024-03-22T05:53:48.603807Z"
    }
   },
   "id": "8238eaee24a5da9b",
   "execution_count": 266
  },
  {
   "cell_type": "code",
   "outputs": [
    {
     "data": {
      "text/plain": "dtype('O')"
     },
     "execution_count": 267,
     "metadata": {},
     "output_type": "execute_result"
    }
   ],
   "source": [
    "X['Cause_of_Visit'].dtype"
   ],
   "metadata": {
    "collapsed": false,
    "ExecuteTime": {
     "end_time": "2024-03-22T05:53:48.609812Z",
     "start_time": "2024-03-22T05:53:48.608179Z"
    }
   },
   "id": "724e213676c2bf32",
   "execution_count": 267
  },
  {
   "cell_type": "code",
   "outputs": [
    {
     "data": {
      "text/plain": "\"['diarrhea', 'bulge in the wall of the aorta', 'difficulty getting']\""
     },
     "execution_count": 268,
     "metadata": {},
     "output_type": "execute_result"
    }
   ],
   "source": [
    "'\\',\\''.join(X['Cause_of_Visit'][0].split('\\' \\''))"
   ],
   "metadata": {
    "collapsed": false,
    "ExecuteTime": {
     "end_time": "2024-03-22T05:53:48.612616Z",
     "start_time": "2024-03-22T05:53:48.610814Z"
    }
   },
   "id": "8b93d87c3af084b6",
   "execution_count": 268
  },
  {
   "cell_type": "code",
   "outputs": [],
   "source": [
    "import ast\n",
    "\n",
    "X['Cause_of_Visit'] = X['Cause_of_Visit'].apply(lambda symptom: ast.literal_eval('\\',\\''.join(symptom.split('\\' \\''))))"
   ],
   "metadata": {
    "collapsed": false,
    "ExecuteTime": {
     "end_time": "2024-03-22T05:53:48.624870Z",
     "start_time": "2024-03-22T05:53:48.613086Z"
    }
   },
   "id": "2c488c3b6eb41997",
   "execution_count": 269
  },
  {
   "cell_type": "code",
   "outputs": [
    {
     "data": {
      "text/plain": "(2000,)"
     },
     "execution_count": 270,
     "metadata": {},
     "output_type": "execute_result"
    }
   ],
   "source": [
    "X['Cause_of_Visit'].shape"
   ],
   "metadata": {
    "collapsed": false,
    "ExecuteTime": {
     "end_time": "2024-03-22T05:53:48.627518Z",
     "start_time": "2024-03-22T05:53:48.625619Z"
    }
   },
   "id": "a173bc27589e674",
   "execution_count": 270
  },
  {
   "cell_type": "code",
   "outputs": [
    {
     "data": {
      "text/plain": "array(['disturbance in eating behavior that can lead to serious health problemssudden weakness',\n       'difficulty gettingdifficulty urinating',\n       'sexually transmitted infection that can cause burning during urinationpain in the lower right abdomen',\n       'disturbance in eating behavior that can lead to serious health problemshyperthyroidism',\n       'chronic autoimmune disease that can affect any part of the bodydiarrhea',\n       'change in bowel habitsincreased pressure in the eye that can damage the optic nerveinflammation of the liver',\n       'widespread painsexually transmitted infection that can cause blisters on the genitalsphysical dependence on alcohol',\n       'sudden weaknessdifficulty with social interaction',\n       'sexually transmitted infection that can cause blisters on the genitalspainful urination',\n       'increased pressure in the eye that can damage the optic nervepain in the lower right abdomen',\n       'diarrheaincreased pressure in the eye that can damage the optic nerveexcessive worry',\n       'feverdisturbance in eating behavior that can lead to serious health problems',\n       'lump',\n       'sudden weaknesscondition in which the heart cannot pump blood as well as it shouldseizures',\n       'increased pressure in the eye that can damage the optic nervepain in the upper abdomen',\n       'tremorspain in the lower right abdomen', 'hyperthyroidism',\n       'sexually transmitted infection that can cause blisters on the genitalsraised',\n       'condition in which the heart cannot pump blood as well as it shoulddisturbance in eating behavior that can lead to serious health problemsswollen',\n       'bulge in the wall of the aortafever',\n       'increased pressure in the eye that can damage the optic nervedifficulty urinating',\n       'sadnessdamage to the kidneys that can lead to kidney failure',\n       'pain in the upper right abdomen',\n       'extreme mood swingsdamage to the kidneys that can lead to kidney failure',\n       'cough that does not go awaydecreased kidney function',\n       'hypothyroidismsexually transmitted infection that can cause blisters on the genitals',\n       'cough that does not go awaypainful urination', 'pain',\n       'itchychronic autoimmune disease that can affect any part of the body',\n       'cough',\n       'painful urinationsexually transmitted infection that can cause blisters on the genitals',\n       'abdominal paindisturbance in eating behavior that can lead to serious health problems',\n       'chronic autoimmune disease that can affect any part of the bodyrunny nose',\n       'sexually transmitted infection that can cause blisters on the genitalscondition that affects the lungs',\n       'damage to the kidneys that can lead to kidney failurepainful urination',\n       'chest paindisturbance in eating behavior that can lead to serious health problemsdifficulty urinating',\n       'increased pressure in the eye that can damage the optic nerveinflammation of the liver',\n       'painful rash that follows nerve pathincreased pressure in the eye that can damage the optic nerve',\n       'high levels of cholesterol in the blood',\n       'paincondition in which the heart cannot pump blood as well as it should',\n       'feversexually transmitted infection that can cause blisters on the genitalsphysical dependence on alcohol',\n       'chronic autoimmune disease that can affect any part of the bodylump in the neck',\n       'difficulty urinatingbulge in the wall of the aorta',\n       'cough that does not go awaydisturbance in eating behavior that can lead to serious health problems',\n       'bulge in the wall of the aorta', 'sudden weakness',\n       'itchysexually transmitted infection that can cause blisters on the genitals',\n       'disturbance in eating behavior that can lead to serious health problemshigh levels of cholesterol in the blooddamage to the kidneys that can lead to kidney failure',\n       'inflammation of the liver', 'loosehypothyroidism',\n       'damage to the kidneys that can lead to kidney failurepainful urinationsexually transmitted infection that can cause burning during urination',\n       'high levels of cholesterol in the bloodchronic bronchitis',\n       'painful rash that follows nerve pathpain in the upper right abdomen',\n       'increased pressure in the eye that can damage the optic nervechest pain',\n       'condition in which the heart cannot pump blood as well as it shouldpain in the lower back or sidedamage to the kidneys that can lead to kidney failure',\n       'rashsexually transmitted infection that can cause burning during urinationdiarrhea',\n       'physical dependence on alcoholwidespread pain',\n       'itchingchronic autoimmune disease that can affect any part of the bodypainful urination',\n       'condition that affects the lungsdisturbance in eating behavior that can lead to serious health problemsfever',\n       'physical dependence on alcoholchronic autoimmune disease that can affect any part of the body',\n       'nauseachronic autoimmune disease that can affect any part of the bodyphysical dependence on alcohol',\n       'itchingdisturbance in eating behavior that can lead to serious health problems',\n       'nauseaincreased pressure in the eye that can damage the optic nerve',\n       'pain in the lower back or side',\n       'feversexually transmitted infection that can cause blisters on the genitalschest pain',\n       'blood in the urinesexually transmitted infection that can cause burning during urinationloose',\n       'chronic bronchitissexually transmitted infection that can cause blisters on the genitals',\n       'sexually transmitted infection that can cause blisters on the genitalspainful rash that follows nerve path',\n       'rashblood in the urine', 'swollen',\n       'bulge in the wall of the aortahigh levels of cholesterol in the blood',\n       'lump in the neckincreased pressure in the eye that can damage the optic nerve',\n       'painful urinationelevated body temperature ',\n       'painful urinationdamage to the kidneys that can lead to kidney failure',\n       'vomitingitching',\n       'pain in the lower right abdomensexually transmitted infection that can cause blisters on the genitalshyperthyroidism',\n       'change in bowel habitssexually transmitted infection that can cause burning during urinationincreased thirst',\n       'inflammation of the liverincreased pressure in the eye that can damage the optic nerve',\n       'blood in the urinesexually transmitted infection that can cause burning during urination',\n       'condition that affects the lungsdifficulty getting',\n       'chronic autoimmune disease that can affect any part of the bodyhypothyroidism',\n       'chronic autoimmune disease that can affect any part of the bodyexcessive worry',\n       'high levels of cholesterol in the bloodcondition in which the heart cannot pump blood as well as it shouldinflammation of the liver',\n       'hypothyroidismcondition that affects the lungs',\n       'difficulty with social interactionextreme mood swings',\n       'sexually transmitted infection that can cause blisters on the genitalsnausea',\n       'pain in the upper right abdomenincreased pressure in the eye that can damage the optic nerveelevated body temperature ',\n       'change in bowel habitsdiarrhea',\n       'wheezingincreased pressure in the eye that can damage the optic nerve',\n       'bulge in the wall of the aortadisturbance in eating behavior that can lead to serious health problems',\n       'damage to the kidneys that can lead to kidney failurepainful rash that follows nerve path',\n       'increased thirstdamage to the kidneys that can lead to kidney failuredifficulty with social interaction',\n       'condition in which the heart cannot pump blood as well as it shouldpain in the lower right abdomen',\n       'painful urinationcondition in which the heart cannot pump blood as well as it shouldraised',\n       'painful urinationpain in the upper right abdomen',\n       'extreme mood swings',\n       'runny noseincreased pressure in the eye that can damage the optic nerve',\n       'feverincreased pressure in the eye that can damage the optic nerve',\n       'rashelevated body temperature ', 'red',\n       'disturbance in eating behavior that can lead to serious health problemsdiarrhea',\n       'extreme mood swingsdisturbance in eating behavior that can lead to serious health problemsbulge in the wall of the aorta',\n       'pain in the lower back or sidecondition in which the heart cannot pump blood as well as it shouldhigh levels of cholesterol in the blood',\n       'itchyincreased pressure in the eye that can damage the optic nerve',\n       'itchydamage to the kidneys that can lead to kidney failure',\n       'high levels of cholesterol in the bloodraised',\n       'bulge in the wall of the aortaabnormal pap test results',\n       'seizurespain in the upper right abdomen',\n       'painful urinationdisturbance in eating behavior that can lead to serious health problemspain in the lower back or side',\n       'difficulty with social interactiondamage to the kidneys that can lead to kidney failure',\n       'itchysexually transmitted infection that can cause blisters on the genitalshigh levels of cholesterol in the blood',\n       'sadnesschange in bowel habits',\n       'itchysexually transmitted infection that can cause blisters on the genitalssudden weakness',\n       'sadnesschronic autoimmune disease that can affect any part of the body',\n       'damage to the kidneys that can lead to kidney failurephysical dependence on alcoholcondition in which the heart cannot pump blood as well as it should',\n       'swollensexually transmitted infection that can cause blisters on the genitalsrash',\n       'sadness',\n       'condition in which the heart cannot pump blood as well as it shouldsadnesschronic autoimmune disease that can affect any part of the body',\n       'damage to the kidneys that can lead to kidney failurehigh levels of cholesterol in the bloodphysical dependence on alcohol',\n       'high levels of cholesterol in the bloodpain in the lower right abdomen',\n       'bulge in the wall of the aortaextreme mood swings',\n       'chronic autoimmune disease that can affect any part of the bodywidespread pain',\n       'chronic bronchitisinflammation of the liver',\n       'difficulty with social interactioninflammation of the liver',\n       'condition in which the heart cannot pump blood as well as it shouldabdominal pain',\n       'rashcondition in which the heart cannot pump blood as well as it shouldincreased pressure in the eye that can damage the optic nerve',\n       'pain in the lower right abdomen',\n       'excessive worrydisturbance in eating behavior that can lead to serious health problems',\n       'cough that does not go awaydamage to the kidneys that can lead to kidney failure',\n       'tremorshigh levels of cholesterol in the blood',\n       'wheezingsexually transmitted infection that can cause burning during urinationrash',\n       'nauseachronic autoimmune disease that can affect any part of the body',\n       'sexually transmitted infection that can cause burning during urinationsadness',\n       'wheezingsexually transmitted infection that can cause burning during urination',\n       'loosecondition in which the heart cannot pump blood as well as it should',\n       'runny nose',\n       'pain in the lower back or sidedamage to the kidneys that can lead to kidney failure',\n       'diarrheasexually transmitted infection that can cause burning during urinationrash',\n       'painful rash that follows nerve pathhigh levels of cholesterol in the blood',\n       'abnormal pap test resultsdisturbance in eating behavior that can lead to serious health problems',\n       'sexually transmitted infection that can cause blisters on the genitalsincreased thirst',\n       'runny nosecondition in which the heart cannot pump blood as well as it shouldchange in bowel habits',\n       'abnormal pap test resultswidespread pain',\n       'blood in the urinedamage to the kidneys that can lead to kidney failure',\n       'pain in the lower back or sideelevated body temperature ',\n       'decreased kidney functionincreased pressure in the eye that can damage the optic nerve',\n       'lump in the neckcondition in which the heart cannot pump blood as well as it shouldrunny nose',\n       'cough that does not go awayexcessive worry',\n       'pain in the upper abdomen',\n       'abnormal pap test resultsexcessive worry', 'itching',\n       'memory losscondition in which the heart cannot pump blood as well as it shouldpain in the lower right abdomen',\n       'decreased kidney function',\n       'pain in the lower back or sidecondition in which the heart cannot pump blood as well as it shouldsexually transmitted infection that can cause burning during urination',\n       'pain in the lower back or sidedifficulty with social interaction',\n       'increased pressure in the eye that can damage the optic nerveincreased thirst',\n       'hypothyroidism',\n       'disturbance in eating behavior that can lead to serious health problemslump in the neck',\n       'redsexually transmitted infection that can cause burning during urinationhigh levels of cholesterol in the blood',\n       'cough that does not go away', 'change in bowel habits',\n       'pain in the lower back or sidepainful rash that follows nerve path',\n       'damage to the kidneys that can lead to kidney failureelevated body temperature ',\n       'high levels of cholesterol in the bloodincreased pressure in the eye that can damage the optic nervedifficulty urinating',\n       'widespread painpain in the lower back or side',\n       'extreme mood swingschronic bronchitis',\n       'condition that affects the lungsdisturbance in eating behavior that can lead to serious health problemsabdominal pain',\n       'condition in which the heart cannot pump blood as well as it shouldhyperthyroidism',\n       'difficulty gettingcondition in which the heart cannot pump blood as well as it should',\n       'itchingsexually transmitted infection that can cause blisters on the genitalsphysical dependence on alcohol',\n       'inflammation of the liversexually transmitted infection that can cause burning during urination',\n       'blood in the urinechronic autoimmune disease that can affect any part of the body',\n       'damage to the kidneys that can lead to kidney failurecough that does not go away',\n       'wheezingdisturbance in eating behavior that can lead to serious health problems',\n       'abnormal pap test results',\n       'increased pressure in the eye that can damage the optic nervepainful urination',\n       'pain in the upper right abdomenincreased pressure in the eye that can damage the optic nervephysical dependence on alcohol',\n       'chronic autoimmune disease that can affect any part of the bodypain in the upper abdomen',\n       'abdominal paincondition in which the heart cannot pump blood as well as it shoulditchy',\n       'bulge in the wall of the aortared',\n       'increased pressure in the eye that can damage the optic nerveseizures',\n       'difficulty gettingdamage to the kidneys that can lead to kidney failurechange in bowel habits',\n       'raised',\n       'lump in the neckdisturbance in eating behavior that can lead to serious health problems',\n       'sexually transmitted infection that can cause burning during urinationred',\n       'chronic bronchitischronic autoimmune disease that can affect any part of the body',\n       'sadnesssexually transmitted infection that can cause blisters on the genitalsdifficulty urinating',\n       'extreme mood swingscondition that affects the lungs', 'itchy',\n       'painincreased pressure in the eye that can damage the optic nerve',\n       'sexually transmitted infection that can cause burning during urinationpain in the upper right abdomen',\n       'sexually transmitted infection that can cause burning during urinationincreased pressure in the eye that can damage the optic nerve',\n       'condition that affects the lungs',\n       'bulge in the wall of the aortachronic autoimmune disease that can affect any part of the body',\n       'high levels of cholesterol in the bloodcondition that affects the lungs',\n       'decreased kidney functionpain in the lower right abdomen',\n       'difficulty gettingcondition in which the heart cannot pump blood as well as it shouldfever',\n       'abnormal pap test resultscough that does not go away',\n       'sexually transmitted infection that can cause burning during urinationsexually transmitted infection that can cause blisters on the genitalsblood in the urine',\n       'blood in the urine', 'memory losspain in the upper abdomen',\n       'widespread painchronic autoimmune disease that can affect any part of the bodyexcessive worry',\n       'sexually transmitted infection that can cause burning during urinationextreme mood swings',\n       'condition in which the heart cannot pump blood as well as it shouldwidespread pain',\n       'runny noseincreased pressure in the eye that can damage the optic nervehypothyroidism',\n       'abdominal painsexually transmitted infection that can cause burning during urination',\n       'disturbance in eating behavior that can lead to serious health problemschest pain',\n       'disturbance in eating behavior that can lead to serious health problemssexually transmitted infection that can cause blisters on the genitalsdifficulty with social interaction',\n       'painful rash that follows nerve path',\n       'pain in the lower right abdomenhigh levels of cholesterol in the blood',\n       'raisedsexually transmitted infection that can cause blisters on the genitalsabdominal pain',\n       'excessive worry',\n       'damage to the kidneys that can lead to kidney failure',\n       'bulge in the wall of the aortadamage to the kidneys that can lead to kidney failure',\n       'elevated body temperature ',\n       'pain in the lower right abdomenincreased pressure in the eye that can damage the optic nerve',\n       'swollendisturbance in eating behavior that can lead to serious health problems',\n       'bulge in the wall of the aortaincreased pressure in the eye that can damage the optic nerveincreased thirst',\n       'vomiting', 'extreme mood swingsabnormal pap test results',\n       'wheezingincreased pressure in the eye that can damage the optic nervehyperthyroidism',\n       'disturbance in eating behavior that can lead to serious health problemsdifficulty urinating',\n       'elevated body temperature disturbance in eating behavior that can lead to serious health problems',\n       'lump in the neck',\n       'diarrheasexually transmitted infection that can cause burning during urinationvomiting',\n       'pain in the lower back or sideincreased pressure in the eye that can damage the optic nervepainful urination',\n       'seizuresdamage to the kidneys that can lead to kidney failure',\n       'lumpdamage to the kidneys that can lead to kidney failure',\n       'damage to the kidneys that can lead to kidney failurelump',\n       'nauseacondition in which the heart cannot pump blood as well as it shouldabdominal pain',\n       'hyperthyroidismsexually transmitted infection that can cause burning during urination',\n       'abnormal pap test resultssexually transmitted infection that can cause burning during urinationsexually transmitted infection that can cause blisters on the genitals',\n       'raisedsexually transmitted infection that can cause burning during urination',\n       'nausea',\n       'difficulty with social interactiondisturbance in eating behavior that can lead to serious health problems',\n       'damage to the kidneys that can lead to kidney failuredisturbance in eating behavior that can lead to serious health problems',\n       'difficulty urinatingsexually transmitted infection that can cause blisters on the genitalsvomiting',\n       'pain in the upper right abdomenincreased pressure in the eye that can damage the optic nerveabdominal pain',\n       'swollensexually transmitted infection that can cause burning during urination',\n       'increased pressure in the eye that can damage the optic nervecough that does not go away',\n       'physical dependence on alcoholsexually transmitted infection that can cause burning during urinationlump',\n       'condition in which the heart cannot pump blood as well as it shoulddifficulty urinating',\n       'condition that affects the lungshigh levels of cholesterol in the blood',\n       'difficulty urinatingsexually transmitted infection that can cause blisters on the genitals',\n       'sudden weaknesssexually transmitted infection that can cause burning during urination',\n       'sexually transmitted infection that can cause burning during urinationpainful rash that follows nerve path',\n       'tremorssexually transmitted infection that can cause burning during urinationcondition that affects the lungs',\n       'painful urinationincreased pressure in the eye that can damage the optic nerve',\n       'chronic autoimmune disease that can affect any part of the bodypain',\n       'damage to the kidneys that can lead to kidney failureinflammation of the liver',\n       'damage to the kidneys that can lead to kidney failureraised',\n       'sexually transmitted infection that can cause blisters on the genitalsinflammation of the liver',\n       'sexually transmitted infection that can cause blisters on the genitalshypothyroidism',\n       'itchysexually transmitted infection that can cause burning during urinationitching',\n       'raisedchronic autoimmune disease that can affect any part of the body',\n       'high levels of cholesterol in the bloodpainful rash that follows nerve path',\n       'pain in the lower right abdomendamage to the kidneys that can lead to kidney failure',\n       'runny nosecondition in which the heart cannot pump blood as well as it shouldincreased pressure in the eye that can damage the optic nerve',\n       'chronic bronchitis',\n       'chronic autoimmune disease that can affect any part of the bodydecreased kidney functiondisturbance in eating behavior that can lead to serious health problems',\n       'pain in the lower back or sidesudden weakness',\n       'pain in the lower right abdomensexually transmitted infection that can cause burning during urinationpain',\n       'sexually transmitted infection that can cause blisters on the genitalsabdominal pain',\n       'damage to the kidneys that can lead to kidney failurevomiting',\n       'cough that does not go awaypain in the lower back or side',\n       'disturbance in eating behavior that can lead to serious health problemscondition that affects the lungs',\n       'loose',\n       'inflammation of the liversexually transmitted infection that can cause blisters on the genitals',\n       'chronic bronchitispain in the lower right abdomen',\n       'difficulty gettinginflammation of the liver',\n       'pain in the lower right abdomensexually transmitted infection that can cause blisters on the genitalsexcessive worry',\n       'hyperthyroidismdisturbance in eating behavior that can lead to serious health problems',\n       'excessive worrychronic autoimmune disease that can affect any part of the body',\n       'pain in the upper right abdomenhyperthyroidism',\n       'condition in which the heart cannot pump blood as well as it shouldchronic bronchitis',\n       'lumpwheezing', 'widespread pain',\n       'memory lossdisturbance in eating behavior that can lead to serious health problems',\n       'blood in the urinepain in the upper abdomen', 'fatigue',\n       'sexually transmitted infection that can cause blisters on the genitalsdisturbance in eating behavior that can lead to serious health problemspain',\n       'difficulty gettingchronic autoimmune disease that can affect any part of the body',\n       'abdominal pain',\n       'nauseasexually transmitted infection that can cause burning during urination',\n       'widespread painsexually transmitted infection that can cause burning during urination',\n       'condition that affects the lungsblood in the urine',\n       'tremorsincreased pressure in the eye that can damage the optic nerve',\n       'change in bowel habitsdisturbance in eating behavior that can lead to serious health problems',\n       'runny nosepain in the lower right abdomen',\n       'pain in the upper right abdomenabnormal pap test results',\n       'sexually transmitted infection that can cause blisters on the genitalselevated body temperature ',\n       'difficulty getting',\n       'condition in which the heart cannot pump blood as well as it shouldlump',\n       'condition that affects the lungscondition in which the heart cannot pump blood as well as it shouldsadness',\n       'elevated body temperature change in bowel habits',\n       'rashsexually transmitted infection that can cause burning during urination',\n       'lumpsexually transmitted infection that can cause burning during urination',\n       'seizures',\n       'increased pressure in the eye that can damage the optic nervedecreased kidney function',\n       'physical dependence on alcohol',\n       'condition that affects the lungsdifficulty urinating',\n       'sexually transmitted infection that can cause blisters on the genitalsdiarrhea',\n       'vomitingchronic autoimmune disease that can affect any part of the bodyexcessive worry',\n       'damage to the kidneys that can lead to kidney failuredecreased kidney function',\n       'tremorssexually transmitted infection that can cause burning during urinationred',\n       'fever',\n       'condition in which the heart cannot pump blood as well as it shouldrunny nose',\n       'rash',\n       'tremorsdamage to the kidneys that can lead to kidney failure',\n       'tremorsdisturbance in eating behavior that can lead to serious health problems',\n       'tremorspain in the upper right abdomen',\n       'lumpsexually transmitted infection that can cause blisters on the genitals',\n       'sexually transmitted infection that can cause burning during urinationrash',\n       'hypothyroidismchronic autoimmune disease that can affect any part of the bodyitching',\n       'condition in which the heart cannot pump blood as well as it shouldblood in the urine',\n       'diarrhea',\n       'sexually transmitted infection that can cause blisters on the genitalscough',\n       'lumpincreased pressure in the eye that can damage the optic nerve',\n       'inflammation of the liverpain in the upper right abdomen',\n       'increased pressure in the eye that can damage the optic nerve',\n       'sexually transmitted infection that can cause burning during urinationhypothyroidism',\n       'sexually transmitted infection that can cause burning during urinationhigh levels of cholesterol in the blood',\n       'chronic autoimmune disease that can affect any part of the bodycondition that affects the lungs',\n       'extreme mood swingsmemory loss',\n       'lump in the neckcondition in which the heart cannot pump blood as well as it shouldtremors',\n       'sexually transmitted infection that can cause burning during urinationpain in the upper abdomen',\n       'damage to the kidneys that can lead to kidney failurehypothyroidism',\n       'itchydisturbance in eating behavior that can lead to serious health problems',\n       'cough that does not go awayabnormal pap test results',\n       'chronic autoimmune disease that can affect any part of the bodypainful rash that follows nerve path',\n       'painful urination', 'memory loss',\n       'increased pressure in the eye that can damage the optic nervedamage to the kidneys that can lead to kidney failure',\n       'bulge in the wall of the aortachange in bowel habits',\n       'increased pressure in the eye that can damage the optic nervedisturbance in eating behavior that can lead to serious health problemscondition in which the heart cannot pump blood as well as it should',\n       'sexually transmitted infection that can cause burning during urinationnausea',\n       'chest pain', 'high levels of cholesterol in the bloodseizures',\n       'condition that affects the lungspainful rash that follows nerve path',\n       'physical dependence on alcoholsexually transmitted infection that can cause burning during urination',\n       'nauseadisturbance in eating behavior that can lead to serious health problemssadness',\n       'sexually transmitted infection that can cause blisters on the genitalscough that does not go away',\n       'pain in the lower right abdomenchronic autoimmune disease that can affect any part of the body',\n       'sexually transmitted infection that can cause burning during urinationseizures',\n       'sexually transmitted infection that can cause burning during urinationdecreased kidney function',\n       'sexually transmitted infection that can cause burning during urinationfever',\n       'pain in the upper abdomendifficulty urinating',\n       'redcondition in which the heart cannot pump blood as well as it should',\n       'disturbance in eating behavior that can lead to serious health problemswidespread pain',\n       'condition that affects the lungsdisturbance in eating behavior that can lead to serious health problemsdifficulty getting',\n       'lumpchronic autoimmune disease that can affect any part of the body',\n       'looseextreme mood swings', 'wheezing',\n       'increased pressure in the eye that can damage the optic nervesadness',\n       'sexually transmitted infection that can cause burning during urinationabnormal pap test results',\n       'difficulty with social interactionblood in the urine',\n       'elevated body temperature pain in the lower back or side',\n       'extreme mood swingspain in the lower back or side',\n       'decreased kidney functionpainful rash that follows nerve path',\n       'cough that does not go awaychronic autoimmune disease that can affect any part of the body',\n       'difficulty urinatingsexually transmitted infection that can cause burning during urinationraised',\n       'pain in the lower right abdomendisturbance in eating behavior that can lead to serious health problems',\n       'swollenchronic autoimmune disease that can affect any part of the body',\n       'change in bowel habitsblood in the urine',\n       'bulge in the wall of the aortainflammation of the liver',\n       'tremors',\n       'sexually transmitted infection that can cause blisters on the genitalspain in the upper abdomen',\n       'difficulty with social interaction',\n       'diarrheadifficulty with social interaction',\n       'disturbance in eating behavior that can lead to serious health problemsfever',\n       'chest painelevated body temperature ',\n       'disturbance in eating behavior that can lead to serious health problemspainful rash that follows nerve path',\n       'coughdamage to the kidneys that can lead to kidney failure',\n       'disturbance in eating behavior that can lead to serious health problemssexually transmitted infection that can cause burning during urinationincreased thirst',\n       'nauseadifficulty urinating', 'increased thirst',\n       'chronic autoimmune disease that can affect any part of the bodyabdominal pain',\n       'increased pressure in the eye that can damage the optic nervedamage to the kidneys that can lead to kidney failurecondition that affects the lungs',\n       'damage to the kidneys that can lead to kidney failurehyperthyroidism',\n       'nauseasexually transmitted infection that can cause blisters on the genitalspain in the upper abdomen',\n       'chronic autoimmune disease that can affect any part of the body',\n       'physical dependence on alcoholbulge in the wall of the aorta',\n       'condition that affects the lungsitchy',\n       'runny nosehypothyroidism',\n       'increased pressure in the eye that can damage the optic nerveabnormal pap test results',\n       'pain in the upper abdomendamage to the kidneys that can lead to kidney failure',\n       'pain in the lower back or sideincreased pressure in the eye that can damage the optic nerve',\n       'itchycondition in which the heart cannot pump blood as well as it should',\n       'sexually transmitted infection that can cause blisters on the genitalsmemory loss',\n       'sexually transmitted infection that can cause blisters on the genitalsdifficulty getting',\n       'difficulty urinating',\n       'increased pressure in the eye that can damage the optic nervepain in the upper right abdomen',\n       'diarrheasexually transmitted infection that can cause burning during urinationfatigue',\n       'pain in the lower right abdomendifficulty urinating',\n       'paindisturbance in eating behavior that can lead to serious health problemssudden weakness',\n       'feverbulge in the wall of the aorta',\n       'difficulty urinatingelevated body temperature '], dtype='<U199')"
     },
     "execution_count": 271,
     "metadata": {},
     "output_type": "execute_result"
    }
   ],
   "source": [
    "# Unique Symptoms Vocabulary\n",
    "\n",
    "symptoms = X['Cause_of_Visit'].sum()\n",
    "symptoms = list(set(symptoms))\n",
    "\n",
    "symptoms = np.array(symptoms)\n",
    "\n",
    "# symptoms = np.expand_dims(symptoms, axis=1)\n",
    "symptoms"
   ],
   "metadata": {
    "collapsed": false,
    "ExecuteTime": {
     "end_time": "2024-03-22T05:53:48.641415Z",
     "start_time": "2024-03-22T05:53:48.627989Z"
    }
   },
   "id": "fbba93270162bf37",
   "execution_count": 271
  },
  {
   "cell_type": "code",
   "outputs": [],
   "source": [
    "def join_symptoms(symptoms_list):\n",
    "  return ' '.join(symptoms_list) if isinstance(symptoms_list, list) else symptoms_list\n",
    "\n",
    "\n",
    "def tokens(symptom):\n",
    "    return symptom"
   ],
   "metadata": {
    "collapsed": false,
    "ExecuteTime": {
     "end_time": "2024-03-22T05:53:48.643640Z",
     "start_time": "2024-03-22T05:53:48.642058Z"
    }
   },
   "id": "407cb546ef230d16",
   "execution_count": 272
  },
  {
   "cell_type": "code",
   "outputs": [],
   "source": [
    "# X['Cause_of_Visit'] = X['Cause_of_Visit'].apply(join_symptoms)"
   ],
   "metadata": {
    "collapsed": false,
    "ExecuteTime": {
     "end_time": "2024-03-22T05:53:48.646126Z",
     "start_time": "2024-03-22T05:53:48.644989Z"
    }
   },
   "id": "a9826f4d61943d5d",
   "execution_count": 273
  },
  {
   "cell_type": "code",
   "outputs": [
    {
     "data": {
      "text/plain": "array([[0., 0., 0., 0., 0., 0., 0., 0., 0., 0., 0., 0., 0., 0., 0., 0.,\n        0., 0., 0., 0., 0., 0., 0., 0., 0., 0., 0., 0., 0., 0., 0., 0.,\n        0., 0., 0., 0., 0., 0., 0., 0., 0., 0., 0., 0., 0., 0., 0., 0.,\n        0., 0., 0., 0., 0., 0., 0., 0., 0., 0., 0., 0., 0., 0., 0., 0.,\n        0., 0., 0., 0., 0., 0., 0., 0., 0., 0., 0., 0., 0., 0., 0., 0.,\n        0., 0., 0., 0., 0., 0., 0., 0., 0., 0., 0., 0., 0., 0., 0., 0.,\n        0., 0., 0., 0., 0., 0., 0., 0., 0., 0., 0., 0., 0., 0., 0., 0.,\n        0., 0., 0., 0., 0., 0., 0., 0., 0., 0., 0., 0., 0., 0., 0., 0.,\n        0., 0., 0., 0., 0., 0., 0., 0., 0., 0., 0., 0., 0., 0., 0., 0.,\n        0., 0., 0., 0., 0., 0., 0., 0., 0., 0., 0., 0., 0., 0., 0., 0.,\n        0., 0., 0., 0., 0., 0., 0., 0., 0., 0., 0., 0., 0., 0., 0., 0.,\n        0., 0., 0., 0., 0., 0., 0., 0., 0., 0., 0., 0., 0., 0., 0., 0.,\n        0., 0., 0., 0., 0., 0., 0., 0., 0., 0., 0., 0., 0., 0., 0., 0.,\n        0., 0., 0., 0., 0., 0., 0., 0., 0., 0., 0., 0., 0., 0., 0., 0.,\n        0., 0., 0., 0., 0., 0., 0., 0., 0., 0., 0., 0., 0., 0., 0., 0.,\n        0., 0., 0., 0., 0., 0., 0., 0., 0., 0., 0., 0., 0., 0., 0., 0.,\n        0., 0., 0., 0., 0., 0., 0., 0., 0., 0., 0., 0., 0., 0., 0., 0.,\n        0., 0., 0., 0., 0., 0., 0., 0., 0., 0., 0., 0., 0., 0., 0., 0.,\n        0., 0., 0., 0., 0., 0., 0., 0., 0., 0., 0., 0., 0., 0., 0., 0.,\n        0., 0., 0., 0., 0., 0., 0., 0., 0., 0., 0., 0., 0., 0., 0., 0.,\n        0., 0., 0., 0., 0., 0., 0., 0., 0., 0., 0., 0., 0., 0., 0., 0.,\n        0., 0., 0., 0., 0., 0., 0., 0., 0., 0., 0., 0., 0., 0., 0., 0.,\n        0., 0., 0., 0., 0., 0., 0., 0., 0., 0., 0., 0., 0., 0., 0., 0.,\n        0., 0., 0., 0., 0., 0., 0., 0., 0., 0., 0., 0., 0., 0., 0., 0.,\n        0., 0., 0., 0., 0., 0., 0., 0., 0., 0., 0., 0., 0.]])"
     },
     "execution_count": 274,
     "metadata": {},
     "output_type": "execute_result"
    }
   ],
   "source": [
    "symptoms_vectorizer = TfidfVectorizer(lowercase=False, token_pattern=None, tokenizer=tokens)\n",
    "\n",
    "# X['Cause_of_Visit'] = X['Cause_of_Visit'].apply(lambda symptom: ' '.join(symptom))\n",
    "\n",
    "X['Cause_of_Visit'] = symptoms_vectorizer.fit_transform(X['Cause_of_Visit']).toarray()\n",
    "\n",
    "symptoms_vectorizer.transform(['fever']).toarray()"
   ],
   "metadata": {
    "collapsed": false,
    "ExecuteTime": {
     "end_time": "2024-03-22T05:53:48.654663Z",
     "start_time": "2024-03-22T05:53:48.646591Z"
    }
   },
   "id": "4bb0b241834626e0",
   "execution_count": 274
  },
  {
   "cell_type": "code",
   "outputs": [],
   "source": [
    "def vectorize_symptoms(symptoms: list):\n",
    "    print(f\"Vectorizing {len(symptoms)}\")\n",
    "    print(f\"Symptoms: {symptoms}\")\n",
    "    v = symptoms_vectorizer.transform([symptoms])\n",
    "    # print(f\"Vectorized Symptoms: {v.toarray()[0]}\")\n",
    "    return v"
   ],
   "metadata": {
    "collapsed": false,
    "ExecuteTime": {
     "end_time": "2024-03-22T05:53:48.656708Z",
     "start_time": "2024-03-22T05:53:48.655106Z"
    }
   },
   "id": "c9f73731909b1894",
   "execution_count": 275
  },
  {
   "cell_type": "code",
   "outputs": [],
   "source": [
    "# X_tfidf = X['Cause_of_Visit'].apply(vectorize_symptoms)\n",
    "# X['Cause_of_Visit'] = X['Cause_of_Visit'].apply(vectorize_symptoms)\n",
    "\n",
    "# X = X.drop(columns=['Cause_of_Visit'])\n",
    "\n",
    "# X = hstack((X_tfidf, X))"
   ],
   "metadata": {
    "collapsed": false,
    "ExecuteTime": {
     "end_time": "2024-03-22T05:53:48.658344Z",
     "start_time": "2024-03-22T05:53:48.657155Z"
    }
   },
   "id": "eb593a1fb6845482",
   "execution_count": 276
  },
  {
   "cell_type": "code",
   "outputs": [
    {
     "data": {
      "text/plain": "0       1\n1       0\n2       0\n3       1\n4       0\n       ..\n1995    0\n1996    0\n1997    0\n1998    0\n1999    0\nName: Doctor_Availability, Length: 2000, dtype: int64"
     },
     "execution_count": 277,
     "metadata": {},
     "output_type": "execute_result"
    }
   ],
   "source": [
    "# Label Encode Doctor Availability\n",
    "doc_avail_le = LabelEncoder()\n",
    "X['Doctor_Availability'] = doc_avail_le.fit_transform(X['Doctor_Availability'])\n",
    "\n",
    "X['Doctor_Availability']"
   ],
   "metadata": {
    "collapsed": false,
    "ExecuteTime": {
     "end_time": "2024-03-22T05:53:48.661405Z",
     "start_time": "2024-03-22T05:53:48.658753Z"
    }
   },
   "id": "e40cc3af5e253553",
   "execution_count": 277
  },
  {
   "cell_type": "code",
   "outputs": [
    {
     "data": {
      "text/plain": "0       1\n1       1\n2       1\n3       1\n4       2\n       ..\n1995    2\n1996    2\n1997    0\n1998    1\n1999    2\nName: Work_Shift_Time, Length: 2000, dtype: int64"
     },
     "execution_count": 278,
     "metadata": {},
     "output_type": "execute_result"
    }
   ],
   "source": [
    "# Label Encode Work Shift time\n",
    "\n",
    "work_shift_le = LabelEncoder()\n",
    "X['Work_Shift_Time'] = work_shift_le.fit_transform(X['Work_Shift_Time'])\n",
    "\n",
    "X['Work_Shift_Time']"
   ],
   "metadata": {
    "collapsed": false,
    "ExecuteTime": {
     "end_time": "2024-03-22T05:53:48.665235Z",
     "start_time": "2024-03-22T05:53:48.662694Z"
    }
   },
   "id": "318002a89c0dca50",
   "execution_count": 278
  },
  {
   "cell_type": "code",
   "outputs": [
    {
     "data": {
      "text/plain": "      Age  Cause_of_Visit  No_of_Previous_Visits  Doctor_Availability  \\\n0       4             0.0                      8                    1   \n1      23             0.0                      0                    0   \n2      34             0.0                      9                    0   \n3      80             0.0                      7                    1   \n4      87             0.0                      5                    0   \n...   ...             ...                    ...                  ...   \n1995   81             0.0                      2                    0   \n1996   23             0.0                      1                    0   \n1997   21             0.0                      5                    0   \n1998   53             0.0                      2                    0   \n1999   35             0.0                      9                    0   \n\n      Work_Shift_Time   Schedule_date_time  Delayed_by  \n0                   1  2024-11-17 10:03:49           0  \n1                   1  2024-05-18 02:05:25           5  \n2                   1  2024-01-02 06:56:37          10  \n3                   1  2024-11-06 08:43:16           0  \n4                   2  2024-10-25 05:12:30          10  \n...               ...                  ...         ...  \n1995                2  2024-08-04 08:45:52           0  \n1996                2  2024-01-30 16:31:47           0  \n1997                0  2024-02-27 21:11:08          15  \n1998                1  2024-12-28 03:20:37          10  \n1999                2  2024-02-18 13:05:04           0  \n\n[2000 rows x 7 columns]",
      "text/html": "<div>\n<style scoped>\n    .dataframe tbody tr th:only-of-type {\n        vertical-align: middle;\n    }\n\n    .dataframe tbody tr th {\n        vertical-align: top;\n    }\n\n    .dataframe thead th {\n        text-align: right;\n    }\n</style>\n<table border=\"1\" class=\"dataframe\">\n  <thead>\n    <tr style=\"text-align: right;\">\n      <th></th>\n      <th>Age</th>\n      <th>Cause_of_Visit</th>\n      <th>No_of_Previous_Visits</th>\n      <th>Doctor_Availability</th>\n      <th>Work_Shift_Time</th>\n      <th>Schedule_date_time</th>\n      <th>Delayed_by</th>\n    </tr>\n  </thead>\n  <tbody>\n    <tr>\n      <th>0</th>\n      <td>4</td>\n      <td>0.0</td>\n      <td>8</td>\n      <td>1</td>\n      <td>1</td>\n      <td>2024-11-17 10:03:49</td>\n      <td>0</td>\n    </tr>\n    <tr>\n      <th>1</th>\n      <td>23</td>\n      <td>0.0</td>\n      <td>0</td>\n      <td>0</td>\n      <td>1</td>\n      <td>2024-05-18 02:05:25</td>\n      <td>5</td>\n    </tr>\n    <tr>\n      <th>2</th>\n      <td>34</td>\n      <td>0.0</td>\n      <td>9</td>\n      <td>0</td>\n      <td>1</td>\n      <td>2024-01-02 06:56:37</td>\n      <td>10</td>\n    </tr>\n    <tr>\n      <th>3</th>\n      <td>80</td>\n      <td>0.0</td>\n      <td>7</td>\n      <td>1</td>\n      <td>1</td>\n      <td>2024-11-06 08:43:16</td>\n      <td>0</td>\n    </tr>\n    <tr>\n      <th>4</th>\n      <td>87</td>\n      <td>0.0</td>\n      <td>5</td>\n      <td>0</td>\n      <td>2</td>\n      <td>2024-10-25 05:12:30</td>\n      <td>10</td>\n    </tr>\n    <tr>\n      <th>...</th>\n      <td>...</td>\n      <td>...</td>\n      <td>...</td>\n      <td>...</td>\n      <td>...</td>\n      <td>...</td>\n      <td>...</td>\n    </tr>\n    <tr>\n      <th>1995</th>\n      <td>81</td>\n      <td>0.0</td>\n      <td>2</td>\n      <td>0</td>\n      <td>2</td>\n      <td>2024-08-04 08:45:52</td>\n      <td>0</td>\n    </tr>\n    <tr>\n      <th>1996</th>\n      <td>23</td>\n      <td>0.0</td>\n      <td>1</td>\n      <td>0</td>\n      <td>2</td>\n      <td>2024-01-30 16:31:47</td>\n      <td>0</td>\n    </tr>\n    <tr>\n      <th>1997</th>\n      <td>21</td>\n      <td>0.0</td>\n      <td>5</td>\n      <td>0</td>\n      <td>0</td>\n      <td>2024-02-27 21:11:08</td>\n      <td>15</td>\n    </tr>\n    <tr>\n      <th>1998</th>\n      <td>53</td>\n      <td>0.0</td>\n      <td>2</td>\n      <td>0</td>\n      <td>1</td>\n      <td>2024-12-28 03:20:37</td>\n      <td>10</td>\n    </tr>\n    <tr>\n      <th>1999</th>\n      <td>35</td>\n      <td>0.0</td>\n      <td>9</td>\n      <td>0</td>\n      <td>2</td>\n      <td>2024-02-18 13:05:04</td>\n      <td>0</td>\n    </tr>\n  </tbody>\n</table>\n<p>2000 rows × 7 columns</p>\n</div>"
     },
     "execution_count": 279,
     "metadata": {},
     "output_type": "execute_result"
    }
   ],
   "source": [
    "# Label Encode prev match\n",
    "prev_matching_le = LabelEncoder()\n",
    "\n",
    "X['Cause_Matches_Previous_Visit'] = prev_matching_le.fit_transform(X['Cause_Matches_Previous_Visit'])\n",
    "\n",
    "X.drop(columns=['Cause_Matches_Previous_Visit'])"
   ],
   "metadata": {
    "collapsed": false,
    "ExecuteTime": {
     "end_time": "2024-03-22T05:53:48.673394Z",
     "start_time": "2024-03-22T05:53:48.668599Z"
    }
   },
   "id": "f5e8a03359758391",
   "execution_count": 279
  },
  {
   "cell_type": "code",
   "outputs": [
    {
     "data": {
      "text/plain": "Age                               int64\nCause_of_Visit                  float64\nNo_of_Previous_Visits             int64\nCause_Matches_Previous_Visit      int64\nDoctor_Availability               int64\nWork_Shift_Time                   int64\nSchedule_date_time               object\nDelayed_by                        int64\ndtype: object"
     },
     "execution_count": 280,
     "metadata": {},
     "output_type": "execute_result"
    }
   ],
   "source": [
    "X.dtypes"
   ],
   "metadata": {
    "collapsed": false,
    "ExecuteTime": {
     "end_time": "2024-03-22T05:53:48.676538Z",
     "start_time": "2024-03-22T05:53:48.674338Z"
    }
   },
   "id": "7774fa4b5b9dbb08",
   "execution_count": 280
  },
  {
   "cell_type": "code",
   "outputs": [
    {
     "data": {
      "text/plain": "Age                               int64\nCause_of_Visit                  float64\nNo_of_Previous_Visits             int64\nCause_Matches_Previous_Visit      int64\nDoctor_Availability               int64\nWork_Shift_Time                   int64\nDelayed_by                        int64\ndtype: object"
     },
     "execution_count": 281,
     "metadata": {},
     "output_type": "execute_result"
    }
   ],
   "source": [
    "# X['Schedule_date_time'] = pd.to_datetime(X['Schedule_date_time'])\n",
    "# \n",
    "# X['Schedule_date_time_day'] = X['Schedule_date_time'].dt.day\n",
    "# X['Schedule_date_time_month'] = X['Schedule_date_time'].dt.month\n",
    "# X['Schedule_date_time_year'] = X['Schedule_date_time'].dt.year\n",
    "# \n",
    "# # Hour of Day\n",
    "# X['Schedule_date_time_hour_of_day'] = X['Schedule_date_time'].dt.hour\n",
    "# \n",
    "# # Cyclical Encoding of Hours\n",
    "# X['Schedule_date_time_hour_sin'] = np.sin(2 * np.pi * X['Schedule_date_time_hour_of_day']/24)\n",
    "# X['Schedule_date_time_hour_cos'] = np.cos(2 * np.pi * X['Schedule_date_time_hour_of_day']/24)\n",
    "\n",
    "X = X.drop(columns=['Schedule_date_time'])\n",
    "\n",
    "X.dtypes"
   ],
   "metadata": {
    "collapsed": false,
    "ExecuteTime": {
     "end_time": "2024-03-22T05:53:48.689611Z",
     "start_time": "2024-03-22T05:53:48.687070Z"
    }
   },
   "id": "322ba7e9ea13ed49",
   "execution_count": 281
  },
  {
   "cell_type": "code",
   "outputs": [
    {
     "data": {
      "text/plain": "array([2, 2, 2, ..., 2, 1, 2])"
     },
     "execution_count": 282,
     "metadata": {},
     "output_type": "execute_result"
    }
   ],
   "source": [
    "target_le = LabelEncoder()\n",
    "\n",
    "y = target_le.fit_transform(y)\n",
    "\n",
    "y"
   ],
   "metadata": {
    "collapsed": false,
    "ExecuteTime": {
     "end_time": "2024-03-22T05:53:48.692745Z",
     "start_time": "2024-03-22T05:53:48.690384Z"
    }
   },
   "id": "956292daf19fec0",
   "execution_count": 282
  },
  {
   "cell_type": "code",
   "outputs": [
    {
     "data": {
      "text/plain": "(1600, 400, 1600, 400)"
     },
     "execution_count": 283,
     "metadata": {},
     "output_type": "execute_result"
    }
   ],
   "source": [
    "# X = X.drop(columns=['Cause_of_Visit'])\n",
    "\n",
    "X_train, X_test, y_train, y_test = train_test_split(X, y, test_size=0.2, random_state=42)\n",
    "\n",
    "len(X_train), len(X_test), len(y_train), len(y_test)"
   ],
   "metadata": {
    "collapsed": false,
    "ExecuteTime": {
     "end_time": "2024-03-22T05:53:48.697166Z",
     "start_time": "2024-03-22T05:53:48.694411Z"
    }
   },
   "id": "dfade45c8dd45d38",
   "execution_count": 283
  },
  {
   "cell_type": "code",
   "outputs": [
    {
     "data": {
      "text/plain": "((1600, 7), (400, 7))"
     },
     "execution_count": 284,
     "metadata": {},
     "output_type": "execute_result"
    }
   ],
   "source": [
    "X_train.shape, X_test.shape"
   ],
   "metadata": {
    "collapsed": false,
    "ExecuteTime": {
     "end_time": "2024-03-22T05:53:48.707193Z",
     "start_time": "2024-03-22T05:53:48.705248Z"
    }
   },
   "id": "11487b2de9caf5b",
   "execution_count": 284
  },
  {
   "cell_type": "code",
   "outputs": [
    {
     "data": {
      "text/plain": "RandomForestClassifier(criterion='entropy', n_estimators=300, random_state=42)",
      "text/html": "<style>#sk-container-id-19 {color: black;}#sk-container-id-19 pre{padding: 0;}#sk-container-id-19 div.sk-toggleable {background-color: white;}#sk-container-id-19 label.sk-toggleable__label {cursor: pointer;display: block;width: 100%;margin-bottom: 0;padding: 0.3em;box-sizing: border-box;text-align: center;}#sk-container-id-19 label.sk-toggleable__label-arrow:before {content: \"▸\";float: left;margin-right: 0.25em;color: #696969;}#sk-container-id-19 label.sk-toggleable__label-arrow:hover:before {color: black;}#sk-container-id-19 div.sk-estimator:hover label.sk-toggleable__label-arrow:before {color: black;}#sk-container-id-19 div.sk-toggleable__content {max-height: 0;max-width: 0;overflow: hidden;text-align: left;background-color: #f0f8ff;}#sk-container-id-19 div.sk-toggleable__content pre {margin: 0.2em;color: black;border-radius: 0.25em;background-color: #f0f8ff;}#sk-container-id-19 input.sk-toggleable__control:checked~div.sk-toggleable__content {max-height: 200px;max-width: 100%;overflow: auto;}#sk-container-id-19 input.sk-toggleable__control:checked~label.sk-toggleable__label-arrow:before {content: \"▾\";}#sk-container-id-19 div.sk-estimator input.sk-toggleable__control:checked~label.sk-toggleable__label {background-color: #d4ebff;}#sk-container-id-19 div.sk-label input.sk-toggleable__control:checked~label.sk-toggleable__label {background-color: #d4ebff;}#sk-container-id-19 input.sk-hidden--visually {border: 0;clip: rect(1px 1px 1px 1px);clip: rect(1px, 1px, 1px, 1px);height: 1px;margin: -1px;overflow: hidden;padding: 0;position: absolute;width: 1px;}#sk-container-id-19 div.sk-estimator {font-family: monospace;background-color: #f0f8ff;border: 1px dotted black;border-radius: 0.25em;box-sizing: border-box;margin-bottom: 0.5em;}#sk-container-id-19 div.sk-estimator:hover {background-color: #d4ebff;}#sk-container-id-19 div.sk-parallel-item::after {content: \"\";width: 100%;border-bottom: 1px solid gray;flex-grow: 1;}#sk-container-id-19 div.sk-label:hover label.sk-toggleable__label {background-color: #d4ebff;}#sk-container-id-19 div.sk-serial::before {content: \"\";position: absolute;border-left: 1px solid gray;box-sizing: border-box;top: 0;bottom: 0;left: 50%;z-index: 0;}#sk-container-id-19 div.sk-serial {display: flex;flex-direction: column;align-items: center;background-color: white;padding-right: 0.2em;padding-left: 0.2em;position: relative;}#sk-container-id-19 div.sk-item {position: relative;z-index: 1;}#sk-container-id-19 div.sk-parallel {display: flex;align-items: stretch;justify-content: center;background-color: white;position: relative;}#sk-container-id-19 div.sk-item::before, #sk-container-id-19 div.sk-parallel-item::before {content: \"\";position: absolute;border-left: 1px solid gray;box-sizing: border-box;top: 0;bottom: 0;left: 50%;z-index: -1;}#sk-container-id-19 div.sk-parallel-item {display: flex;flex-direction: column;z-index: 1;position: relative;background-color: white;}#sk-container-id-19 div.sk-parallel-item:first-child::after {align-self: flex-end;width: 50%;}#sk-container-id-19 div.sk-parallel-item:last-child::after {align-self: flex-start;width: 50%;}#sk-container-id-19 div.sk-parallel-item:only-child::after {width: 0;}#sk-container-id-19 div.sk-dashed-wrapped {border: 1px dashed gray;margin: 0 0.4em 0.5em 0.4em;box-sizing: border-box;padding-bottom: 0.4em;background-color: white;}#sk-container-id-19 div.sk-label label {font-family: monospace;font-weight: bold;display: inline-block;line-height: 1.2em;}#sk-container-id-19 div.sk-label-container {text-align: center;}#sk-container-id-19 div.sk-container {/* jupyter's `normalize.less` sets `[hidden] { display: none; }` but bootstrap.min.css set `[hidden] { display: none !important; }` so we also need the `!important` here to be able to override the default hidden behavior on the sphinx rendered scikit-learn.org. See: https://github.com/scikit-learn/scikit-learn/issues/21755 */display: inline-block !important;position: relative;}#sk-container-id-19 div.sk-text-repr-fallback {display: none;}</style><div id=\"sk-container-id-19\" class=\"sk-top-container\"><div class=\"sk-text-repr-fallback\"><pre>RandomForestClassifier(criterion=&#x27;entropy&#x27;, n_estimators=300, random_state=42)</pre><b>In a Jupyter environment, please rerun this cell to show the HTML representation or trust the notebook. <br />On GitHub, the HTML representation is unable to render, please try loading this page with nbviewer.org.</b></div><div class=\"sk-container\" hidden><div class=\"sk-item\"><div class=\"sk-estimator sk-toggleable\"><input class=\"sk-toggleable__control sk-hidden--visually\" id=\"sk-estimator-id-19\" type=\"checkbox\" checked><label for=\"sk-estimator-id-19\" class=\"sk-toggleable__label sk-toggleable__label-arrow\">RandomForestClassifier</label><div class=\"sk-toggleable__content\"><pre>RandomForestClassifier(criterion=&#x27;entropy&#x27;, n_estimators=300, random_state=42)</pre></div></div></div></div></div>"
     },
     "execution_count": 285,
     "metadata": {},
     "output_type": "execute_result"
    }
   ],
   "source": [
    "rfc_model = RandomForestClassifier(n_estimators=300, criterion='entropy', random_state=42)\n",
    "\n",
    "rfc_model.fit(X_train, y_train)"
   ],
   "metadata": {
    "collapsed": false,
    "ExecuteTime": {
     "end_time": "2024-03-22T05:53:49.057175Z",
     "start_time": "2024-03-22T05:53:48.714846Z"
    }
   },
   "id": "c183e7c482cf4dc5",
   "execution_count": 285
  },
  {
   "cell_type": "code",
   "outputs": [
    {
     "name": "stdout",
     "output_type": "stream",
     "text": [
      "['Moderate' 'Severe' 'Severe' 'Severe' 'Moderate' 'Moderate' 'Moderate'\n",
      " 'Moderate' 'Severe' 'Moderate' 'Severe' 'Moderate' 'Moderate' 'Severe'\n",
      " 'Severe' 'Mild' 'Mild' 'Moderate' 'Severe' 'Moderate' 'Severe' 'Severe'\n",
      " 'Mild' 'Severe' 'Severe' 'Severe' 'Mild' 'Moderate' 'Mild' 'Severe'\n",
      " 'Severe' 'Moderate' 'Mild' 'Mild' 'Mild' 'Severe' 'Severe' 'Mild' 'Mild'\n",
      " 'Mild' 'Severe' 'Moderate' 'Moderate' 'Moderate' 'Moderate' 'Severe'\n",
      " 'Moderate' 'Moderate' 'Severe' 'Severe' 'Moderate' 'Moderate' 'Mild'\n",
      " 'Moderate' 'Mild' 'Moderate' 'Moderate' 'Mild' 'Moderate' 'Moderate'\n",
      " 'Severe' 'Moderate' 'Moderate' 'Moderate' 'Severe' 'Moderate' 'Mild'\n",
      " 'Severe' 'Severe' 'Severe' 'Severe' 'Mild' 'Moderate' 'Severe' 'Mild'\n",
      " 'Mild' 'Moderate' 'Moderate' 'Severe' 'Mild' 'Moderate' 'Moderate' 'Mild'\n",
      " 'Moderate' 'Mild' 'Moderate' 'Severe' 'Mild' 'Moderate' 'Mild' 'Severe'\n",
      " 'Severe' 'Moderate' 'Moderate' 'Severe' 'Severe' 'Severe' 'Moderate'\n",
      " 'Severe' 'Mild' 'Mild' 'Severe' 'Severe' 'Moderate' 'Mild' 'Severe'\n",
      " 'Mild' 'Severe' 'Mild' 'Moderate' 'Severe' 'Mild' 'Moderate' 'Severe'\n",
      " 'Severe' 'Mild' 'Severe' 'Severe' 'Moderate' 'Severe' 'Severe' 'Moderate'\n",
      " 'Moderate' 'Severe' 'Mild' 'Moderate' 'Severe' 'Mild' 'Mild' 'Severe'\n",
      " 'Severe' 'Mild' 'Moderate' 'Mild' 'Moderate' 'Severe' 'Moderate' 'Mild'\n",
      " 'Severe' 'Severe' 'Mild' 'Moderate' 'Moderate' 'Moderate' 'Severe'\n",
      " 'Moderate' 'Severe' 'Moderate' 'Moderate' 'Moderate' 'Severe' 'Severe'\n",
      " 'Severe' 'Severe' 'Severe' 'Severe' 'Moderate' 'Mild' 'Moderate'\n",
      " 'Moderate' 'Severe' 'Severe' 'Severe' 'Mild' 'Severe' 'Severe' 'Moderate'\n",
      " 'Mild' 'Severe' 'Moderate' 'Severe' 'Severe' 'Moderate' 'Moderate'\n",
      " 'Moderate' 'Mild' 'Moderate' 'Severe' 'Mild' 'Moderate' 'Moderate'\n",
      " 'Moderate' 'Moderate' 'Severe' 'Severe' 'Severe' 'Severe' 'Moderate'\n",
      " 'Mild' 'Severe' 'Severe' 'Mild' 'Mild' 'Severe' 'Moderate' 'Moderate'\n",
      " 'Mild' 'Mild' 'Mild' 'Mild' 'Severe' 'Mild' 'Mild' 'Severe' 'Mild'\n",
      " 'Moderate' 'Mild' 'Moderate' 'Moderate' 'Mild' 'Mild' 'Moderate' 'Severe'\n",
      " 'Moderate' 'Mild' 'Severe' 'Moderate' 'Moderate' 'Moderate' 'Moderate'\n",
      " 'Moderate' 'Moderate' 'Mild' 'Moderate' 'Moderate' 'Severe' 'Mild'\n",
      " 'Moderate' 'Severe' 'Mild' 'Severe' 'Moderate' 'Severe' 'Moderate'\n",
      " 'Severe' 'Moderate' 'Severe' 'Moderate' 'Moderate' 'Moderate' 'Severe'\n",
      " 'Mild' 'Mild' 'Moderate' 'Moderate' 'Moderate' 'Severe' 'Severe' 'Severe'\n",
      " 'Mild' 'Moderate' 'Severe' 'Severe' 'Severe' 'Moderate' 'Severe'\n",
      " 'Moderate' 'Mild' 'Mild' 'Mild' 'Severe' 'Severe' 'Severe' 'Moderate'\n",
      " 'Severe' 'Mild' 'Mild' 'Moderate' 'Severe' 'Severe' 'Severe' 'Moderate'\n",
      " 'Mild' 'Mild' 'Mild' 'Moderate' 'Moderate' 'Moderate' 'Moderate' 'Mild'\n",
      " 'Severe' 'Severe' 'Severe' 'Moderate' 'Mild' 'Severe' 'Severe' 'Moderate'\n",
      " 'Mild' 'Moderate' 'Mild' 'Severe' 'Moderate' 'Moderate' 'Moderate'\n",
      " 'Moderate' 'Mild' 'Mild' 'Severe' 'Mild' 'Moderate' 'Moderate' 'Moderate'\n",
      " 'Moderate' 'Moderate' 'Mild' 'Mild' 'Severe' 'Moderate' 'Mild' 'Severe'\n",
      " 'Severe' 'Mild' 'Mild' 'Severe' 'Mild' 'Mild' 'Moderate' 'Mild' 'Severe'\n",
      " 'Moderate' 'Severe' 'Mild' 'Mild' 'Severe' 'Severe' 'Moderate' 'Moderate'\n",
      " 'Moderate' 'Mild' 'Moderate' 'Severe' 'Moderate' 'Mild' 'Mild' 'Moderate'\n",
      " 'Mild' 'Severe' 'Severe' 'Severe' 'Moderate' 'Severe' 'Severe' 'Severe'\n",
      " 'Severe' 'Severe' 'Moderate' 'Moderate' 'Moderate' 'Severe' 'Mild'\n",
      " 'Severe' 'Severe' 'Moderate' 'Moderate' 'Mild' 'Moderate' 'Severe'\n",
      " 'Severe' 'Moderate' 'Severe' 'Severe' 'Moderate' 'Mild' 'Mild' 'Mild'\n",
      " 'Moderate' 'Mild' 'Severe' 'Moderate' 'Mild' 'Mild' 'Severe' 'Severe'\n",
      " 'Mild' 'Mild' 'Mild' 'Severe' 'Mild' 'Mild' 'Moderate' 'Moderate' 'Mild'\n",
      " 'Mild' 'Severe' 'Moderate' 'Mild' 'Severe' 'Severe' 'Severe' 'Moderate'\n",
      " 'Moderate' 'Mild' 'Severe' 'Severe' 'Severe' 'Mild' 'Moderate' 'Moderate'\n",
      " 'Mild']\n"
     ]
    },
    {
     "data": {
      "text/plain": "0.3625"
     },
     "execution_count": 286,
     "metadata": {},
     "output_type": "execute_result"
    }
   ],
   "source": [
    "y_preds = rfc_model.predict(X_test)\n",
    "\n",
    "print(target_le.inverse_transform(y_preds))\n",
    "accuracy_score(y_test, y_preds)"
   ],
   "metadata": {
    "collapsed": false,
    "ExecuteTime": {
     "end_time": "2024-03-22T05:53:49.079487Z",
     "start_time": "2024-03-22T05:53:49.058139Z"
    }
   },
   "id": "6d0671e00f3f9bbf",
   "execution_count": 286
  },
  {
   "cell_type": "code",
   "outputs": [
    {
     "data": {
      "text/plain": "SVC(random_state=42)",
      "text/html": "<style>#sk-container-id-20 {color: black;}#sk-container-id-20 pre{padding: 0;}#sk-container-id-20 div.sk-toggleable {background-color: white;}#sk-container-id-20 label.sk-toggleable__label {cursor: pointer;display: block;width: 100%;margin-bottom: 0;padding: 0.3em;box-sizing: border-box;text-align: center;}#sk-container-id-20 label.sk-toggleable__label-arrow:before {content: \"▸\";float: left;margin-right: 0.25em;color: #696969;}#sk-container-id-20 label.sk-toggleable__label-arrow:hover:before {color: black;}#sk-container-id-20 div.sk-estimator:hover label.sk-toggleable__label-arrow:before {color: black;}#sk-container-id-20 div.sk-toggleable__content {max-height: 0;max-width: 0;overflow: hidden;text-align: left;background-color: #f0f8ff;}#sk-container-id-20 div.sk-toggleable__content pre {margin: 0.2em;color: black;border-radius: 0.25em;background-color: #f0f8ff;}#sk-container-id-20 input.sk-toggleable__control:checked~div.sk-toggleable__content {max-height: 200px;max-width: 100%;overflow: auto;}#sk-container-id-20 input.sk-toggleable__control:checked~label.sk-toggleable__label-arrow:before {content: \"▾\";}#sk-container-id-20 div.sk-estimator input.sk-toggleable__control:checked~label.sk-toggleable__label {background-color: #d4ebff;}#sk-container-id-20 div.sk-label input.sk-toggleable__control:checked~label.sk-toggleable__label {background-color: #d4ebff;}#sk-container-id-20 input.sk-hidden--visually {border: 0;clip: rect(1px 1px 1px 1px);clip: rect(1px, 1px, 1px, 1px);height: 1px;margin: -1px;overflow: hidden;padding: 0;position: absolute;width: 1px;}#sk-container-id-20 div.sk-estimator {font-family: monospace;background-color: #f0f8ff;border: 1px dotted black;border-radius: 0.25em;box-sizing: border-box;margin-bottom: 0.5em;}#sk-container-id-20 div.sk-estimator:hover {background-color: #d4ebff;}#sk-container-id-20 div.sk-parallel-item::after {content: \"\";width: 100%;border-bottom: 1px solid gray;flex-grow: 1;}#sk-container-id-20 div.sk-label:hover label.sk-toggleable__label {background-color: #d4ebff;}#sk-container-id-20 div.sk-serial::before {content: \"\";position: absolute;border-left: 1px solid gray;box-sizing: border-box;top: 0;bottom: 0;left: 50%;z-index: 0;}#sk-container-id-20 div.sk-serial {display: flex;flex-direction: column;align-items: center;background-color: white;padding-right: 0.2em;padding-left: 0.2em;position: relative;}#sk-container-id-20 div.sk-item {position: relative;z-index: 1;}#sk-container-id-20 div.sk-parallel {display: flex;align-items: stretch;justify-content: center;background-color: white;position: relative;}#sk-container-id-20 div.sk-item::before, #sk-container-id-20 div.sk-parallel-item::before {content: \"\";position: absolute;border-left: 1px solid gray;box-sizing: border-box;top: 0;bottom: 0;left: 50%;z-index: -1;}#sk-container-id-20 div.sk-parallel-item {display: flex;flex-direction: column;z-index: 1;position: relative;background-color: white;}#sk-container-id-20 div.sk-parallel-item:first-child::after {align-self: flex-end;width: 50%;}#sk-container-id-20 div.sk-parallel-item:last-child::after {align-self: flex-start;width: 50%;}#sk-container-id-20 div.sk-parallel-item:only-child::after {width: 0;}#sk-container-id-20 div.sk-dashed-wrapped {border: 1px dashed gray;margin: 0 0.4em 0.5em 0.4em;box-sizing: border-box;padding-bottom: 0.4em;background-color: white;}#sk-container-id-20 div.sk-label label {font-family: monospace;font-weight: bold;display: inline-block;line-height: 1.2em;}#sk-container-id-20 div.sk-label-container {text-align: center;}#sk-container-id-20 div.sk-container {/* jupyter's `normalize.less` sets `[hidden] { display: none; }` but bootstrap.min.css set `[hidden] { display: none !important; }` so we also need the `!important` here to be able to override the default hidden behavior on the sphinx rendered scikit-learn.org. See: https://github.com/scikit-learn/scikit-learn/issues/21755 */display: inline-block !important;position: relative;}#sk-container-id-20 div.sk-text-repr-fallback {display: none;}</style><div id=\"sk-container-id-20\" class=\"sk-top-container\"><div class=\"sk-text-repr-fallback\"><pre>SVC(random_state=42)</pre><b>In a Jupyter environment, please rerun this cell to show the HTML representation or trust the notebook. <br />On GitHub, the HTML representation is unable to render, please try loading this page with nbviewer.org.</b></div><div class=\"sk-container\" hidden><div class=\"sk-item\"><div class=\"sk-estimator sk-toggleable\"><input class=\"sk-toggleable__control sk-hidden--visually\" id=\"sk-estimator-id-20\" type=\"checkbox\" checked><label for=\"sk-estimator-id-20\" class=\"sk-toggleable__label sk-toggleable__label-arrow\">SVC</label><div class=\"sk-toggleable__content\"><pre>SVC(random_state=42)</pre></div></div></div></div></div>"
     },
     "execution_count": 287,
     "metadata": {},
     "output_type": "execute_result"
    }
   ],
   "source": [
    "svc_model = SVC(random_state=42)\n",
    "\n",
    "svc_model.fit(X_train, y_train)"
   ],
   "metadata": {
    "collapsed": false,
    "ExecuteTime": {
     "end_time": "2024-03-22T05:53:49.130300Z",
     "start_time": "2024-03-22T05:53:49.080119Z"
    }
   },
   "id": "c01db9f772a5ce8d",
   "execution_count": 287
  },
  {
   "cell_type": "code",
   "outputs": [
    {
     "name": "stdout",
     "output_type": "stream",
     "text": [
      "0.38\n"
     ]
    }
   ],
   "source": [
    "y_preds_svc = svc_model.predict(X_test)\n",
    "\n",
    "print(accuracy_score(y_test, y_preds_svc))"
   ],
   "metadata": {
    "collapsed": false,
    "ExecuteTime": {
     "end_time": "2024-03-22T05:53:49.151697Z",
     "start_time": "2024-03-22T05:53:49.131573Z"
    }
   },
   "id": "c154449d771e46ba",
   "execution_count": 288
  },
  {
   "cell_type": "code",
   "outputs": [
    {
     "data": {
      "text/plain": "KNeighborsClassifier()",
      "text/html": "<style>#sk-container-id-21 {color: black;}#sk-container-id-21 pre{padding: 0;}#sk-container-id-21 div.sk-toggleable {background-color: white;}#sk-container-id-21 label.sk-toggleable__label {cursor: pointer;display: block;width: 100%;margin-bottom: 0;padding: 0.3em;box-sizing: border-box;text-align: center;}#sk-container-id-21 label.sk-toggleable__label-arrow:before {content: \"▸\";float: left;margin-right: 0.25em;color: #696969;}#sk-container-id-21 label.sk-toggleable__label-arrow:hover:before {color: black;}#sk-container-id-21 div.sk-estimator:hover label.sk-toggleable__label-arrow:before {color: black;}#sk-container-id-21 div.sk-toggleable__content {max-height: 0;max-width: 0;overflow: hidden;text-align: left;background-color: #f0f8ff;}#sk-container-id-21 div.sk-toggleable__content pre {margin: 0.2em;color: black;border-radius: 0.25em;background-color: #f0f8ff;}#sk-container-id-21 input.sk-toggleable__control:checked~div.sk-toggleable__content {max-height: 200px;max-width: 100%;overflow: auto;}#sk-container-id-21 input.sk-toggleable__control:checked~label.sk-toggleable__label-arrow:before {content: \"▾\";}#sk-container-id-21 div.sk-estimator input.sk-toggleable__control:checked~label.sk-toggleable__label {background-color: #d4ebff;}#sk-container-id-21 div.sk-label input.sk-toggleable__control:checked~label.sk-toggleable__label {background-color: #d4ebff;}#sk-container-id-21 input.sk-hidden--visually {border: 0;clip: rect(1px 1px 1px 1px);clip: rect(1px, 1px, 1px, 1px);height: 1px;margin: -1px;overflow: hidden;padding: 0;position: absolute;width: 1px;}#sk-container-id-21 div.sk-estimator {font-family: monospace;background-color: #f0f8ff;border: 1px dotted black;border-radius: 0.25em;box-sizing: border-box;margin-bottom: 0.5em;}#sk-container-id-21 div.sk-estimator:hover {background-color: #d4ebff;}#sk-container-id-21 div.sk-parallel-item::after {content: \"\";width: 100%;border-bottom: 1px solid gray;flex-grow: 1;}#sk-container-id-21 div.sk-label:hover label.sk-toggleable__label {background-color: #d4ebff;}#sk-container-id-21 div.sk-serial::before {content: \"\";position: absolute;border-left: 1px solid gray;box-sizing: border-box;top: 0;bottom: 0;left: 50%;z-index: 0;}#sk-container-id-21 div.sk-serial {display: flex;flex-direction: column;align-items: center;background-color: white;padding-right: 0.2em;padding-left: 0.2em;position: relative;}#sk-container-id-21 div.sk-item {position: relative;z-index: 1;}#sk-container-id-21 div.sk-parallel {display: flex;align-items: stretch;justify-content: center;background-color: white;position: relative;}#sk-container-id-21 div.sk-item::before, #sk-container-id-21 div.sk-parallel-item::before {content: \"\";position: absolute;border-left: 1px solid gray;box-sizing: border-box;top: 0;bottom: 0;left: 50%;z-index: -1;}#sk-container-id-21 div.sk-parallel-item {display: flex;flex-direction: column;z-index: 1;position: relative;background-color: white;}#sk-container-id-21 div.sk-parallel-item:first-child::after {align-self: flex-end;width: 50%;}#sk-container-id-21 div.sk-parallel-item:last-child::after {align-self: flex-start;width: 50%;}#sk-container-id-21 div.sk-parallel-item:only-child::after {width: 0;}#sk-container-id-21 div.sk-dashed-wrapped {border: 1px dashed gray;margin: 0 0.4em 0.5em 0.4em;box-sizing: border-box;padding-bottom: 0.4em;background-color: white;}#sk-container-id-21 div.sk-label label {font-family: monospace;font-weight: bold;display: inline-block;line-height: 1.2em;}#sk-container-id-21 div.sk-label-container {text-align: center;}#sk-container-id-21 div.sk-container {/* jupyter's `normalize.less` sets `[hidden] { display: none; }` but bootstrap.min.css set `[hidden] { display: none !important; }` so we also need the `!important` here to be able to override the default hidden behavior on the sphinx rendered scikit-learn.org. See: https://github.com/scikit-learn/scikit-learn/issues/21755 */display: inline-block !important;position: relative;}#sk-container-id-21 div.sk-text-repr-fallback {display: none;}</style><div id=\"sk-container-id-21\" class=\"sk-top-container\"><div class=\"sk-text-repr-fallback\"><pre>KNeighborsClassifier()</pre><b>In a Jupyter environment, please rerun this cell to show the HTML representation or trust the notebook. <br />On GitHub, the HTML representation is unable to render, please try loading this page with nbviewer.org.</b></div><div class=\"sk-container\" hidden><div class=\"sk-item\"><div class=\"sk-estimator sk-toggleable\"><input class=\"sk-toggleable__control sk-hidden--visually\" id=\"sk-estimator-id-21\" type=\"checkbox\" checked><label for=\"sk-estimator-id-21\" class=\"sk-toggleable__label sk-toggleable__label-arrow\">KNeighborsClassifier</label><div class=\"sk-toggleable__content\"><pre>KNeighborsClassifier()</pre></div></div></div></div></div>"
     },
     "execution_count": 289,
     "metadata": {},
     "output_type": "execute_result"
    }
   ],
   "source": [
    "from sklearn.neighbors import KNeighborsClassifier\n",
    "\n",
    "knn = KNeighborsClassifier(n_neighbors=5, p=2)\n",
    "\n",
    "knn.fit(X_train, y_train)"
   ],
   "metadata": {
    "collapsed": false,
    "ExecuteTime": {
     "end_time": "2024-03-22T05:53:49.155924Z",
     "start_time": "2024-03-22T05:53:49.152346Z"
    }
   },
   "id": "2370f169d75802a7",
   "execution_count": 289
  },
  {
   "cell_type": "code",
   "outputs": [
    {
     "name": "stdout",
     "output_type": "stream",
     "text": [
      "0.3475\n"
     ]
    }
   ],
   "source": [
    "y_preds_knn = knn.predict(X_test)\n",
    "\n",
    "print(accuracy_score(y_test, y_preds_knn))"
   ],
   "metadata": {
    "collapsed": false,
    "ExecuteTime": {
     "end_time": "2024-03-22T05:53:49.164100Z",
     "start_time": "2024-03-22T05:53:49.156409Z"
    }
   },
   "id": "c1e890ebac7d8350",
   "execution_count": 290
  }
 ],
 "metadata": {
  "kernelspec": {
   "display_name": "Python 3",
   "language": "python",
   "name": "python3"
  },
  "language_info": {
   "codemirror_mode": {
    "name": "ipython",
    "version": 2
   },
   "file_extension": ".py",
   "mimetype": "text/x-python",
   "name": "python",
   "nbconvert_exporter": "python",
   "pygments_lexer": "ipython2",
   "version": "2.7.6"
  }
 },
 "nbformat": 4,
 "nbformat_minor": 5
}
