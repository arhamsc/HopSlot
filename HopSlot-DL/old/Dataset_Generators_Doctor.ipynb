{
 "cells": [
  {
   "cell_type": "markdown",
   "source": [
    "# Dataset Generator"
   ],
   "metadata": {
    "collapsed": false
   },
   "id": "f98a987750d447aa"
  },
  {
   "cell_type": "markdown",
   "source": [
    "## Docter Availability"
   ],
   "metadata": {
    "collapsed": false
   },
   "id": "8852c3d63f4832c1"
  },
  {
   "cell_type": "code",
   "outputs": [],
   "source": [
    "import pandas as pd\n",
    "import numpy as np\n",
    "import uuid\n",
    "import datetime\n",
    "import random"
   ],
   "metadata": {
    "collapsed": false,
    "ExecuteTime": {
     "end_time": "2024-03-22T03:16:27.999663Z",
     "start_time": "2024-03-22T03:16:27.805308Z"
    }
   },
   "id": "8985acf470d5e40b",
   "execution_count": 2
  },
  {
   "cell_type": "code",
   "execution_count": 130,
   "id": "initial_id",
   "metadata": {
    "collapsed": true,
    "ExecuteTime": {
     "end_time": "2024-03-21T21:28:49.501063Z",
     "start_time": "2024-03-21T21:28:49.489361Z"
    }
   },
   "outputs": [],
   "source": [
    "columns = [\n",
    "    'doc_id',\n",
    "    'date', # For everyday or every doctors working day\n",
    "    'time_start', # Worktime start\n",
    "    'time_end', # Worktime end\n",
    "    'time_slot_start', # Start of his time slot\n",
    "    'time_slot_end', # End of the time slot\n",
    "    # 'time_slot_active_duration', # Excluding breaks\n",
    "    'time_slot_duration', # Total time slot duration\n",
    "    'appointments_count', # No of patients seen\n",
    "    'overtime_delay', # Extra time for the slot\n",
    "    # Realtime\n",
    "    'event_type', # Kafka event type, like delay in arrival, delay in examining a patient X, cannot make it etc\n",
    "    'event_time_stamp', # Time the event was sent\n",
    "    'delay_caused_due_to_event', # If any delay was caused due to the event\n",
    "    ### Target\n",
    "    # 'available', #Was the doctor available at that slot\n",
    "]\n",
    "\n",
    "start_times = ['9:00:00', '18:00:00', '20:00:00']\n",
    "time_slot_duration = 15\n",
    "end_times = ['11:00:00', '20:00:00', '23:00:00']\n",
    "event_types = ['cannot make it', 'delayed due to patient', 'delay in arrival']"
   ]
  },
  {
   "cell_type": "code",
   "outputs": [],
   "source": [
    "# Random date picker\n",
    "def get_random_date(only_date=True):\n",
    "    start_date = datetime.date(2024, 1, 1)\n",
    "    end_date = datetime.date(2024, 3, 31)\n",
    "\n",
    "    random_date = start_date + (end_date - start_date) * random.random()\n",
    "    random_date = datetime.datetime.combine(random_date, datetime.datetime.min.time())\n",
    "    \n",
    "    if only_date:\n",
    "        return random_date.date().__str__() \n",
    "    return random_date.__str__()\n",
    "\n",
    "get_random_date()\n",
    "\n",
    "# Split time and add minutes\n",
    "def add_minutes(time: str, minutes: int) -> str:\n",
    "    (h, m, _) = time.split(':')\n",
    "    d = datetime.timedelta(hours=int(h), minutes=int(m))\n",
    "    return (d + datetime.timedelta(minutes=minutes)).__str__()"
   ],
   "metadata": {
    "collapsed": false,
    "ExecuteTime": {
     "end_time": "2024-03-21T21:28:49.511025Z",
     "start_time": "2024-03-21T21:28:49.502694Z"
    }
   },
   "id": "f5530575c8ae374d",
   "execution_count": 131
  },
  {
   "cell_type": "code",
   "outputs": [
    {
     "data": {
      "text/plain": "'9:50:00'"
     },
     "execution_count": 132,
     "metadata": {},
     "output_type": "execute_result"
    }
   ],
   "source": [
    "add_minutes(start_times[0], 50)"
   ],
   "metadata": {
    "collapsed": false,
    "ExecuteTime": {
     "end_time": "2024-03-21T21:28:49.511853Z",
     "start_time": "2024-03-21T21:28:49.505371Z"
    }
   },
   "id": "5614ef73d5a054e4",
   "execution_count": 132
  },
  {
   "cell_type": "code",
   "outputs": [
    {
     "data": {
      "text/plain": "Empty DataFrame\nColumns: [doc_id, date, time_start, time_end, time_slot_start, time_slot_end, time_slot_duration, appointments_count, overtime_delay, event_type, event_time_stamp, delay_caused_due_to_event]\nIndex: []",
      "text/html": "<div>\n<style scoped>\n    .dataframe tbody tr th:only-of-type {\n        vertical-align: middle;\n    }\n\n    .dataframe tbody tr th {\n        vertical-align: top;\n    }\n\n    .dataframe thead th {\n        text-align: right;\n    }\n</style>\n<table border=\"1\" class=\"dataframe\">\n  <thead>\n    <tr style=\"text-align: right;\">\n      <th></th>\n      <th>doc_id</th>\n      <th>date</th>\n      <th>time_start</th>\n      <th>time_end</th>\n      <th>time_slot_start</th>\n      <th>time_slot_end</th>\n      <th>time_slot_duration</th>\n      <th>appointments_count</th>\n      <th>overtime_delay</th>\n      <th>event_type</th>\n      <th>event_time_stamp</th>\n      <th>delay_caused_due_to_event</th>\n    </tr>\n  </thead>\n  <tbody>\n  </tbody>\n</table>\n</div>"
     },
     "execution_count": 133,
     "metadata": {},
     "output_type": "execute_result"
    }
   ],
   "source": [
    "dataset = pd.DataFrame([], columns=columns)\n",
    "\n",
    "dataset    "
   ],
   "metadata": {
    "collapsed": false,
    "ExecuteTime": {
     "end_time": "2024-03-21T21:28:49.521786Z",
     "start_time": "2024-03-21T21:28:49.509030Z"
    }
   },
   "id": "27096261a72ff10",
   "execution_count": 133
  },
  {
   "cell_type": "code",
   "outputs": [
    {
     "data": {
      "text/plain": "                                   doc_id        date time_start  time_end  \\\n0    d0611be3-30af-46f7-8dad-09cdee7a8d02  2024-02-07    9:00:00  11:00:00   \n1    7d9bdfee-82bd-465d-92f2-fa7517784bac  2024-01-22    9:00:00  11:00:00   \n2    b1077fe8-00dd-4f18-8cd2-5136ebb244d4  2024-01-30    9:00:00  11:00:00   \n3    0f5c3f46-c657-42eb-a85f-d9d588587d46  2024-02-05   18:00:00  20:00:00   \n4    cfdd52b1-09e6-426a-a289-5ea02ad7c2fd  2024-03-18    9:00:00  11:00:00   \n..                                    ...         ...        ...       ...   \n995  f8629e26-8080-4971-bc75-97066dc07a72  2024-03-13    9:00:00  11:00:00   \n996  6579926b-3b36-4f73-89af-abac9ed6d060  2024-02-18   20:00:00  23:00:00   \n997  87188e10-5bd7-4395-9c66-985972e8d5a4  2024-03-17   20:00:00  23:00:00   \n998  b01e299f-e0a4-4e5c-a479-a56316fca581  2024-02-22   18:00:00  20:00:00   \n999  511048f6-31eb-4ba6-85cd-db54ed37f4de  2024-03-28   20:00:00  23:00:00   \n\n    time_slot_start time_slot_end time_slot_duration appointments_count  \\\n0           9:00:00       9:15:00                 15                  4   \n1           9:15:00       9:30:00                 15                  4   \n2           9:00:00       9:15:00                 15                  4   \n3          18:45:00      19:00:00                 15                  4   \n4           9:00:00       9:15:00                 15                  4   \n..              ...           ...                ...                ...   \n995         9:00:00       9:15:00                 15                  4   \n996        20:00:00      20:15:00                 15                  6   \n997        20:30:00      20:45:00                 15                  6   \n998        18:15:00      18:30:00                 15                  4   \n999        20:15:00      20:30:00                 15                  6   \n\n    overtime_delay      event_type     event_time_stamp  \\\n0                6             NaN                  NaN   \n1                9             NaN                  NaN   \n2               13             NaN                  NaN   \n3                4             NaN                  NaN   \n4               13  cannot make it  2024-03-18 00:00:00   \n..             ...             ...                  ...   \n995             10             NaN                  NaN   \n996              8  cannot make it  2024-01-14 00:00:00   \n997              7             NaN                  NaN   \n998              5             NaN                  NaN   \n999             11             NaN                  NaN   \n\n    delay_caused_due_to_event  \n0                         NaN  \n1                         NaN  \n2                         NaN  \n3                         NaN  \n4                           4  \n..                        ...  \n995                       NaN  \n996                         6  \n997                       NaN  \n998                       NaN  \n999                       NaN  \n\n[1000 rows x 12 columns]",
      "text/html": "<div>\n<style scoped>\n    .dataframe tbody tr th:only-of-type {\n        vertical-align: middle;\n    }\n\n    .dataframe tbody tr th {\n        vertical-align: top;\n    }\n\n    .dataframe thead th {\n        text-align: right;\n    }\n</style>\n<table border=\"1\" class=\"dataframe\">\n  <thead>\n    <tr style=\"text-align: right;\">\n      <th></th>\n      <th>doc_id</th>\n      <th>date</th>\n      <th>time_start</th>\n      <th>time_end</th>\n      <th>time_slot_start</th>\n      <th>time_slot_end</th>\n      <th>time_slot_duration</th>\n      <th>appointments_count</th>\n      <th>overtime_delay</th>\n      <th>event_type</th>\n      <th>event_time_stamp</th>\n      <th>delay_caused_due_to_event</th>\n    </tr>\n  </thead>\n  <tbody>\n    <tr>\n      <th>0</th>\n      <td>d0611be3-30af-46f7-8dad-09cdee7a8d02</td>\n      <td>2024-02-07</td>\n      <td>9:00:00</td>\n      <td>11:00:00</td>\n      <td>9:00:00</td>\n      <td>9:15:00</td>\n      <td>15</td>\n      <td>4</td>\n      <td>6</td>\n      <td>NaN</td>\n      <td>NaN</td>\n      <td>NaN</td>\n    </tr>\n    <tr>\n      <th>1</th>\n      <td>7d9bdfee-82bd-465d-92f2-fa7517784bac</td>\n      <td>2024-01-22</td>\n      <td>9:00:00</td>\n      <td>11:00:00</td>\n      <td>9:15:00</td>\n      <td>9:30:00</td>\n      <td>15</td>\n      <td>4</td>\n      <td>9</td>\n      <td>NaN</td>\n      <td>NaN</td>\n      <td>NaN</td>\n    </tr>\n    <tr>\n      <th>2</th>\n      <td>b1077fe8-00dd-4f18-8cd2-5136ebb244d4</td>\n      <td>2024-01-30</td>\n      <td>9:00:00</td>\n      <td>11:00:00</td>\n      <td>9:00:00</td>\n      <td>9:15:00</td>\n      <td>15</td>\n      <td>4</td>\n      <td>13</td>\n      <td>NaN</td>\n      <td>NaN</td>\n      <td>NaN</td>\n    </tr>\n    <tr>\n      <th>3</th>\n      <td>0f5c3f46-c657-42eb-a85f-d9d588587d46</td>\n      <td>2024-02-05</td>\n      <td>18:00:00</td>\n      <td>20:00:00</td>\n      <td>18:45:00</td>\n      <td>19:00:00</td>\n      <td>15</td>\n      <td>4</td>\n      <td>4</td>\n      <td>NaN</td>\n      <td>NaN</td>\n      <td>NaN</td>\n    </tr>\n    <tr>\n      <th>4</th>\n      <td>cfdd52b1-09e6-426a-a289-5ea02ad7c2fd</td>\n      <td>2024-03-18</td>\n      <td>9:00:00</td>\n      <td>11:00:00</td>\n      <td>9:00:00</td>\n      <td>9:15:00</td>\n      <td>15</td>\n      <td>4</td>\n      <td>13</td>\n      <td>cannot make it</td>\n      <td>2024-03-18 00:00:00</td>\n      <td>4</td>\n    </tr>\n    <tr>\n      <th>...</th>\n      <td>...</td>\n      <td>...</td>\n      <td>...</td>\n      <td>...</td>\n      <td>...</td>\n      <td>...</td>\n      <td>...</td>\n      <td>...</td>\n      <td>...</td>\n      <td>...</td>\n      <td>...</td>\n      <td>...</td>\n    </tr>\n    <tr>\n      <th>995</th>\n      <td>f8629e26-8080-4971-bc75-97066dc07a72</td>\n      <td>2024-03-13</td>\n      <td>9:00:00</td>\n      <td>11:00:00</td>\n      <td>9:00:00</td>\n      <td>9:15:00</td>\n      <td>15</td>\n      <td>4</td>\n      <td>10</td>\n      <td>NaN</td>\n      <td>NaN</td>\n      <td>NaN</td>\n    </tr>\n    <tr>\n      <th>996</th>\n      <td>6579926b-3b36-4f73-89af-abac9ed6d060</td>\n      <td>2024-02-18</td>\n      <td>20:00:00</td>\n      <td>23:00:00</td>\n      <td>20:00:00</td>\n      <td>20:15:00</td>\n      <td>15</td>\n      <td>6</td>\n      <td>8</td>\n      <td>cannot make it</td>\n      <td>2024-01-14 00:00:00</td>\n      <td>6</td>\n    </tr>\n    <tr>\n      <th>997</th>\n      <td>87188e10-5bd7-4395-9c66-985972e8d5a4</td>\n      <td>2024-03-17</td>\n      <td>20:00:00</td>\n      <td>23:00:00</td>\n      <td>20:30:00</td>\n      <td>20:45:00</td>\n      <td>15</td>\n      <td>6</td>\n      <td>7</td>\n      <td>NaN</td>\n      <td>NaN</td>\n      <td>NaN</td>\n    </tr>\n    <tr>\n      <th>998</th>\n      <td>b01e299f-e0a4-4e5c-a479-a56316fca581</td>\n      <td>2024-02-22</td>\n      <td>18:00:00</td>\n      <td>20:00:00</td>\n      <td>18:15:00</td>\n      <td>18:30:00</td>\n      <td>15</td>\n      <td>4</td>\n      <td>5</td>\n      <td>NaN</td>\n      <td>NaN</td>\n      <td>NaN</td>\n    </tr>\n    <tr>\n      <th>999</th>\n      <td>511048f6-31eb-4ba6-85cd-db54ed37f4de</td>\n      <td>2024-03-28</td>\n      <td>20:00:00</td>\n      <td>23:00:00</td>\n      <td>20:15:00</td>\n      <td>20:30:00</td>\n      <td>15</td>\n      <td>6</td>\n      <td>11</td>\n      <td>NaN</td>\n      <td>NaN</td>\n      <td>NaN</td>\n    </tr>\n  </tbody>\n</table>\n<p>1000 rows × 12 columns</p>\n</div>"
     },
     "execution_count": 134,
     "metadata": {},
     "output_type": "execute_result"
    }
   ],
   "source": [
    "entries = 1000\n",
    "\n",
    "for i in range(entries):\n",
    "    new_entry = pd.DataFrame({\n",
    "        'doc_id': [str(uuid.uuid4())]\n",
    "    }, columns=columns)\n",
    "    new_entry['date'] = get_random_date()\n",
    "    randomTimeIndex = random.randint(0, len(start_times) - 1)\n",
    "    new_entry['time_start'] = start_times[randomTimeIndex]\n",
    "    new_entry['time_end'] = end_times[randomTimeIndex]\n",
    "\n",
    "    (h_start, _, _) = start_times[randomTimeIndex].split(':')\n",
    "    (h_end, _, _) = end_times[randomTimeIndex].split(':')\n",
    "    difference = int(h_end) - int(h_start)\n",
    "    random_time_factor = random.randint(0, difference * 2)\n",
    "    time_slot_factor = (random_time_factor * 15)\n",
    "    \n",
    "    # print(f\"Start time: {start_times[randomTimeIndex]}, TimeSlotFactor: {time_slot_factor}\")\n",
    "    start_t = add_minutes(start_times[randomTimeIndex], time_slot_factor)\n",
    "    new_entry['time_slot_start'] = start_t\n",
    "    new_entry['time_slot_end'] = add_minutes(start_t, time_slot_duration)\n",
    "    new_entry['time_slot_duration'] = time_slot_duration\n",
    "    new_entry['appointments_count'] = difference * 2\n",
    "    \n",
    "    new_entry['overtime_delay'] = random.randint(0, time_slot_duration)\n",
    "    \n",
    "    event = random.choices([0, 1], weights=[2, 1], k=1)[0]\n",
    "    \n",
    "    if event == 1:\n",
    "        random_event_index = random.randint(0, len(event_types) - 1)\n",
    "        new_entry['event_type'] = event_types[random_event_index]\n",
    "        new_entry['event_time_stamp'] = get_random_date(only_date=False)\n",
    "        new_entry['delay_caused_due_to_event'] = random.randint(0, time_slot_duration)\n",
    "    \n",
    "    dataset = pd.concat([dataset, new_entry], ignore_index=True)\n",
    "\n",
    "dataset"
   ],
   "metadata": {
    "collapsed": false,
    "ExecuteTime": {
     "end_time": "2024-03-21T21:28:50.331947Z",
     "start_time": "2024-03-21T21:28:49.514116Z"
    }
   },
   "id": "203a9cada1fb032d",
   "execution_count": 134
  },
  {
   "cell_type": "code",
   "outputs": [
    {
     "data": {
      "text/plain": "678"
     },
     "execution_count": 135,
     "metadata": {},
     "output_type": "execute_result"
    }
   ],
   "source": [
    "dataset['event_type'].isna().sum()"
   ],
   "metadata": {
    "collapsed": false,
    "ExecuteTime": {
     "end_time": "2024-03-21T21:28:50.332324Z",
     "start_time": "2024-03-21T21:28:50.329337Z"
    }
   },
   "id": "5c4af9a51bee10a6",
   "execution_count": 135
  },
  {
   "cell_type": "code",
   "outputs": [
    {
     "ename": "NameError",
     "evalue": "name 'dataset' is not defined",
     "output_type": "error",
     "traceback": [
      "\u001B[0;31m---------------------------------------------------------------------------\u001B[0m",
      "\u001B[0;31mNameError\u001B[0m                                 Traceback (most recent call last)",
      "Cell \u001B[0;32mIn[1], line 9\u001B[0m\n\u001B[1;32m      5\u001B[0m BASE_DATASET_PATH\u001B[38;5;241m.\u001B[39mmkdir(parents\u001B[38;5;241m=\u001B[39m\u001B[38;5;28;01mTrue\u001B[39;00m, exist_ok\u001B[38;5;241m=\u001B[39m\u001B[38;5;28;01mTrue\u001B[39;00m)\n\u001B[1;32m      7\u001B[0m DATASET_PATH \u001B[38;5;241m=\u001B[39m BASE_DATASET_PATH \u001B[38;5;241m/\u001B[39m \u001B[38;5;124m'\u001B[39m\u001B[38;5;124mdoctor_availability.csv\u001B[39m\u001B[38;5;124m'\u001B[39m\n\u001B[0;32m----> 9\u001B[0m \u001B[43mdataset\u001B[49m\u001B[38;5;241m.\u001B[39mto_csv(DATASET_PATH)\n",
      "\u001B[0;31mNameError\u001B[0m: name 'dataset' is not defined"
     ]
    }
   ],
   "source": [
    "# Save the dataset\n",
    "from pathlib import Path\n",
    "\n",
    "BASE_DATASET_PATH = Path('./datasets/synt')\n",
    "BASE_DATASET_PATH.mkdir(parents=True, exist_ok=True)\n",
    "\n",
    "DATASET_PATH = BASE_DATASET_PATH / 'doctor_availability.csv'\n",
    "\n",
    "dataset.to_csv(DATASET_PATH)"
   ],
   "metadata": {
    "collapsed": false,
    "ExecuteTime": {
     "end_time": "2024-03-22T03:16:11.878853Z",
     "start_time": "2024-03-22T03:16:11.801785Z"
    }
   },
   "id": "1a0dc287cdb05a8b",
   "execution_count": 1
  },
  {
   "cell_type": "code",
   "outputs": [],
   "source": [
    "pat_df = pd.read_csv('./datasets/patient_data.csv')\n",
    "\n",
    "pat_df['Delayed_by'] = pat_df['Delayed_by'].apply(lambda _: random.choices([0, 5, 10, 15], weights=[5, 2, 1, 1])[0])\n",
    "\n",
    "pat_df.to_csv(BASE_DATASET_PATH / 'patient_data.csv', index=False)"
   ],
   "metadata": {
    "collapsed": false,
    "ExecuteTime": {
     "end_time": "2024-03-21T21:44:09.330625Z",
     "start_time": "2024-03-21T21:44:09.321565Z"
    }
   },
   "id": "ae2e4f957305c971",
   "execution_count": 144
  },
  {
   "cell_type": "code",
   "outputs": [],
   "source": [
    "import ast\n",
    "\n",
    "pat_df = pd.read_csv(BASE_DATASET_PATH / 'patient_data.csv')\n",
    "\n",
    "pat_df['Cause_of_Visit'] = pat_df['Cause_of_Visit'].apply(lambda symptom: ast.literal_eval('\\',\\''.join(symptom.split('\\' \\''))))\n",
    "\n",
    "pat_df.to_csv(BASE_DATASET_PATH / 'patient_data.csv', index=False)"
   ],
   "metadata": {
    "collapsed": false,
    "ExecuteTime": {
     "end_time": "2024-03-22T03:18:16.821933Z",
     "start_time": "2024-03-22T03:18:16.799229Z"
    }
   },
   "id": "6f20ba39cbb7df07",
   "execution_count": 4
  }
 ],
 "metadata": {
  "kernelspec": {
   "display_name": "Python 3",
   "language": "python",
   "name": "python3"
  },
  "language_info": {
   "codemirror_mode": {
    "name": "ipython",
    "version": 2
   },
   "file_extension": ".py",
   "mimetype": "text/x-python",
   "name": "python",
   "nbconvert_exporter": "python",
   "pygments_lexer": "ipython2",
   "version": "2.7.6"
  }
 },
 "nbformat": 4,
 "nbformat_minor": 5
}
