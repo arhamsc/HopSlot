{
 "cells": [
  {
   "metadata": {},
   "cell_type": "markdown",
   "source": "# Hopslot Severity Predictor"
  },
  {
   "metadata": {},
   "cell_type": "markdown",
   "source": "## Preprocessing"
  },
  {
   "metadata": {},
   "cell_type": "markdown",
   "source": "### Importing libraries"
  },
  {
   "cell_type": "code",
   "metadata": {
    "ExecuteTime": {
     "end_time": "2024-05-21T14:24:15.610043Z",
     "start_time": "2024-05-21T14:24:11.848286Z"
    }
   },
   "source": [
    "import pandas as pd\n",
    "from sklearn.linear_model import LogisticRegression\n",
    "from sklearn.metrics import classification_report\n",
    "import ast\n",
    "import joblib, dill\n",
    "from pathlib import Path"
   ],
   "outputs": [],
   "execution_count": 2
  },
  {
   "metadata": {},
   "cell_type": "markdown",
   "source": "### Read train Dataset"
  },
  {
   "cell_type": "code",
   "metadata": {
    "ExecuteTime": {
     "end_time": "2024-05-21T14:24:20.063220Z",
     "start_time": "2024-05-21T14:24:15.611656Z"
    }
   },
   "source": [
    "df=pd.read_csv('./datasets/final/release_train_patients.csv')\n",
    "pd.set_option('display.max_colwidth', None)"
   ],
   "outputs": [],
   "execution_count": 3
  },
  {
   "metadata": {},
   "cell_type": "markdown",
   "source": "### Convert list strings to actual python lists for Evidences"
  },
  {
   "metadata": {
    "ExecuteTime": {
     "end_time": "2024-05-21T14:24:45.072066Z",
     "start_time": "2024-05-21T14:24:20.063993Z"
    }
   },
   "cell_type": "code",
   "source": "df.EVIDENCES = df.EVIDENCES.apply(ast.literal_eval)",
   "outputs": [],
   "execution_count": 4
  },
  {
   "cell_type": "code",
   "metadata": {
    "ExecuteTime": {
     "end_time": "2024-05-21T14:24:45.078983Z",
     "start_time": "2024-05-21T14:24:45.073386Z"
    }
   },
   "source": [
    "df.head()"
   ],
   "outputs": [
    {
     "data": {
      "text/plain": [
       "   AGE  \\\n",
       "0   18   \n",
       "1   21   \n",
       "2   19   \n",
       "3   34   \n",
       "4   36   \n",
       "\n",
       "                                                                                                                                                                                                                                                                                                                                                                                                                                                                                                                                                                                                   DIFFERENTIAL_DIAGNOSIS  \\\n",
       "0                                                                                                                                                                                                                                                                                                          [['Bronchitis', 0.19171203430383882], ['Pneumonia', 0.17579340398940366], ['URTI', 0.1607809719801254], ['Bronchiectasis', 0.12429044460990353], ['Tuberculosis', 0.11367177304035844], ['Influenza', 0.11057936110639896], ['HIV (initial infection)', 0.07333003867293564], ['Chagas', 0.04984197229703562]]   \n",
       "1                                                                                                                                                                                                                                                                                                                                                                                                                                             [['HIV (initial infection)', 0.5189500564407601], ['Chagas', 0.3217819010436332], ['Scombroid food poisoning', 0.13496758062695968], ['Sarcoidosis', 0.024300461888647054]]   \n",
       "2  [['Bronchitis', 0.11278064619119596], ['Pneumonia', 0.10048134562119852], ['Unstable angina', 0.08462979865697953], ['Possible NSTEMI / STEMI', 0.08343170881871906], ['Bronchiectasis', 0.07764173703530038], ['Boerhaave', 0.07708363099826726], ['Spontaneous rib fracture', 0.07682349455456361], ['Pericarditis', 0.07504681799224715], ['URTI', 0.06705952510476514], ['Stable angina', 0.06667817325012103], ['GERD', 0.06455232704351052], ['Scombroid food poisoning', 0.058790058668404095], ['Chagas', 0.02923384001251551], ['Sarcoidosis', 0.016406922262218876], ['Panic attack', 0.009359973789993502]]   \n",
       "3                                                                                                                                                                                                                                                                                                                                        [['URTI', 0.23859396799565236], ['Cluster headache', 0.18566159722723558], ['Bronchitis', 0.1773471504190298], ['Chronic rhinosinusitis', 0.14960995823729417], ['Acute rhinosinusitis', 0.10748772366243657], ['Chagas', 0.07064980122917579], ['Anemia', 0.07064980122917579]]   \n",
       "4                                                                                                                                                                                                                                                                                                                                                       [['URTI', 0.23677812769175735], ['Influenza', 0.1842006792554458], ['Bronchitis', 0.1651209569301098], ['Cluster headache', 0.1430457852409739], ['Chronic rhinosinusitis', 0.139295948156182], ['Chagas', 0.06577925136276556], ['Anemia', 0.06577925136276556]]   \n",
       "\n",
       "  SEX                PATHOLOGY  \\\n",
       "0   M                     URTI   \n",
       "1   M  HIV (initial infection)   \n",
       "2   F                Pneumonia   \n",
       "3   F                     URTI   \n",
       "4   M                     URTI   \n",
       "\n",
       "                                                                                                                                                                                                                                                                                                                                                        EVIDENCES  \\\n",
       "0                                                                                                                                                                         [E_48, E_50, E_53, E_54_@_V_161, E_54_@_V_183, E_55_@_V_89, E_55_@_V_108, E_55_@_V_167, E_56_@_4, E_57_@_V_123, E_58_@_3, E_59_@_3, E_77, E_79, E_91, E_97, E_201, E_204_@_V_10, E_222]   \n",
       "1                     [E_9, E_27, E_50, E_51, E_53, E_54_@_V_198, E_55_@_V_62, E_55_@_V_166, E_55_@_V_167, E_56_@_7, E_57_@_V_123, E_58_@_7, E_59_@_2, E_91, E_115, E_129, E_130_@_V_138, E_131_@_V_10, E_132_@_0, E_133_@_V_90, E_133_@_V_91, E_133_@_V_95, E_133_@_V_110, E_133_@_V_111, E_134_@_6, E_135_@_V_12, E_136_@_0, E_148, E_162, E_189, E_204_@_V_10]   \n",
       "2  [E_53, E_54_@_V_179, E_54_@_V_192, E_55_@_V_29, E_55_@_V_55, E_55_@_V_56, E_55_@_V_170, E_55_@_V_171, E_56_@_5, E_57_@_V_123, E_58_@_2, E_59_@_6, E_77, E_78, E_79, E_94, E_106, E_118, E_123, E_124, E_129, E_130_@_V_156, E_131_@_V_12, E_132_@_4, E_133_@_V_54, E_133_@_V_85, E_134_@_0, E_135_@_V_10, E_136_@_0, E_144, E_175, E_181, E_201, E_204_@_V_10]   \n",
       "3                                                                                                                                                                                   [E_48, E_53, E_54_@_V_183, E_55_@_V_89, E_55_@_V_109, E_55_@_V_124, E_55_@_V_166, E_55_@_V_167, E_56_@_7, E_57_@_V_123, E_58_@_5, E_59_@_4, E_97, E_181, E_201, E_204_@_V_10]   \n",
       "4                                                                                                                                                                                    [E_49, E_50, E_53, E_54_@_V_183, E_55_@_V_62, E_55_@_V_124, E_55_@_V_166, E_55_@_V_167, E_56_@_5, E_57_@_V_123, E_58_@_4, E_59_@_2, E_97, E_144, E_181, E_201, E_204_@_V_10]   \n",
       "\n",
       "  INITIAL_EVIDENCE  \n",
       "0             E_91  \n",
       "1             E_50  \n",
       "2             E_77  \n",
       "3             E_53  \n",
       "4            E_201  "
      ],
      "text/html": [
       "<div>\n",
       "<style scoped>\n",
       "    .dataframe tbody tr th:only-of-type {\n",
       "        vertical-align: middle;\n",
       "    }\n",
       "\n",
       "    .dataframe tbody tr th {\n",
       "        vertical-align: top;\n",
       "    }\n",
       "\n",
       "    .dataframe thead th {\n",
       "        text-align: right;\n",
       "    }\n",
       "</style>\n",
       "<table border=\"1\" class=\"dataframe\">\n",
       "  <thead>\n",
       "    <tr style=\"text-align: right;\">\n",
       "      <th></th>\n",
       "      <th>AGE</th>\n",
       "      <th>DIFFERENTIAL_DIAGNOSIS</th>\n",
       "      <th>SEX</th>\n",
       "      <th>PATHOLOGY</th>\n",
       "      <th>EVIDENCES</th>\n",
       "      <th>INITIAL_EVIDENCE</th>\n",
       "    </tr>\n",
       "  </thead>\n",
       "  <tbody>\n",
       "    <tr>\n",
       "      <th>0</th>\n",
       "      <td>18</td>\n",
       "      <td>[['Bronchitis', 0.19171203430383882], ['Pneumonia', 0.17579340398940366], ['URTI', 0.1607809719801254], ['Bronchiectasis', 0.12429044460990353], ['Tuberculosis', 0.11367177304035844], ['Influenza', 0.11057936110639896], ['HIV (initial infection)', 0.07333003867293564], ['Chagas', 0.04984197229703562]]</td>\n",
       "      <td>M</td>\n",
       "      <td>URTI</td>\n",
       "      <td>[E_48, E_50, E_53, E_54_@_V_161, E_54_@_V_183, E_55_@_V_89, E_55_@_V_108, E_55_@_V_167, E_56_@_4, E_57_@_V_123, E_58_@_3, E_59_@_3, E_77, E_79, E_91, E_97, E_201, E_204_@_V_10, E_222]</td>\n",
       "      <td>E_91</td>\n",
       "    </tr>\n",
       "    <tr>\n",
       "      <th>1</th>\n",
       "      <td>21</td>\n",
       "      <td>[['HIV (initial infection)', 0.5189500564407601], ['Chagas', 0.3217819010436332], ['Scombroid food poisoning', 0.13496758062695968], ['Sarcoidosis', 0.024300461888647054]]</td>\n",
       "      <td>M</td>\n",
       "      <td>HIV (initial infection)</td>\n",
       "      <td>[E_9, E_27, E_50, E_51, E_53, E_54_@_V_198, E_55_@_V_62, E_55_@_V_166, E_55_@_V_167, E_56_@_7, E_57_@_V_123, E_58_@_7, E_59_@_2, E_91, E_115, E_129, E_130_@_V_138, E_131_@_V_10, E_132_@_0, E_133_@_V_90, E_133_@_V_91, E_133_@_V_95, E_133_@_V_110, E_133_@_V_111, E_134_@_6, E_135_@_V_12, E_136_@_0, E_148, E_162, E_189, E_204_@_V_10]</td>\n",
       "      <td>E_50</td>\n",
       "    </tr>\n",
       "    <tr>\n",
       "      <th>2</th>\n",
       "      <td>19</td>\n",
       "      <td>[['Bronchitis', 0.11278064619119596], ['Pneumonia', 0.10048134562119852], ['Unstable angina', 0.08462979865697953], ['Possible NSTEMI / STEMI', 0.08343170881871906], ['Bronchiectasis', 0.07764173703530038], ['Boerhaave', 0.07708363099826726], ['Spontaneous rib fracture', 0.07682349455456361], ['Pericarditis', 0.07504681799224715], ['URTI', 0.06705952510476514], ['Stable angina', 0.06667817325012103], ['GERD', 0.06455232704351052], ['Scombroid food poisoning', 0.058790058668404095], ['Chagas', 0.02923384001251551], ['Sarcoidosis', 0.016406922262218876], ['Panic attack', 0.009359973789993502]]</td>\n",
       "      <td>F</td>\n",
       "      <td>Pneumonia</td>\n",
       "      <td>[E_53, E_54_@_V_179, E_54_@_V_192, E_55_@_V_29, E_55_@_V_55, E_55_@_V_56, E_55_@_V_170, E_55_@_V_171, E_56_@_5, E_57_@_V_123, E_58_@_2, E_59_@_6, E_77, E_78, E_79, E_94, E_106, E_118, E_123, E_124, E_129, E_130_@_V_156, E_131_@_V_12, E_132_@_4, E_133_@_V_54, E_133_@_V_85, E_134_@_0, E_135_@_V_10, E_136_@_0, E_144, E_175, E_181, E_201, E_204_@_V_10]</td>\n",
       "      <td>E_77</td>\n",
       "    </tr>\n",
       "    <tr>\n",
       "      <th>3</th>\n",
       "      <td>34</td>\n",
       "      <td>[['URTI', 0.23859396799565236], ['Cluster headache', 0.18566159722723558], ['Bronchitis', 0.1773471504190298], ['Chronic rhinosinusitis', 0.14960995823729417], ['Acute rhinosinusitis', 0.10748772366243657], ['Chagas', 0.07064980122917579], ['Anemia', 0.07064980122917579]]</td>\n",
       "      <td>F</td>\n",
       "      <td>URTI</td>\n",
       "      <td>[E_48, E_53, E_54_@_V_183, E_55_@_V_89, E_55_@_V_109, E_55_@_V_124, E_55_@_V_166, E_55_@_V_167, E_56_@_7, E_57_@_V_123, E_58_@_5, E_59_@_4, E_97, E_181, E_201, E_204_@_V_10]</td>\n",
       "      <td>E_53</td>\n",
       "    </tr>\n",
       "    <tr>\n",
       "      <th>4</th>\n",
       "      <td>36</td>\n",
       "      <td>[['URTI', 0.23677812769175735], ['Influenza', 0.1842006792554458], ['Bronchitis', 0.1651209569301098], ['Cluster headache', 0.1430457852409739], ['Chronic rhinosinusitis', 0.139295948156182], ['Chagas', 0.06577925136276556], ['Anemia', 0.06577925136276556]]</td>\n",
       "      <td>M</td>\n",
       "      <td>URTI</td>\n",
       "      <td>[E_49, E_50, E_53, E_54_@_V_183, E_55_@_V_62, E_55_@_V_124, E_55_@_V_166, E_55_@_V_167, E_56_@_5, E_57_@_V_123, E_58_@_4, E_59_@_2, E_97, E_144, E_181, E_201, E_204_@_V_10]</td>\n",
       "      <td>E_201</td>\n",
       "    </tr>\n",
       "  </tbody>\n",
       "</table>\n",
       "</div>"
      ]
     },
     "execution_count": 5,
     "metadata": {},
     "output_type": "execute_result"
    }
   ],
   "execution_count": 5
  },
  {
   "metadata": {},
   "cell_type": "markdown",
   "source": "### Select only required columns"
  },
  {
   "cell_type": "code",
   "metadata": {
    "ExecuteTime": {
     "end_time": "2024-05-21T14:24:45.099203Z",
     "start_time": "2024-05-21T14:24:45.079660Z"
    }
   },
   "source": [
    "selected_columns = [\"PATHOLOGY\", \"EVIDENCES\"]\n",
    "new_df = df[selected_columns]\n",
    "\n",
    "# Write the new DataFrame to a new CSV file\n",
    "# new_df.to_csv(\"new.csv\", index=False)"
   ],
   "outputs": [],
   "execution_count": 6
  },
  {
   "cell_type": "code",
   "metadata": {
    "ExecuteTime": {
     "end_time": "2024-05-21T14:24:45.104919Z",
     "start_time": "2024-05-21T14:24:45.099853Z"
    }
   },
   "source": [
    "new_df.head()"
   ],
   "outputs": [
    {
     "data": {
      "text/plain": [
       "                 PATHOLOGY  \\\n",
       "0                     URTI   \n",
       "1  HIV (initial infection)   \n",
       "2                Pneumonia   \n",
       "3                     URTI   \n",
       "4                     URTI   \n",
       "\n",
       "                                                                                                                                                                                                                                                                                                                                                        EVIDENCES  \n",
       "0                                                                                                                                                                         [E_48, E_50, E_53, E_54_@_V_161, E_54_@_V_183, E_55_@_V_89, E_55_@_V_108, E_55_@_V_167, E_56_@_4, E_57_@_V_123, E_58_@_3, E_59_@_3, E_77, E_79, E_91, E_97, E_201, E_204_@_V_10, E_222]  \n",
       "1                     [E_9, E_27, E_50, E_51, E_53, E_54_@_V_198, E_55_@_V_62, E_55_@_V_166, E_55_@_V_167, E_56_@_7, E_57_@_V_123, E_58_@_7, E_59_@_2, E_91, E_115, E_129, E_130_@_V_138, E_131_@_V_10, E_132_@_0, E_133_@_V_90, E_133_@_V_91, E_133_@_V_95, E_133_@_V_110, E_133_@_V_111, E_134_@_6, E_135_@_V_12, E_136_@_0, E_148, E_162, E_189, E_204_@_V_10]  \n",
       "2  [E_53, E_54_@_V_179, E_54_@_V_192, E_55_@_V_29, E_55_@_V_55, E_55_@_V_56, E_55_@_V_170, E_55_@_V_171, E_56_@_5, E_57_@_V_123, E_58_@_2, E_59_@_6, E_77, E_78, E_79, E_94, E_106, E_118, E_123, E_124, E_129, E_130_@_V_156, E_131_@_V_12, E_132_@_4, E_133_@_V_54, E_133_@_V_85, E_134_@_0, E_135_@_V_10, E_136_@_0, E_144, E_175, E_181, E_201, E_204_@_V_10]  \n",
       "3                                                                                                                                                                                   [E_48, E_53, E_54_@_V_183, E_55_@_V_89, E_55_@_V_109, E_55_@_V_124, E_55_@_V_166, E_55_@_V_167, E_56_@_7, E_57_@_V_123, E_58_@_5, E_59_@_4, E_97, E_181, E_201, E_204_@_V_10]  \n",
       "4                                                                                                                                                                                    [E_49, E_50, E_53, E_54_@_V_183, E_55_@_V_62, E_55_@_V_124, E_55_@_V_166, E_55_@_V_167, E_56_@_5, E_57_@_V_123, E_58_@_4, E_59_@_2, E_97, E_144, E_181, E_201, E_204_@_V_10]  "
      ],
      "text/html": [
       "<div>\n",
       "<style scoped>\n",
       "    .dataframe tbody tr th:only-of-type {\n",
       "        vertical-align: middle;\n",
       "    }\n",
       "\n",
       "    .dataframe tbody tr th {\n",
       "        vertical-align: top;\n",
       "    }\n",
       "\n",
       "    .dataframe thead th {\n",
       "        text-align: right;\n",
       "    }\n",
       "</style>\n",
       "<table border=\"1\" class=\"dataframe\">\n",
       "  <thead>\n",
       "    <tr style=\"text-align: right;\">\n",
       "      <th></th>\n",
       "      <th>PATHOLOGY</th>\n",
       "      <th>EVIDENCES</th>\n",
       "    </tr>\n",
       "  </thead>\n",
       "  <tbody>\n",
       "    <tr>\n",
       "      <th>0</th>\n",
       "      <td>URTI</td>\n",
       "      <td>[E_48, E_50, E_53, E_54_@_V_161, E_54_@_V_183, E_55_@_V_89, E_55_@_V_108, E_55_@_V_167, E_56_@_4, E_57_@_V_123, E_58_@_3, E_59_@_3, E_77, E_79, E_91, E_97, E_201, E_204_@_V_10, E_222]</td>\n",
       "    </tr>\n",
       "    <tr>\n",
       "      <th>1</th>\n",
       "      <td>HIV (initial infection)</td>\n",
       "      <td>[E_9, E_27, E_50, E_51, E_53, E_54_@_V_198, E_55_@_V_62, E_55_@_V_166, E_55_@_V_167, E_56_@_7, E_57_@_V_123, E_58_@_7, E_59_@_2, E_91, E_115, E_129, E_130_@_V_138, E_131_@_V_10, E_132_@_0, E_133_@_V_90, E_133_@_V_91, E_133_@_V_95, E_133_@_V_110, E_133_@_V_111, E_134_@_6, E_135_@_V_12, E_136_@_0, E_148, E_162, E_189, E_204_@_V_10]</td>\n",
       "    </tr>\n",
       "    <tr>\n",
       "      <th>2</th>\n",
       "      <td>Pneumonia</td>\n",
       "      <td>[E_53, E_54_@_V_179, E_54_@_V_192, E_55_@_V_29, E_55_@_V_55, E_55_@_V_56, E_55_@_V_170, E_55_@_V_171, E_56_@_5, E_57_@_V_123, E_58_@_2, E_59_@_6, E_77, E_78, E_79, E_94, E_106, E_118, E_123, E_124, E_129, E_130_@_V_156, E_131_@_V_12, E_132_@_4, E_133_@_V_54, E_133_@_V_85, E_134_@_0, E_135_@_V_10, E_136_@_0, E_144, E_175, E_181, E_201, E_204_@_V_10]</td>\n",
       "    </tr>\n",
       "    <tr>\n",
       "      <th>3</th>\n",
       "      <td>URTI</td>\n",
       "      <td>[E_48, E_53, E_54_@_V_183, E_55_@_V_89, E_55_@_V_109, E_55_@_V_124, E_55_@_V_166, E_55_@_V_167, E_56_@_7, E_57_@_V_123, E_58_@_5, E_59_@_4, E_97, E_181, E_201, E_204_@_V_10]</td>\n",
       "    </tr>\n",
       "    <tr>\n",
       "      <th>4</th>\n",
       "      <td>URTI</td>\n",
       "      <td>[E_49, E_50, E_53, E_54_@_V_183, E_55_@_V_62, E_55_@_V_124, E_55_@_V_166, E_55_@_V_167, E_56_@_5, E_57_@_V_123, E_58_@_4, E_59_@_2, E_97, E_144, E_181, E_201, E_204_@_V_10]</td>\n",
       "    </tr>\n",
       "  </tbody>\n",
       "</table>\n",
       "</div>"
      ]
     },
     "execution_count": 7,
     "metadata": {},
     "output_type": "execute_result"
    }
   ],
   "execution_count": 7
  },
  {
   "metadata": {},
   "cell_type": "markdown",
   "source": "## Load Multi Label Binarizer"
  },
  {
   "metadata": {
    "ExecuteTime": {
     "end_time": "2024-05-21T14:24:45.107588Z",
     "start_time": "2024-05-21T14:24:45.105591Z"
    }
   },
   "cell_type": "code",
   "source": [
    "import joblib\n",
    "from pathlib import Path\n",
    "\n",
    "pwd = Path.cwd()\n",
    "path = Path(pwd.parent / \"HopSlot-FullStack/django-api/predict_symptoms/trained_models\")"
   ],
   "outputs": [],
   "execution_count": 8
  },
  {
   "metadata": {
    "ExecuteTime": {
     "end_time": "2024-05-21T14:24:45.118218Z",
     "start_time": "2024-05-21T14:24:45.108174Z"
    }
   },
   "cell_type": "code",
   "source": [
    "# Load encoder\n",
    "\n",
    "evidenceEncoder = joblib.load(path / \"evidence_mb_encoder.pkl\")"
   ],
   "outputs": [],
   "execution_count": 9
  },
  {
   "metadata": {},
   "cell_type": "markdown",
   "source": "#### Test loaded encoder"
  },
  {
   "metadata": {
    "ExecuteTime": {
     "end_time": "2024-05-21T14:24:45.120892Z",
     "start_time": "2024-05-21T14:24:45.118791Z"
    }
   },
   "cell_type": "code",
   "source": [
    "test_s = ['E_53', 'E_23']\n",
    "# print(test_s.shape)\n",
    "s = evidenceEncoder.transform([test_s])\n",
    "\n",
    "print(len([x for x in s[0] if x == 1]))"
   ],
   "outputs": [
    {
     "name": "stdout",
     "output_type": "stream",
     "text": [
      "2\n"
     ]
    }
   ],
   "execution_count": 10
  },
  {
   "metadata": {},
   "cell_type": "markdown",
   "source": "### Perform Vectorization on Evidence Column"
  },
  {
   "metadata": {
    "ExecuteTime": {
     "end_time": "2024-05-21T14:25:00.532964Z",
     "start_time": "2024-05-21T14:24:45.123031Z"
    }
   },
   "cell_type": "code",
   "source": "new_df.loc[:, \"EVIDENCES\"] = new_df.EVIDENCES.apply(lambda x: evidenceEncoder.transform([x]))",
   "outputs": [],
   "execution_count": 11
  },
  {
   "metadata": {
    "ExecuteTime": {
     "end_time": "2024-05-21T14:25:00.536001Z",
     "start_time": "2024-05-21T14:25:00.533567Z"
    }
   },
   "cell_type": "code",
   "source": "new_df.EVIDENCES.head(2).shape",
   "outputs": [
    {
     "data": {
      "text/plain": [
       "(2,)"
      ]
     },
     "execution_count": 12,
     "metadata": {},
     "output_type": "execute_result"
    }
   ],
   "execution_count": 12
  },
  {
   "metadata": {},
   "cell_type": "markdown",
   "source": "### Function To Expand 2d Evidence column to normal columns"
  },
  {
   "metadata": {
    "ExecuteTime": {
     "end_time": "2024-05-21T14:25:00.538056Z",
     "start_time": "2024-05-21T14:25:00.536636Z"
    }
   },
   "cell_type": "code",
   "source": [
    "def expand2DCellToColumns(df: pd.DataFrame, featureName):\n",
    "    return df[featureName].apply(lambda x: pd.Series(x[0]))"
   ],
   "outputs": [],
   "execution_count": 13
  },
  {
   "metadata": {
    "ExecuteTime": {
     "end_time": "2024-05-21T14:25:50.807088Z",
     "start_time": "2024-05-21T14:25:00.538614Z"
    }
   },
   "cell_type": "code",
   "source": "X = expand2DCellToColumns(new_df, \"EVIDENCES\")",
   "outputs": [],
   "execution_count": 14
  },
  {
   "metadata": {
    "ExecuteTime": {
     "end_time": "2024-05-21T14:25:50.817007Z",
     "start_time": "2024-05-21T14:25:50.808643Z"
    }
   },
   "cell_type": "code",
   "source": "X.head(5)",
   "outputs": [
    {
     "data": {
      "text/plain": [
       "   0    1    2    3    4    5    6    7    8    9    ...  962  963  964  965  \\\n",
       "0    0    0    0    0    0    0    0    0    0    0  ...    0    1    0    0   \n",
       "1    0    0    0    0    0    0    0    0    0    0  ...    0    1    0    0   \n",
       "2    0    0    0    0    0    0    0    0    0    1  ...    0    0    0    0   \n",
       "3    0    0    0    0    0    0    0    0    0    0  ...    0    0    0    0   \n",
       "4    0    0    0    0    0    0    0    0    0    0  ...    0    0    0    0   \n",
       "\n",
       "   966  967  968  969  970  971  \n",
       "0    0    0    0    1    0    0  \n",
       "1    0    0    0    0    0    0  \n",
       "2    1    0    0    0    0    0  \n",
       "3    0    0    0    1    0    0  \n",
       "4    0    0    0    1    0    0  \n",
       "\n",
       "[5 rows x 972 columns]"
      ],
      "text/html": [
       "<div>\n",
       "<style scoped>\n",
       "    .dataframe tbody tr th:only-of-type {\n",
       "        vertical-align: middle;\n",
       "    }\n",
       "\n",
       "    .dataframe tbody tr th {\n",
       "        vertical-align: top;\n",
       "    }\n",
       "\n",
       "    .dataframe thead th {\n",
       "        text-align: right;\n",
       "    }\n",
       "</style>\n",
       "<table border=\"1\" class=\"dataframe\">\n",
       "  <thead>\n",
       "    <tr style=\"text-align: right;\">\n",
       "      <th></th>\n",
       "      <th>0</th>\n",
       "      <th>1</th>\n",
       "      <th>2</th>\n",
       "      <th>3</th>\n",
       "      <th>4</th>\n",
       "      <th>5</th>\n",
       "      <th>6</th>\n",
       "      <th>7</th>\n",
       "      <th>8</th>\n",
       "      <th>9</th>\n",
       "      <th>...</th>\n",
       "      <th>962</th>\n",
       "      <th>963</th>\n",
       "      <th>964</th>\n",
       "      <th>965</th>\n",
       "      <th>966</th>\n",
       "      <th>967</th>\n",
       "      <th>968</th>\n",
       "      <th>969</th>\n",
       "      <th>970</th>\n",
       "      <th>971</th>\n",
       "    </tr>\n",
       "  </thead>\n",
       "  <tbody>\n",
       "    <tr>\n",
       "      <th>0</th>\n",
       "      <td>0</td>\n",
       "      <td>0</td>\n",
       "      <td>0</td>\n",
       "      <td>0</td>\n",
       "      <td>0</td>\n",
       "      <td>0</td>\n",
       "      <td>0</td>\n",
       "      <td>0</td>\n",
       "      <td>0</td>\n",
       "      <td>0</td>\n",
       "      <td>...</td>\n",
       "      <td>0</td>\n",
       "      <td>1</td>\n",
       "      <td>0</td>\n",
       "      <td>0</td>\n",
       "      <td>0</td>\n",
       "      <td>0</td>\n",
       "      <td>0</td>\n",
       "      <td>1</td>\n",
       "      <td>0</td>\n",
       "      <td>0</td>\n",
       "    </tr>\n",
       "    <tr>\n",
       "      <th>1</th>\n",
       "      <td>0</td>\n",
       "      <td>0</td>\n",
       "      <td>0</td>\n",
       "      <td>0</td>\n",
       "      <td>0</td>\n",
       "      <td>0</td>\n",
       "      <td>0</td>\n",
       "      <td>0</td>\n",
       "      <td>0</td>\n",
       "      <td>0</td>\n",
       "      <td>...</td>\n",
       "      <td>0</td>\n",
       "      <td>1</td>\n",
       "      <td>0</td>\n",
       "      <td>0</td>\n",
       "      <td>0</td>\n",
       "      <td>0</td>\n",
       "      <td>0</td>\n",
       "      <td>0</td>\n",
       "      <td>0</td>\n",
       "      <td>0</td>\n",
       "    </tr>\n",
       "    <tr>\n",
       "      <th>2</th>\n",
       "      <td>0</td>\n",
       "      <td>0</td>\n",
       "      <td>0</td>\n",
       "      <td>0</td>\n",
       "      <td>0</td>\n",
       "      <td>0</td>\n",
       "      <td>0</td>\n",
       "      <td>0</td>\n",
       "      <td>0</td>\n",
       "      <td>1</td>\n",
       "      <td>...</td>\n",
       "      <td>0</td>\n",
       "      <td>0</td>\n",
       "      <td>0</td>\n",
       "      <td>0</td>\n",
       "      <td>1</td>\n",
       "      <td>0</td>\n",
       "      <td>0</td>\n",
       "      <td>0</td>\n",
       "      <td>0</td>\n",
       "      <td>0</td>\n",
       "    </tr>\n",
       "    <tr>\n",
       "      <th>3</th>\n",
       "      <td>0</td>\n",
       "      <td>0</td>\n",
       "      <td>0</td>\n",
       "      <td>0</td>\n",
       "      <td>0</td>\n",
       "      <td>0</td>\n",
       "      <td>0</td>\n",
       "      <td>0</td>\n",
       "      <td>0</td>\n",
       "      <td>0</td>\n",
       "      <td>...</td>\n",
       "      <td>0</td>\n",
       "      <td>0</td>\n",
       "      <td>0</td>\n",
       "      <td>0</td>\n",
       "      <td>0</td>\n",
       "      <td>0</td>\n",
       "      <td>0</td>\n",
       "      <td>1</td>\n",
       "      <td>0</td>\n",
       "      <td>0</td>\n",
       "    </tr>\n",
       "    <tr>\n",
       "      <th>4</th>\n",
       "      <td>0</td>\n",
       "      <td>0</td>\n",
       "      <td>0</td>\n",
       "      <td>0</td>\n",
       "      <td>0</td>\n",
       "      <td>0</td>\n",
       "      <td>0</td>\n",
       "      <td>0</td>\n",
       "      <td>0</td>\n",
       "      <td>0</td>\n",
       "      <td>...</td>\n",
       "      <td>0</td>\n",
       "      <td>0</td>\n",
       "      <td>0</td>\n",
       "      <td>0</td>\n",
       "      <td>0</td>\n",
       "      <td>0</td>\n",
       "      <td>0</td>\n",
       "      <td>1</td>\n",
       "      <td>0</td>\n",
       "      <td>0</td>\n",
       "    </tr>\n",
       "  </tbody>\n",
       "</table>\n",
       "<p>5 rows × 972 columns</p>\n",
       "</div>"
      ]
     },
     "execution_count": 15,
     "metadata": {},
     "output_type": "execute_result"
    }
   ],
   "execution_count": 15
  },
  {
   "metadata": {
    "ExecuteTime": {
     "end_time": "2024-05-21T14:25:50.819619Z",
     "start_time": "2024-05-21T14:25:50.817653Z"
    }
   },
   "cell_type": "code",
   "source": "X.shape",
   "outputs": [
    {
     "data": {
      "text/plain": [
       "(1025602, 972)"
      ]
     },
     "execution_count": 16,
     "metadata": {},
     "output_type": "execute_result"
    }
   ],
   "execution_count": 16
  },
  {
   "metadata": {},
   "cell_type": "markdown",
   "source": "## Training the Model\n"
  },
  {
   "metadata": {
    "ExecuteTime": {
     "end_time": "2024-05-21T14:25:50.821738Z",
     "start_time": "2024-05-21T14:25:50.820170Z"
    }
   },
   "cell_type": "code",
   "source": [
    "y = new_df.PATHOLOGY.values\n",
    "X = X.values"
   ],
   "outputs": [],
   "execution_count": 17
  },
  {
   "metadata": {
    "ExecuteTime": {
     "end_time": "2024-05-21T14:25:50.824406Z",
     "start_time": "2024-05-21T14:25:50.822405Z"
    }
   },
   "cell_type": "code",
   "source": "type(X), type(y), X.shape, y.shape",
   "outputs": [
    {
     "data": {
      "text/plain": [
       "(numpy.ndarray, numpy.ndarray, (1025602, 972), (1025602,))"
      ]
     },
     "execution_count": 18,
     "metadata": {},
     "output_type": "execute_result"
    }
   ],
   "execution_count": 18
  },
  {
   "metadata": {},
   "cell_type": "markdown",
   "source": "### Train Logistic Regression Model"
  },
  {
   "metadata": {
    "ExecuteTime": {
     "end_time": "2024-05-21T14:25:50.826863Z",
     "start_time": "2024-05-21T14:25:50.825086Z"
    }
   },
   "cell_type": "code",
   "source": "lr_model = LogisticRegression(random_state=42, solver='lbfgs', max_iter=200)",
   "outputs": [],
   "execution_count": 19
  },
  {
   "cell_type": "code",
   "metadata": {
    "ExecuteTime": {
     "end_time": "2024-05-21T14:26:28.849241Z",
     "start_time": "2024-05-21T14:25:50.827611Z"
    }
   },
   "source": [
    "# Train the model\n",
    "lr_model.fit(X, y)"
   ],
   "outputs": [
    {
     "data": {
      "text/plain": [
       "LogisticRegression(max_iter=200, random_state=42)"
      ],
      "text/html": [
       "<style>#sk-container-id-1 {\n",
       "  /* Definition of color scheme common for light and dark mode */\n",
       "  --sklearn-color-text: black;\n",
       "  --sklearn-color-line: gray;\n",
       "  /* Definition of color scheme for unfitted estimators */\n",
       "  --sklearn-color-unfitted-level-0: #fff5e6;\n",
       "  --sklearn-color-unfitted-level-1: #f6e4d2;\n",
       "  --sklearn-color-unfitted-level-2: #ffe0b3;\n",
       "  --sklearn-color-unfitted-level-3: chocolate;\n",
       "  /* Definition of color scheme for fitted estimators */\n",
       "  --sklearn-color-fitted-level-0: #f0f8ff;\n",
       "  --sklearn-color-fitted-level-1: #d4ebff;\n",
       "  --sklearn-color-fitted-level-2: #b3dbfd;\n",
       "  --sklearn-color-fitted-level-3: cornflowerblue;\n",
       "\n",
       "  /* Specific color for light theme */\n",
       "  --sklearn-color-text-on-default-background: var(--sg-text-color, var(--theme-code-foreground, var(--jp-content-font-color1, black)));\n",
       "  --sklearn-color-background: var(--sg-background-color, var(--theme-background, var(--jp-layout-color0, white)));\n",
       "  --sklearn-color-border-box: var(--sg-text-color, var(--theme-code-foreground, var(--jp-content-font-color1, black)));\n",
       "  --sklearn-color-icon: #696969;\n",
       "\n",
       "  @media (prefers-color-scheme: dark) {\n",
       "    /* Redefinition of color scheme for dark theme */\n",
       "    --sklearn-color-text-on-default-background: var(--sg-text-color, var(--theme-code-foreground, var(--jp-content-font-color1, white)));\n",
       "    --sklearn-color-background: var(--sg-background-color, var(--theme-background, var(--jp-layout-color0, #111)));\n",
       "    --sklearn-color-border-box: var(--sg-text-color, var(--theme-code-foreground, var(--jp-content-font-color1, white)));\n",
       "    --sklearn-color-icon: #878787;\n",
       "  }\n",
       "}\n",
       "\n",
       "#sk-container-id-1 {\n",
       "  color: var(--sklearn-color-text);\n",
       "}\n",
       "\n",
       "#sk-container-id-1 pre {\n",
       "  padding: 0;\n",
       "}\n",
       "\n",
       "#sk-container-id-1 input.sk-hidden--visually {\n",
       "  border: 0;\n",
       "  clip: rect(1px 1px 1px 1px);\n",
       "  clip: rect(1px, 1px, 1px, 1px);\n",
       "  height: 1px;\n",
       "  margin: -1px;\n",
       "  overflow: hidden;\n",
       "  padding: 0;\n",
       "  position: absolute;\n",
       "  width: 1px;\n",
       "}\n",
       "\n",
       "#sk-container-id-1 div.sk-dashed-wrapped {\n",
       "  border: 1px dashed var(--sklearn-color-line);\n",
       "  margin: 0 0.4em 0.5em 0.4em;\n",
       "  box-sizing: border-box;\n",
       "  padding-bottom: 0.4em;\n",
       "  background-color: var(--sklearn-color-background);\n",
       "}\n",
       "\n",
       "#sk-container-id-1 div.sk-container {\n",
       "  /* jupyter's `normalize.less` sets `[hidden] { display: none; }`\n",
       "     but bootstrap.min.css set `[hidden] { display: none !important; }`\n",
       "     so we also need the `!important` here to be able to override the\n",
       "     default hidden behavior on the sphinx rendered scikit-learn.org.\n",
       "     See: https://github.com/scikit-learn/scikit-learn/issues/21755 */\n",
       "  display: inline-block !important;\n",
       "  position: relative;\n",
       "}\n",
       "\n",
       "#sk-container-id-1 div.sk-text-repr-fallback {\n",
       "  display: none;\n",
       "}\n",
       "\n",
       "div.sk-parallel-item,\n",
       "div.sk-serial,\n",
       "div.sk-item {\n",
       "  /* draw centered vertical line to link estimators */\n",
       "  background-image: linear-gradient(var(--sklearn-color-text-on-default-background), var(--sklearn-color-text-on-default-background));\n",
       "  background-size: 2px 100%;\n",
       "  background-repeat: no-repeat;\n",
       "  background-position: center center;\n",
       "}\n",
       "\n",
       "/* Parallel-specific style estimator block */\n",
       "\n",
       "#sk-container-id-1 div.sk-parallel-item::after {\n",
       "  content: \"\";\n",
       "  width: 100%;\n",
       "  border-bottom: 2px solid var(--sklearn-color-text-on-default-background);\n",
       "  flex-grow: 1;\n",
       "}\n",
       "\n",
       "#sk-container-id-1 div.sk-parallel {\n",
       "  display: flex;\n",
       "  align-items: stretch;\n",
       "  justify-content: center;\n",
       "  background-color: var(--sklearn-color-background);\n",
       "  position: relative;\n",
       "}\n",
       "\n",
       "#sk-container-id-1 div.sk-parallel-item {\n",
       "  display: flex;\n",
       "  flex-direction: column;\n",
       "}\n",
       "\n",
       "#sk-container-id-1 div.sk-parallel-item:first-child::after {\n",
       "  align-self: flex-end;\n",
       "  width: 50%;\n",
       "}\n",
       "\n",
       "#sk-container-id-1 div.sk-parallel-item:last-child::after {\n",
       "  align-self: flex-start;\n",
       "  width: 50%;\n",
       "}\n",
       "\n",
       "#sk-container-id-1 div.sk-parallel-item:only-child::after {\n",
       "  width: 0;\n",
       "}\n",
       "\n",
       "/* Serial-specific style estimator block */\n",
       "\n",
       "#sk-container-id-1 div.sk-serial {\n",
       "  display: flex;\n",
       "  flex-direction: column;\n",
       "  align-items: center;\n",
       "  background-color: var(--sklearn-color-background);\n",
       "  padding-right: 1em;\n",
       "  padding-left: 1em;\n",
       "}\n",
       "\n",
       "\n",
       "/* Toggleable style: style used for estimator/Pipeline/ColumnTransformer box that is\n",
       "clickable and can be expanded/collapsed.\n",
       "- Pipeline and ColumnTransformer use this feature and define the default style\n",
       "- Estimators will overwrite some part of the style using the `sk-estimator` class\n",
       "*/\n",
       "\n",
       "/* Pipeline and ColumnTransformer style (default) */\n",
       "\n",
       "#sk-container-id-1 div.sk-toggleable {\n",
       "  /* Default theme specific background. It is overwritten whether we have a\n",
       "  specific estimator or a Pipeline/ColumnTransformer */\n",
       "  background-color: var(--sklearn-color-background);\n",
       "}\n",
       "\n",
       "/* Toggleable label */\n",
       "#sk-container-id-1 label.sk-toggleable__label {\n",
       "  cursor: pointer;\n",
       "  display: block;\n",
       "  width: 100%;\n",
       "  margin-bottom: 0;\n",
       "  padding: 0.5em;\n",
       "  box-sizing: border-box;\n",
       "  text-align: center;\n",
       "}\n",
       "\n",
       "#sk-container-id-1 label.sk-toggleable__label-arrow:before {\n",
       "  /* Arrow on the left of the label */\n",
       "  content: \"▸\";\n",
       "  float: left;\n",
       "  margin-right: 0.25em;\n",
       "  color: var(--sklearn-color-icon);\n",
       "}\n",
       "\n",
       "#sk-container-id-1 label.sk-toggleable__label-arrow:hover:before {\n",
       "  color: var(--sklearn-color-text);\n",
       "}\n",
       "\n",
       "/* Toggleable content - dropdown */\n",
       "\n",
       "#sk-container-id-1 div.sk-toggleable__content {\n",
       "  max-height: 0;\n",
       "  max-width: 0;\n",
       "  overflow: hidden;\n",
       "  text-align: left;\n",
       "  /* unfitted */\n",
       "  background-color: var(--sklearn-color-unfitted-level-0);\n",
       "}\n",
       "\n",
       "#sk-container-id-1 div.sk-toggleable__content.fitted {\n",
       "  /* fitted */\n",
       "  background-color: var(--sklearn-color-fitted-level-0);\n",
       "}\n",
       "\n",
       "#sk-container-id-1 div.sk-toggleable__content pre {\n",
       "  margin: 0.2em;\n",
       "  border-radius: 0.25em;\n",
       "  color: var(--sklearn-color-text);\n",
       "  /* unfitted */\n",
       "  background-color: var(--sklearn-color-unfitted-level-0);\n",
       "}\n",
       "\n",
       "#sk-container-id-1 div.sk-toggleable__content.fitted pre {\n",
       "  /* unfitted */\n",
       "  background-color: var(--sklearn-color-fitted-level-0);\n",
       "}\n",
       "\n",
       "#sk-container-id-1 input.sk-toggleable__control:checked~div.sk-toggleable__content {\n",
       "  /* Expand drop-down */\n",
       "  max-height: 200px;\n",
       "  max-width: 100%;\n",
       "  overflow: auto;\n",
       "}\n",
       "\n",
       "#sk-container-id-1 input.sk-toggleable__control:checked~label.sk-toggleable__label-arrow:before {\n",
       "  content: \"▾\";\n",
       "}\n",
       "\n",
       "/* Pipeline/ColumnTransformer-specific style */\n",
       "\n",
       "#sk-container-id-1 div.sk-label input.sk-toggleable__control:checked~label.sk-toggleable__label {\n",
       "  color: var(--sklearn-color-text);\n",
       "  background-color: var(--sklearn-color-unfitted-level-2);\n",
       "}\n",
       "\n",
       "#sk-container-id-1 div.sk-label.fitted input.sk-toggleable__control:checked~label.sk-toggleable__label {\n",
       "  background-color: var(--sklearn-color-fitted-level-2);\n",
       "}\n",
       "\n",
       "/* Estimator-specific style */\n",
       "\n",
       "/* Colorize estimator box */\n",
       "#sk-container-id-1 div.sk-estimator input.sk-toggleable__control:checked~label.sk-toggleable__label {\n",
       "  /* unfitted */\n",
       "  background-color: var(--sklearn-color-unfitted-level-2);\n",
       "}\n",
       "\n",
       "#sk-container-id-1 div.sk-estimator.fitted input.sk-toggleable__control:checked~label.sk-toggleable__label {\n",
       "  /* fitted */\n",
       "  background-color: var(--sklearn-color-fitted-level-2);\n",
       "}\n",
       "\n",
       "#sk-container-id-1 div.sk-label label.sk-toggleable__label,\n",
       "#sk-container-id-1 div.sk-label label {\n",
       "  /* The background is the default theme color */\n",
       "  color: var(--sklearn-color-text-on-default-background);\n",
       "}\n",
       "\n",
       "/* On hover, darken the color of the background */\n",
       "#sk-container-id-1 div.sk-label:hover label.sk-toggleable__label {\n",
       "  color: var(--sklearn-color-text);\n",
       "  background-color: var(--sklearn-color-unfitted-level-2);\n",
       "}\n",
       "\n",
       "/* Label box, darken color on hover, fitted */\n",
       "#sk-container-id-1 div.sk-label.fitted:hover label.sk-toggleable__label.fitted {\n",
       "  color: var(--sklearn-color-text);\n",
       "  background-color: var(--sklearn-color-fitted-level-2);\n",
       "}\n",
       "\n",
       "/* Estimator label */\n",
       "\n",
       "#sk-container-id-1 div.sk-label label {\n",
       "  font-family: monospace;\n",
       "  font-weight: bold;\n",
       "  display: inline-block;\n",
       "  line-height: 1.2em;\n",
       "}\n",
       "\n",
       "#sk-container-id-1 div.sk-label-container {\n",
       "  text-align: center;\n",
       "}\n",
       "\n",
       "/* Estimator-specific */\n",
       "#sk-container-id-1 div.sk-estimator {\n",
       "  font-family: monospace;\n",
       "  border: 1px dotted var(--sklearn-color-border-box);\n",
       "  border-radius: 0.25em;\n",
       "  box-sizing: border-box;\n",
       "  margin-bottom: 0.5em;\n",
       "  /* unfitted */\n",
       "  background-color: var(--sklearn-color-unfitted-level-0);\n",
       "}\n",
       "\n",
       "#sk-container-id-1 div.sk-estimator.fitted {\n",
       "  /* fitted */\n",
       "  background-color: var(--sklearn-color-fitted-level-0);\n",
       "}\n",
       "\n",
       "/* on hover */\n",
       "#sk-container-id-1 div.sk-estimator:hover {\n",
       "  /* unfitted */\n",
       "  background-color: var(--sklearn-color-unfitted-level-2);\n",
       "}\n",
       "\n",
       "#sk-container-id-1 div.sk-estimator.fitted:hover {\n",
       "  /* fitted */\n",
       "  background-color: var(--sklearn-color-fitted-level-2);\n",
       "}\n",
       "\n",
       "/* Specification for estimator info (e.g. \"i\" and \"?\") */\n",
       "\n",
       "/* Common style for \"i\" and \"?\" */\n",
       "\n",
       ".sk-estimator-doc-link,\n",
       "a:link.sk-estimator-doc-link,\n",
       "a:visited.sk-estimator-doc-link {\n",
       "  float: right;\n",
       "  font-size: smaller;\n",
       "  line-height: 1em;\n",
       "  font-family: monospace;\n",
       "  background-color: var(--sklearn-color-background);\n",
       "  border-radius: 1em;\n",
       "  height: 1em;\n",
       "  width: 1em;\n",
       "  text-decoration: none !important;\n",
       "  margin-left: 1ex;\n",
       "  /* unfitted */\n",
       "  border: var(--sklearn-color-unfitted-level-1) 1pt solid;\n",
       "  color: var(--sklearn-color-unfitted-level-1);\n",
       "}\n",
       "\n",
       ".sk-estimator-doc-link.fitted,\n",
       "a:link.sk-estimator-doc-link.fitted,\n",
       "a:visited.sk-estimator-doc-link.fitted {\n",
       "  /* fitted */\n",
       "  border: var(--sklearn-color-fitted-level-1) 1pt solid;\n",
       "  color: var(--sklearn-color-fitted-level-1);\n",
       "}\n",
       "\n",
       "/* On hover */\n",
       "div.sk-estimator:hover .sk-estimator-doc-link:hover,\n",
       ".sk-estimator-doc-link:hover,\n",
       "div.sk-label-container:hover .sk-estimator-doc-link:hover,\n",
       ".sk-estimator-doc-link:hover {\n",
       "  /* unfitted */\n",
       "  background-color: var(--sklearn-color-unfitted-level-3);\n",
       "  color: var(--sklearn-color-background);\n",
       "  text-decoration: none;\n",
       "}\n",
       "\n",
       "div.sk-estimator.fitted:hover .sk-estimator-doc-link.fitted:hover,\n",
       ".sk-estimator-doc-link.fitted:hover,\n",
       "div.sk-label-container:hover .sk-estimator-doc-link.fitted:hover,\n",
       ".sk-estimator-doc-link.fitted:hover {\n",
       "  /* fitted */\n",
       "  background-color: var(--sklearn-color-fitted-level-3);\n",
       "  color: var(--sklearn-color-background);\n",
       "  text-decoration: none;\n",
       "}\n",
       "\n",
       "/* Span, style for the box shown on hovering the info icon */\n",
       ".sk-estimator-doc-link span {\n",
       "  display: none;\n",
       "  z-index: 9999;\n",
       "  position: relative;\n",
       "  font-weight: normal;\n",
       "  right: .2ex;\n",
       "  padding: .5ex;\n",
       "  margin: .5ex;\n",
       "  width: min-content;\n",
       "  min-width: 20ex;\n",
       "  max-width: 50ex;\n",
       "  color: var(--sklearn-color-text);\n",
       "  box-shadow: 2pt 2pt 4pt #999;\n",
       "  /* unfitted */\n",
       "  background: var(--sklearn-color-unfitted-level-0);\n",
       "  border: .5pt solid var(--sklearn-color-unfitted-level-3);\n",
       "}\n",
       "\n",
       ".sk-estimator-doc-link.fitted span {\n",
       "  /* fitted */\n",
       "  background: var(--sklearn-color-fitted-level-0);\n",
       "  border: var(--sklearn-color-fitted-level-3);\n",
       "}\n",
       "\n",
       ".sk-estimator-doc-link:hover span {\n",
       "  display: block;\n",
       "}\n",
       "\n",
       "/* \"?\"-specific style due to the `<a>` HTML tag */\n",
       "\n",
       "#sk-container-id-1 a.estimator_doc_link {\n",
       "  float: right;\n",
       "  font-size: 1rem;\n",
       "  line-height: 1em;\n",
       "  font-family: monospace;\n",
       "  background-color: var(--sklearn-color-background);\n",
       "  border-radius: 1rem;\n",
       "  height: 1rem;\n",
       "  width: 1rem;\n",
       "  text-decoration: none;\n",
       "  /* unfitted */\n",
       "  color: var(--sklearn-color-unfitted-level-1);\n",
       "  border: var(--sklearn-color-unfitted-level-1) 1pt solid;\n",
       "}\n",
       "\n",
       "#sk-container-id-1 a.estimator_doc_link.fitted {\n",
       "  /* fitted */\n",
       "  border: var(--sklearn-color-fitted-level-1) 1pt solid;\n",
       "  color: var(--sklearn-color-fitted-level-1);\n",
       "}\n",
       "\n",
       "/* On hover */\n",
       "#sk-container-id-1 a.estimator_doc_link:hover {\n",
       "  /* unfitted */\n",
       "  background-color: var(--sklearn-color-unfitted-level-3);\n",
       "  color: var(--sklearn-color-background);\n",
       "  text-decoration: none;\n",
       "}\n",
       "\n",
       "#sk-container-id-1 a.estimator_doc_link.fitted:hover {\n",
       "  /* fitted */\n",
       "  background-color: var(--sklearn-color-fitted-level-3);\n",
       "}\n",
       "</style><div id=\"sk-container-id-1\" class=\"sk-top-container\"><div class=\"sk-text-repr-fallback\"><pre>LogisticRegression(max_iter=200, random_state=42)</pre><b>In a Jupyter environment, please rerun this cell to show the HTML representation or trust the notebook. <br />On GitHub, the HTML representation is unable to render, please try loading this page with nbviewer.org.</b></div><div class=\"sk-container\" hidden><div class=\"sk-item\"><div class=\"sk-estimator fitted sk-toggleable\"><input class=\"sk-toggleable__control sk-hidden--visually\" id=\"sk-estimator-id-1\" type=\"checkbox\" checked><label for=\"sk-estimator-id-1\" class=\"sk-toggleable__label fitted sk-toggleable__label-arrow fitted\">&nbsp;&nbsp;LogisticRegression<a class=\"sk-estimator-doc-link fitted\" rel=\"noreferrer\" target=\"_blank\" href=\"https://scikit-learn.org/1.4/modules/generated/sklearn.linear_model.LogisticRegression.html\">?<span>Documentation for LogisticRegression</span></a><span class=\"sk-estimator-doc-link fitted\">i<span>Fitted</span></span></label><div class=\"sk-toggleable__content fitted\"><pre>LogisticRegression(max_iter=200, random_state=42)</pre></div> </div></div></div></div>"
      ]
     },
     "execution_count": 20,
     "metadata": {},
     "output_type": "execute_result"
    }
   ],
   "execution_count": 20
  },
  {
   "metadata": {},
   "cell_type": "markdown",
   "source": "### Train Support Vector Classifier"
  },
  {
   "metadata": {},
   "cell_type": "markdown",
   "source": "## Testing the Models"
  },
  {
   "metadata": {},
   "cell_type": "markdown",
   "source": "### Load Test set"
  },
  {
   "cell_type": "code",
   "metadata": {
    "ExecuteTime": {
     "end_time": "2024-05-21T14:26:32.567277Z",
     "start_time": "2024-05-21T14:26:28.867484Z"
    }
   },
   "source": [
    "df_test = pd.read_csv('./datasets/final/release_test_patients.csv', converters={\n",
    "    'EVIDENCES': ast.literal_eval,\n",
    "})\n",
    "pd.set_option('display.max_colwidth', None)\n",
    "\n",
    "new_df_test = df_test[selected_columns]\n",
    "\n",
    "new_df_test.head(5)"
   ],
   "outputs": [
    {
     "data": {
      "text/plain": [
       "                  PATHOLOGY  \\\n",
       "0                      GERD   \n",
       "1                Bronchitis   \n",
       "2  Acute dystonic reactions   \n",
       "3          Acute laryngitis   \n",
       "4                      URTI   \n",
       "\n",
       "                                                                                                                                                                                                                             EVIDENCES  \n",
       "0  [E_53, E_54_@_V_112, E_54_@_V_161, E_54_@_V_180, E_54_@_V_181, E_55_@_V_29, E_55_@_V_101, E_55_@_V_103, E_56_@_6, E_57_@_V_29, E_57_@_V_101, E_58_@_3, E_59_@_2, E_70, E_78, E_98, E_140, E_167, E_173, E_201, E_204_@_V_10, E_217]  \n",
       "1                                                                                          [E_53, E_54_@_V_181, E_55_@_V_55, E_55_@_V_148, E_56_@_5, E_57_@_V_123, E_58_@_7, E_59_@_4, E_66, E_123, E_181, E_201, E_204_@_V_10, E_214]  \n",
       "2                                                                                                                                                                              [E_15, E_128, E_147, E_168, E_172, E_193, E_204_@_V_10]  \n",
       "3                                                                         [E_48, E_49, E_53, E_54_@_V_181, E_55_@_V_20, E_55_@_V_21, E_55_@_V_148, E_56_@_2, E_57_@_V_123, E_58_@_4, E_59_@_4, E_79, E_91, E_201, E_204_@_V_10, E_212]  \n",
       "4                        [E_41, E_50, E_53, E_54_@_V_161, E_54_@_V_183, E_55_@_V_62, E_55_@_V_89, E_55_@_V_108, E_55_@_V_109, E_55_@_V_124, E_56_@_7, E_57_@_V_123, E_58_@_3, E_59_@_0, E_91, E_97, E_144, E_181, E_201, E_204_@_V_10]  "
      ],
      "text/html": [
       "<div>\n",
       "<style scoped>\n",
       "    .dataframe tbody tr th:only-of-type {\n",
       "        vertical-align: middle;\n",
       "    }\n",
       "\n",
       "    .dataframe tbody tr th {\n",
       "        vertical-align: top;\n",
       "    }\n",
       "\n",
       "    .dataframe thead th {\n",
       "        text-align: right;\n",
       "    }\n",
       "</style>\n",
       "<table border=\"1\" class=\"dataframe\">\n",
       "  <thead>\n",
       "    <tr style=\"text-align: right;\">\n",
       "      <th></th>\n",
       "      <th>PATHOLOGY</th>\n",
       "      <th>EVIDENCES</th>\n",
       "    </tr>\n",
       "  </thead>\n",
       "  <tbody>\n",
       "    <tr>\n",
       "      <th>0</th>\n",
       "      <td>GERD</td>\n",
       "      <td>[E_53, E_54_@_V_112, E_54_@_V_161, E_54_@_V_180, E_54_@_V_181, E_55_@_V_29, E_55_@_V_101, E_55_@_V_103, E_56_@_6, E_57_@_V_29, E_57_@_V_101, E_58_@_3, E_59_@_2, E_70, E_78, E_98, E_140, E_167, E_173, E_201, E_204_@_V_10, E_217]</td>\n",
       "    </tr>\n",
       "    <tr>\n",
       "      <th>1</th>\n",
       "      <td>Bronchitis</td>\n",
       "      <td>[E_53, E_54_@_V_181, E_55_@_V_55, E_55_@_V_148, E_56_@_5, E_57_@_V_123, E_58_@_7, E_59_@_4, E_66, E_123, E_181, E_201, E_204_@_V_10, E_214]</td>\n",
       "    </tr>\n",
       "    <tr>\n",
       "      <th>2</th>\n",
       "      <td>Acute dystonic reactions</td>\n",
       "      <td>[E_15, E_128, E_147, E_168, E_172, E_193, E_204_@_V_10]</td>\n",
       "    </tr>\n",
       "    <tr>\n",
       "      <th>3</th>\n",
       "      <td>Acute laryngitis</td>\n",
       "      <td>[E_48, E_49, E_53, E_54_@_V_181, E_55_@_V_20, E_55_@_V_21, E_55_@_V_148, E_56_@_2, E_57_@_V_123, E_58_@_4, E_59_@_4, E_79, E_91, E_201, E_204_@_V_10, E_212]</td>\n",
       "    </tr>\n",
       "    <tr>\n",
       "      <th>4</th>\n",
       "      <td>URTI</td>\n",
       "      <td>[E_41, E_50, E_53, E_54_@_V_161, E_54_@_V_183, E_55_@_V_62, E_55_@_V_89, E_55_@_V_108, E_55_@_V_109, E_55_@_V_124, E_56_@_7, E_57_@_V_123, E_58_@_3, E_59_@_0, E_91, E_97, E_144, E_181, E_201, E_204_@_V_10]</td>\n",
       "    </tr>\n",
       "  </tbody>\n",
       "</table>\n",
       "</div>"
      ]
     },
     "execution_count": 21,
     "metadata": {},
     "output_type": "execute_result"
    }
   ],
   "execution_count": 21
  },
  {
   "cell_type": "code",
   "metadata": {
    "ExecuteTime": {
     "end_time": "2024-05-21T14:26:32.570462Z",
     "start_time": "2024-05-21T14:26:32.568193Z"
    }
   },
   "source": [
    "new_df_test[\"EVIDENCES\"].size"
   ],
   "outputs": [
    {
     "data": {
      "text/plain": [
       "134529"
      ]
     },
     "execution_count": 22,
     "metadata": {},
     "output_type": "execute_result"
    }
   ],
   "execution_count": 22
  },
  {
   "metadata": {},
   "cell_type": "markdown",
   "source": "### Apply Encoding and Expand Columns"
  },
  {
   "metadata": {
    "ExecuteTime": {
     "end_time": "2024-05-21T14:26:34.505179Z",
     "start_time": "2024-05-21T14:26:32.570989Z"
    }
   },
   "cell_type": "code",
   "source": "new_df_test.loc[:, \"EVIDENCES\"] = new_df_test.EVIDENCES.apply(lambda x: evidenceEncoder.transform([x]))",
   "outputs": [],
   "execution_count": 23
  },
  {
   "metadata": {
    "ExecuteTime": {
     "end_time": "2024-05-21T14:26:39.511276Z",
     "start_time": "2024-05-21T14:26:34.505805Z"
    }
   },
   "cell_type": "code",
   "source": "X_test = expand2DCellToColumns(new_df_test, \"EVIDENCES\")",
   "outputs": [],
   "execution_count": 24
  },
  {
   "metadata": {
    "ExecuteTime": {
     "end_time": "2024-05-21T14:26:39.516976Z",
     "start_time": "2024-05-21T14:26:39.512140Z"
    }
   },
   "cell_type": "code",
   "source": "X_test.head(5)",
   "outputs": [
    {
     "data": {
      "text/plain": [
       "   0    1    2    3    4    5    6    7    8    9    ...  962  963  964  965  \\\n",
       "0    0    0    0    0    0    0    0    0    0    0  ...    0    0    0    0   \n",
       "1    0    0    0    0    0    0    0    0    0    0  ...    0    0    0    0   \n",
       "2    0    0    0    0    0    0    0    0    0    0  ...    0    0    0    0   \n",
       "3    0    0    0    0    0    0    0    0    0    0  ...    0    1    0    0   \n",
       "4    0    0    0    0    0    0    0    0    0    0  ...    0    1    0    0   \n",
       "\n",
       "   966  967  968  969  970  971  \n",
       "0    0    0    0    0    1    0  \n",
       "1    0    0    0    0    0    0  \n",
       "2    0    0    0    0    0    0  \n",
       "3    0    0    0    0    0    0  \n",
       "4    0    0    0    1    0    0  \n",
       "\n",
       "[5 rows x 972 columns]"
      ],
      "text/html": [
       "<div>\n",
       "<style scoped>\n",
       "    .dataframe tbody tr th:only-of-type {\n",
       "        vertical-align: middle;\n",
       "    }\n",
       "\n",
       "    .dataframe tbody tr th {\n",
       "        vertical-align: top;\n",
       "    }\n",
       "\n",
       "    .dataframe thead th {\n",
       "        text-align: right;\n",
       "    }\n",
       "</style>\n",
       "<table border=\"1\" class=\"dataframe\">\n",
       "  <thead>\n",
       "    <tr style=\"text-align: right;\">\n",
       "      <th></th>\n",
       "      <th>0</th>\n",
       "      <th>1</th>\n",
       "      <th>2</th>\n",
       "      <th>3</th>\n",
       "      <th>4</th>\n",
       "      <th>5</th>\n",
       "      <th>6</th>\n",
       "      <th>7</th>\n",
       "      <th>8</th>\n",
       "      <th>9</th>\n",
       "      <th>...</th>\n",
       "      <th>962</th>\n",
       "      <th>963</th>\n",
       "      <th>964</th>\n",
       "      <th>965</th>\n",
       "      <th>966</th>\n",
       "      <th>967</th>\n",
       "      <th>968</th>\n",
       "      <th>969</th>\n",
       "      <th>970</th>\n",
       "      <th>971</th>\n",
       "    </tr>\n",
       "  </thead>\n",
       "  <tbody>\n",
       "    <tr>\n",
       "      <th>0</th>\n",
       "      <td>0</td>\n",
       "      <td>0</td>\n",
       "      <td>0</td>\n",
       "      <td>0</td>\n",
       "      <td>0</td>\n",
       "      <td>0</td>\n",
       "      <td>0</td>\n",
       "      <td>0</td>\n",
       "      <td>0</td>\n",
       "      <td>0</td>\n",
       "      <td>...</td>\n",
       "      <td>0</td>\n",
       "      <td>0</td>\n",
       "      <td>0</td>\n",
       "      <td>0</td>\n",
       "      <td>0</td>\n",
       "      <td>0</td>\n",
       "      <td>0</td>\n",
       "      <td>0</td>\n",
       "      <td>1</td>\n",
       "      <td>0</td>\n",
       "    </tr>\n",
       "    <tr>\n",
       "      <th>1</th>\n",
       "      <td>0</td>\n",
       "      <td>0</td>\n",
       "      <td>0</td>\n",
       "      <td>0</td>\n",
       "      <td>0</td>\n",
       "      <td>0</td>\n",
       "      <td>0</td>\n",
       "      <td>0</td>\n",
       "      <td>0</td>\n",
       "      <td>0</td>\n",
       "      <td>...</td>\n",
       "      <td>0</td>\n",
       "      <td>0</td>\n",
       "      <td>0</td>\n",
       "      <td>0</td>\n",
       "      <td>0</td>\n",
       "      <td>0</td>\n",
       "      <td>0</td>\n",
       "      <td>0</td>\n",
       "      <td>0</td>\n",
       "      <td>0</td>\n",
       "    </tr>\n",
       "    <tr>\n",
       "      <th>2</th>\n",
       "      <td>0</td>\n",
       "      <td>0</td>\n",
       "      <td>0</td>\n",
       "      <td>0</td>\n",
       "      <td>0</td>\n",
       "      <td>0</td>\n",
       "      <td>0</td>\n",
       "      <td>0</td>\n",
       "      <td>0</td>\n",
       "      <td>0</td>\n",
       "      <td>...</td>\n",
       "      <td>0</td>\n",
       "      <td>0</td>\n",
       "      <td>0</td>\n",
       "      <td>0</td>\n",
       "      <td>0</td>\n",
       "      <td>0</td>\n",
       "      <td>0</td>\n",
       "      <td>0</td>\n",
       "      <td>0</td>\n",
       "      <td>0</td>\n",
       "    </tr>\n",
       "    <tr>\n",
       "      <th>3</th>\n",
       "      <td>0</td>\n",
       "      <td>0</td>\n",
       "      <td>0</td>\n",
       "      <td>0</td>\n",
       "      <td>0</td>\n",
       "      <td>0</td>\n",
       "      <td>0</td>\n",
       "      <td>0</td>\n",
       "      <td>0</td>\n",
       "      <td>0</td>\n",
       "      <td>...</td>\n",
       "      <td>0</td>\n",
       "      <td>1</td>\n",
       "      <td>0</td>\n",
       "      <td>0</td>\n",
       "      <td>0</td>\n",
       "      <td>0</td>\n",
       "      <td>0</td>\n",
       "      <td>0</td>\n",
       "      <td>0</td>\n",
       "      <td>0</td>\n",
       "    </tr>\n",
       "    <tr>\n",
       "      <th>4</th>\n",
       "      <td>0</td>\n",
       "      <td>0</td>\n",
       "      <td>0</td>\n",
       "      <td>0</td>\n",
       "      <td>0</td>\n",
       "      <td>0</td>\n",
       "      <td>0</td>\n",
       "      <td>0</td>\n",
       "      <td>0</td>\n",
       "      <td>0</td>\n",
       "      <td>...</td>\n",
       "      <td>0</td>\n",
       "      <td>1</td>\n",
       "      <td>0</td>\n",
       "      <td>0</td>\n",
       "      <td>0</td>\n",
       "      <td>0</td>\n",
       "      <td>0</td>\n",
       "      <td>1</td>\n",
       "      <td>0</td>\n",
       "      <td>0</td>\n",
       "    </tr>\n",
       "  </tbody>\n",
       "</table>\n",
       "<p>5 rows × 972 columns</p>\n",
       "</div>"
      ]
     },
     "execution_count": 25,
     "metadata": {},
     "output_type": "execute_result"
    }
   ],
   "execution_count": 25
  },
  {
   "metadata": {},
   "cell_type": "markdown",
   "source": "### Prediction"
  },
  {
   "metadata": {
    "ExecuteTime": {
     "end_time": "2024-05-21T14:26:39.519576Z",
     "start_time": "2024-05-21T14:26:39.517909Z"
    }
   },
   "cell_type": "code",
   "source": [
    "X_test = X_test.values\n",
    "y_test = new_df_test.PATHOLOGY.values"
   ],
   "outputs": [],
   "execution_count": 26
  },
  {
   "metadata": {},
   "cell_type": "markdown",
   "source": "#### LR Prediction"
  },
  {
   "metadata": {
    "ExecuteTime": {
     "end_time": "2024-05-21T14:57:56.826131Z",
     "start_time": "2024-05-21T14:57:54.204995Z"
    }
   },
   "cell_type": "code",
   "source": [
    "y_pred = lr_model.predict(X_test)\n",
    "\n",
    "# Print classification report\n",
    "report = classification_report(y_test, y_pred, output_dict=True)\n",
    "print(report)"
   ],
   "outputs": [
    {
     "name": "stdout",
     "output_type": "stream",
     "text": [
      "{'Acute COPD exacerbation / infection': {'precision': 1.0, 'recall': 1.0, 'f1-score': 1.0, 'support': 2153.0}, 'Acute dystonic reactions': {'precision': 1.0, 'recall': 1.0, 'f1-score': 1.0, 'support': 3302.0}, 'Acute laryngitis': {'precision': 0.9956481193658688, 'recall': 0.9956481193658688, 'f1-score': 0.9956481193658688, 'support': 3217.0}, 'Acute otitis media': {'precision': 1.0, 'recall': 1.0, 'f1-score': 1.0, 'support': 3516.0}, 'Acute pulmonary edema': {'precision': 1.0, 'recall': 1.0, 'f1-score': 1.0, 'support': 2598.0}, 'Acute rhinosinusitis': {'precision': 0.9961538461538462, 'recall': 0.8496446145434664, 'f1-score': 0.9170846857480083, 'support': 1829.0}, 'Allergic sinusitis': {'precision': 1.0, 'recall': 1.0, 'f1-score': 1.0, 'support': 2411.0}, 'Anaphylaxis': {'precision': 1.0, 'recall': 1.0, 'f1-score': 1.0, 'support': 3799.0}, 'Anemia': {'precision': 1.0, 'recall': 1.0, 'f1-score': 1.0, 'support': 6842.0}, 'Atrial fibrillation': {'precision': 1.0, 'recall': 1.0, 'f1-score': 1.0, 'support': 2831.0}, 'Boerhaave': {'precision': 1.0, 'recall': 1.0, 'f1-score': 1.0, 'support': 2083.0}, 'Bronchiectasis': {'precision': 1.0, 'recall': 1.0, 'f1-score': 1.0, 'support': 2454.0}, 'Bronchiolitis': {'precision': 0.9473684210526315, 'recall': 1.0, 'f1-score': 0.972972972972973, 'support': 36.0}, 'Bronchitis': {'precision': 1.0, 'recall': 1.0, 'f1-score': 1.0, 'support': 3594.0}, 'Bronchospasm / acute asthma exacerbation': {'precision': 1.0, 'recall': 1.0, 'f1-score': 1.0, 'support': 2222.0}, 'Chagas': {'precision': 1.0, 'recall': 1.0, 'f1-score': 1.0, 'support': 1077.0}, 'Chronic rhinosinusitis': {'precision': 0.9088196286472149, 'recall': 0.9978157990535129, 'f1-score': 0.9512406732604546, 'support': 2747.0}, 'Cluster headache': {'precision': 1.0, 'recall': 1.0, 'f1-score': 1.0, 'support': 2825.0}, 'Croup': {'precision': 1.0, 'recall': 0.9883720930232558, 'f1-score': 0.9941520467836257, 'support': 344.0}, 'Ebola': {'precision': 1.0, 'recall': 1.0, 'f1-score': 1.0, 'support': 100.0}, 'Epiglottitis': {'precision': 1.0, 'recall': 1.0, 'f1-score': 1.0, 'support': 2364.0}, 'GERD': {'precision': 1.0, 'recall': 1.0, 'f1-score': 1.0, 'support': 3543.0}, 'Guillain-Barré syndrome': {'precision': 1.0, 'recall': 1.0, 'f1-score': 1.0, 'support': 2601.0}, 'HIV (initial infection)': {'precision': 1.0, 'recall': 1.0, 'f1-score': 1.0, 'support': 3919.0}, 'Influenza': {'precision': 1.0, 'recall': 1.0, 'f1-score': 1.0, 'support': 3554.0}, 'Inguinal hernia': {'precision': 1.0, 'recall': 1.0, 'f1-score': 1.0, 'support': 2751.0}, 'Larygospasm': {'precision': 0.9974587039390089, 'recall': 1.0, 'f1-score': 0.9987277353689568, 'support': 785.0}, 'Localized edema': {'precision': 1.0, 'recall': 1.0, 'f1-score': 1.0, 'support': 3734.0}, 'Myasthenia gravis': {'precision': 1.0, 'recall': 1.0, 'f1-score': 1.0, 'support': 2215.0}, 'Myocarditis': {'precision': 1.0, 'recall': 1.0, 'f1-score': 1.0, 'support': 1478.0}, 'PSVT': {'precision': 1.0, 'recall': 1.0, 'f1-score': 1.0, 'support': 2443.0}, 'Pancreatic neoplasm': {'precision': 1.0, 'recall': 1.0, 'f1-score': 1.0, 'support': 2585.0}, 'Panic attack': {'precision': 1.0, 'recall': 1.0, 'f1-score': 1.0, 'support': 3387.0}, 'Pericarditis': {'precision': 1.0, 'recall': 1.0, 'f1-score': 1.0, 'support': 3095.0}, 'Pneumonia': {'precision': 1.0, 'recall': 1.0, 'f1-score': 1.0, 'support': 3542.0}, 'Possible NSTEMI / STEMI': {'precision': 1.0, 'recall': 0.9996564754379939, 'f1-score': 0.9998282082116475, 'support': 2911.0}, 'Pulmonary embolism': {'precision': 1.0, 'recall': 1.0, 'f1-score': 1.0, 'support': 3679.0}, 'Pulmonary neoplasm': {'precision': 1.0, 'recall': 1.0, 'f1-score': 1.0, 'support': 1918.0}, 'SLE': {'precision': 1.0, 'recall': 1.0, 'f1-score': 1.0, 'support': 1564.0}, 'Sarcoidosis': {'precision': 1.0, 'recall': 1.0, 'f1-score': 1.0, 'support': 2902.0}, 'Scombroid food poisoning': {'precision': 1.0, 'recall': 1.0, 'f1-score': 1.0, 'support': 2486.0}, 'Spontaneous pneumothorax': {'precision': 1.0, 'recall': 1.0, 'f1-score': 1.0, 'support': 1343.0}, 'Spontaneous rib fracture': {'precision': 1.0, 'recall': 1.0, 'f1-score': 1.0, 'support': 778.0}, 'Stable angina': {'precision': 0.9802793755135579, 'recall': 1.0, 'f1-score': 0.9900414937759336, 'support': 2386.0}, 'Tuberculosis': {'precision': 1.0, 'recall': 1.0, 'f1-score': 1.0, 'support': 2080.0}, 'URTI': {'precision': 1.0, 'recall': 1.0, 'f1-score': 1.0, 'support': 8743.0}, 'Unstable angina': {'precision': 0.9996470172961525, 'recall': 0.9833333333333333, 'f1-score': 0.9914230701907929, 'support': 2880.0}, 'Viral pharyngitis': {'precision': 0.9983201343892488, 'recall': 0.9983201343892488, 'f1-score': 0.9983201343892488, 'support': 8334.0}, 'Whooping cough': {'precision': 1.0, 'recall': 1.0, 'f1-score': 1.0, 'support': 549.0}, 'accuracy': 0.9973091303733768, 'macro avg': {'precision': 0.9964019438032149, 'recall': 0.9961793993703404, 'f1-score': 0.9961110028585206, 'support': 134529.0}, 'weighted avg': {'precision': 0.9974914943993309, 'recall': 0.9973091303733768, 'f1-score': 0.9972753828800316, 'support': 134529.0}}\n"
     ]
    }
   ],
   "execution_count": 55
  },
  {
   "metadata": {
    "ExecuteTime": {
     "end_time": "2024-05-21T14:58:01.536433Z",
     "start_time": "2024-05-21T14:58:01.533907Z"
    }
   },
   "cell_type": "code",
   "source": "report.update({\"accuracy\": {\"precision\": None, \"recall\": None, \"f1-score\": report[\"accuracy\"], \"support\": report['macro avg']['support']}})",
   "outputs": [],
   "execution_count": 56
  },
  {
   "metadata": {
    "ExecuteTime": {
     "end_time": "2024-05-21T14:58:55.991632Z",
     "start_time": "2024-05-21T14:58:55.988890Z"
    }
   },
   "cell_type": "code",
   "source": "report_pd = pd.DataFrame(report).T",
   "outputs": [],
   "execution_count": 60
  },
  {
   "metadata": {
    "ExecuteTime": {
     "end_time": "2024-05-21T14:59:57.517385Z",
     "start_time": "2024-05-21T14:59:57.510170Z"
    }
   },
   "cell_type": "code",
   "source": "report_pd.to_csv(\"./report.csv\")",
   "outputs": [],
   "execution_count": 63
  },
  {
   "metadata": {},
   "cell_type": "markdown",
   "source": "## Save the model"
  },
  {
   "cell_type": "code",
   "metadata": {
    "ExecuteTime": {
     "end_time": "2024-05-05T19:32:45.388011Z",
     "start_time": "2024-05-05T19:32:45.381232Z"
    }
   },
   "source": [
    "pwd = Path.cwd()\n",
    "path = Path(pwd.parent / \"HopSlot-FullStack/django-api/predict_symptoms/trained_models\")\n",
    "\n",
    "joblib.dump(lr_model, path / 'model.pkl')"
   ],
   "outputs": [
    {
     "data": {
      "text/plain": [
       "['/Volumes/Arham/A2/BMS College stufff/PBL/Final Year Project - HopSlot/Dev/Code/HopSlot-FullStack/django-api/predict_symptoms/trained_models/model.pkl']"
      ]
     },
     "execution_count": 20,
     "metadata": {},
     "output_type": "execute_result"
    }
   ],
   "execution_count": 20
  }
 ],
 "metadata": {
  "kernelspec": {
   "display_name": "Python 3",
   "language": "python",
   "name": "python3"
  },
  "language_info": {
   "codemirror_mode": {
    "name": "ipython",
    "version": 3
   },
   "file_extension": ".py",
   "mimetype": "text/x-python",
   "name": "python",
   "nbconvert_exporter": "python",
   "pygments_lexer": "ipython3",
   "version": "3.12.2"
  }
 },
 "nbformat": 4,
 "nbformat_minor": 2
}
