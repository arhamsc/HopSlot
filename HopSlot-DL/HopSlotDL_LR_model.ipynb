{
 "cells": [
  {
   "cell_type": "code",
   "execution_count": 5,
   "metadata": {
    "ExecuteTime": {
     "end_time": "2024-04-23T13:52:37.321007Z",
     "start_time": "2024-04-23T13:52:34.773777Z"
    }
   },
   "outputs": [],
   "source": [
    "import pandas as pd\n",
    "from sklearn.model_selection import train_test_split\n",
    "from sklearn.feature_extraction.text import TfidfVectorizer\n",
    "from sklearn.pipeline import make_pipeline\n",
    "from sklearn.linear_model import LogisticRegression\n",
    "from sklearn.metrics import classification_report"
   ]
  },
  {
   "cell_type": "code",
   "outputs": [],
   "source": [
    "df=pd.read_csv('./datasets/final/release_train_patients.csv')\n",
    "pd.set_option('display.max_colwidth', None)"
   ],
   "metadata": {
    "ExecuteTime": {
     "end_time": "2024-04-23T13:52:23.176026Z",
     "start_time": "2024-04-23T13:52:18.380266Z"
    }
   },
   "execution_count": 1
  },
  {
   "cell_type": "code",
   "outputs": [
    {
     "data": {
      "text/plain": "   AGE  \\\n0   18   \n1   21   \n2   19   \n3   34   \n4   36   \n\n                                                                                                                                                                                                                                                                                                                                                                                                                                                                                                                                                                                                   DIFFERENTIAL_DIAGNOSIS  \\\n0                                                                                                                                                                                                                                                                                                          [['Bronchitis', 0.19171203430383882], ['Pneumonia', 0.17579340398940366], ['URTI', 0.1607809719801254], ['Bronchiectasis', 0.12429044460990353], ['Tuberculosis', 0.11367177304035844], ['Influenza', 0.11057936110639896], ['HIV (initial infection)', 0.07333003867293564], ['Chagas', 0.04984197229703562]]   \n1                                                                                                                                                                                                                                                                                                                                                                                                                                             [['HIV (initial infection)', 0.5189500564407601], ['Chagas', 0.3217819010436332], ['Scombroid food poisoning', 0.13496758062695968], ['Sarcoidosis', 0.024300461888647054]]   \n2  [['Bronchitis', 0.11278064619119596], ['Pneumonia', 0.10048134562119852], ['Unstable angina', 0.08462979865697953], ['Possible NSTEMI / STEMI', 0.08343170881871906], ['Bronchiectasis', 0.07764173703530038], ['Boerhaave', 0.07708363099826726], ['Spontaneous rib fracture', 0.07682349455456361], ['Pericarditis', 0.07504681799224715], ['URTI', 0.06705952510476514], ['Stable angina', 0.06667817325012103], ['GERD', 0.06455232704351052], ['Scombroid food poisoning', 0.058790058668404095], ['Chagas', 0.02923384001251551], ['Sarcoidosis', 0.016406922262218876], ['Panic attack', 0.009359973789993502]]   \n3                                                                                                                                                                                                                                                                                                                                        [['URTI', 0.23859396799565236], ['Cluster headache', 0.18566159722723558], ['Bronchitis', 0.1773471504190298], ['Chronic rhinosinusitis', 0.14960995823729417], ['Acute rhinosinusitis', 0.10748772366243657], ['Chagas', 0.07064980122917579], ['Anemia', 0.07064980122917579]]   \n4                                                                                                                                                                                                                                                                                                                                                       [['URTI', 0.23677812769175735], ['Influenza', 0.1842006792554458], ['Bronchitis', 0.1651209569301098], ['Cluster headache', 0.1430457852409739], ['Chronic rhinosinusitis', 0.139295948156182], ['Chagas', 0.06577925136276556], ['Anemia', 0.06577925136276556]]   \n\n  SEX                PATHOLOGY  \\\n0   M                     URTI   \n1   M  HIV (initial infection)   \n2   F                Pneumonia   \n3   F                     URTI   \n4   M                     URTI   \n\n                                                                                                                                                                                                                                                                                                                                                                                                                            EVIDENCES  \\\n0                                                                                                                                                                                                       ['E_48', 'E_50', 'E_53', 'E_54_@_V_161', 'E_54_@_V_183', 'E_55_@_V_89', 'E_55_@_V_108', 'E_55_@_V_167', 'E_56_@_4', 'E_57_@_V_123', 'E_58_@_3', 'E_59_@_3', 'E_77', 'E_79', 'E_91', 'E_97', 'E_201', 'E_204_@_V_10', 'E_222']   \n1                           ['E_9', 'E_27', 'E_50', 'E_51', 'E_53', 'E_54_@_V_198', 'E_55_@_V_62', 'E_55_@_V_166', 'E_55_@_V_167', 'E_56_@_7', 'E_57_@_V_123', 'E_58_@_7', 'E_59_@_2', 'E_91', 'E_115', 'E_129', 'E_130_@_V_138', 'E_131_@_V_10', 'E_132_@_0', 'E_133_@_V_90', 'E_133_@_V_91', 'E_133_@_V_95', 'E_133_@_V_110', 'E_133_@_V_111', 'E_134_@_6', 'E_135_@_V_12', 'E_136_@_0', 'E_148', 'E_162', 'E_189', 'E_204_@_V_10']   \n2  ['E_53', 'E_54_@_V_179', 'E_54_@_V_192', 'E_55_@_V_29', 'E_55_@_V_55', 'E_55_@_V_56', 'E_55_@_V_170', 'E_55_@_V_171', 'E_56_@_5', 'E_57_@_V_123', 'E_58_@_2', 'E_59_@_6', 'E_77', 'E_78', 'E_79', 'E_94', 'E_106', 'E_118', 'E_123', 'E_124', 'E_129', 'E_130_@_V_156', 'E_131_@_V_12', 'E_132_@_4', 'E_133_@_V_54', 'E_133_@_V_85', 'E_134_@_0', 'E_135_@_V_10', 'E_136_@_0', 'E_144', 'E_175', 'E_181', 'E_201', 'E_204_@_V_10']   \n3                                                                                                                                                                                                                       ['E_48', 'E_53', 'E_54_@_V_183', 'E_55_@_V_89', 'E_55_@_V_109', 'E_55_@_V_124', 'E_55_@_V_166', 'E_55_@_V_167', 'E_56_@_7', 'E_57_@_V_123', 'E_58_@_5', 'E_59_@_4', 'E_97', 'E_181', 'E_201', 'E_204_@_V_10']   \n4                                                                                                                                                                                                                      ['E_49', 'E_50', 'E_53', 'E_54_@_V_183', 'E_55_@_V_62', 'E_55_@_V_124', 'E_55_@_V_166', 'E_55_@_V_167', 'E_56_@_5', 'E_57_@_V_123', 'E_58_@_4', 'E_59_@_2', 'E_97', 'E_144', 'E_181', 'E_201', 'E_204_@_V_10']   \n\n  INITIAL_EVIDENCE  \n0             E_91  \n1             E_50  \n2             E_77  \n3             E_53  \n4            E_201  ",
      "text/html": "<div>\n<style scoped>\n    .dataframe tbody tr th:only-of-type {\n        vertical-align: middle;\n    }\n\n    .dataframe tbody tr th {\n        vertical-align: top;\n    }\n\n    .dataframe thead th {\n        text-align: right;\n    }\n</style>\n<table border=\"1\" class=\"dataframe\">\n  <thead>\n    <tr style=\"text-align: right;\">\n      <th></th>\n      <th>AGE</th>\n      <th>DIFFERENTIAL_DIAGNOSIS</th>\n      <th>SEX</th>\n      <th>PATHOLOGY</th>\n      <th>EVIDENCES</th>\n      <th>INITIAL_EVIDENCE</th>\n    </tr>\n  </thead>\n  <tbody>\n    <tr>\n      <th>0</th>\n      <td>18</td>\n      <td>[['Bronchitis', 0.19171203430383882], ['Pneumonia', 0.17579340398940366], ['URTI', 0.1607809719801254], ['Bronchiectasis', 0.12429044460990353], ['Tuberculosis', 0.11367177304035844], ['Influenza', 0.11057936110639896], ['HIV (initial infection)', 0.07333003867293564], ['Chagas', 0.04984197229703562]]</td>\n      <td>M</td>\n      <td>URTI</td>\n      <td>['E_48', 'E_50', 'E_53', 'E_54_@_V_161', 'E_54_@_V_183', 'E_55_@_V_89', 'E_55_@_V_108', 'E_55_@_V_167', 'E_56_@_4', 'E_57_@_V_123', 'E_58_@_3', 'E_59_@_3', 'E_77', 'E_79', 'E_91', 'E_97', 'E_201', 'E_204_@_V_10', 'E_222']</td>\n      <td>E_91</td>\n    </tr>\n    <tr>\n      <th>1</th>\n      <td>21</td>\n      <td>[['HIV (initial infection)', 0.5189500564407601], ['Chagas', 0.3217819010436332], ['Scombroid food poisoning', 0.13496758062695968], ['Sarcoidosis', 0.024300461888647054]]</td>\n      <td>M</td>\n      <td>HIV (initial infection)</td>\n      <td>['E_9', 'E_27', 'E_50', 'E_51', 'E_53', 'E_54_@_V_198', 'E_55_@_V_62', 'E_55_@_V_166', 'E_55_@_V_167', 'E_56_@_7', 'E_57_@_V_123', 'E_58_@_7', 'E_59_@_2', 'E_91', 'E_115', 'E_129', 'E_130_@_V_138', 'E_131_@_V_10', 'E_132_@_0', 'E_133_@_V_90', 'E_133_@_V_91', 'E_133_@_V_95', 'E_133_@_V_110', 'E_133_@_V_111', 'E_134_@_6', 'E_135_@_V_12', 'E_136_@_0', 'E_148', 'E_162', 'E_189', 'E_204_@_V_10']</td>\n      <td>E_50</td>\n    </tr>\n    <tr>\n      <th>2</th>\n      <td>19</td>\n      <td>[['Bronchitis', 0.11278064619119596], ['Pneumonia', 0.10048134562119852], ['Unstable angina', 0.08462979865697953], ['Possible NSTEMI / STEMI', 0.08343170881871906], ['Bronchiectasis', 0.07764173703530038], ['Boerhaave', 0.07708363099826726], ['Spontaneous rib fracture', 0.07682349455456361], ['Pericarditis', 0.07504681799224715], ['URTI', 0.06705952510476514], ['Stable angina', 0.06667817325012103], ['GERD', 0.06455232704351052], ['Scombroid food poisoning', 0.058790058668404095], ['Chagas', 0.02923384001251551], ['Sarcoidosis', 0.016406922262218876], ['Panic attack', 0.009359973789993502]]</td>\n      <td>F</td>\n      <td>Pneumonia</td>\n      <td>['E_53', 'E_54_@_V_179', 'E_54_@_V_192', 'E_55_@_V_29', 'E_55_@_V_55', 'E_55_@_V_56', 'E_55_@_V_170', 'E_55_@_V_171', 'E_56_@_5', 'E_57_@_V_123', 'E_58_@_2', 'E_59_@_6', 'E_77', 'E_78', 'E_79', 'E_94', 'E_106', 'E_118', 'E_123', 'E_124', 'E_129', 'E_130_@_V_156', 'E_131_@_V_12', 'E_132_@_4', 'E_133_@_V_54', 'E_133_@_V_85', 'E_134_@_0', 'E_135_@_V_10', 'E_136_@_0', 'E_144', 'E_175', 'E_181', 'E_201', 'E_204_@_V_10']</td>\n      <td>E_77</td>\n    </tr>\n    <tr>\n      <th>3</th>\n      <td>34</td>\n      <td>[['URTI', 0.23859396799565236], ['Cluster headache', 0.18566159722723558], ['Bronchitis', 0.1773471504190298], ['Chronic rhinosinusitis', 0.14960995823729417], ['Acute rhinosinusitis', 0.10748772366243657], ['Chagas', 0.07064980122917579], ['Anemia', 0.07064980122917579]]</td>\n      <td>F</td>\n      <td>URTI</td>\n      <td>['E_48', 'E_53', 'E_54_@_V_183', 'E_55_@_V_89', 'E_55_@_V_109', 'E_55_@_V_124', 'E_55_@_V_166', 'E_55_@_V_167', 'E_56_@_7', 'E_57_@_V_123', 'E_58_@_5', 'E_59_@_4', 'E_97', 'E_181', 'E_201', 'E_204_@_V_10']</td>\n      <td>E_53</td>\n    </tr>\n    <tr>\n      <th>4</th>\n      <td>36</td>\n      <td>[['URTI', 0.23677812769175735], ['Influenza', 0.1842006792554458], ['Bronchitis', 0.1651209569301098], ['Cluster headache', 0.1430457852409739], ['Chronic rhinosinusitis', 0.139295948156182], ['Chagas', 0.06577925136276556], ['Anemia', 0.06577925136276556]]</td>\n      <td>M</td>\n      <td>URTI</td>\n      <td>['E_49', 'E_50', 'E_53', 'E_54_@_V_183', 'E_55_@_V_62', 'E_55_@_V_124', 'E_55_@_V_166', 'E_55_@_V_167', 'E_56_@_5', 'E_57_@_V_123', 'E_58_@_4', 'E_59_@_2', 'E_97', 'E_144', 'E_181', 'E_201', 'E_204_@_V_10']</td>\n      <td>E_201</td>\n    </tr>\n  </tbody>\n</table>\n</div>"
     },
     "execution_count": 2,
     "metadata": {},
     "output_type": "execute_result"
    }
   ],
   "source": [
    "df.head()"
   ],
   "metadata": {
    "ExecuteTime": {
     "end_time": "2024-04-23T13:52:25.234003Z",
     "start_time": "2024-04-23T13:52:25.225795Z"
    }
   },
   "execution_count": 2
  },
  {
   "cell_type": "code",
   "outputs": [],
   "source": [
    "selected_columns = [\"PATHOLOGY\", \"EVIDENCES\"]\n",
    "new_df = df[selected_columns]\n",
    "\n",
    "# Write the new DataFrame to a new CSV file\n",
    "# new_df.to_csv(\"new.csv\", index=False)"
   ],
   "metadata": {
    "ExecuteTime": {
     "end_time": "2024-04-23T13:52:31.405346Z",
     "start_time": "2024-04-23T13:52:28.271134Z"
    }
   },
   "execution_count": 3
  },
  {
   "cell_type": "code",
   "outputs": [
    {
     "data": {
      "text/plain": "                 PATHOLOGY  \\\n0                     URTI   \n1  HIV (initial infection)   \n2                Pneumonia   \n3                     URTI   \n4                     URTI   \n\n                                                                                                                                                                                                                                                                                                                                                                                                                            EVIDENCES  \n0                                                                                                                                                                                                       ['E_48', 'E_50', 'E_53', 'E_54_@_V_161', 'E_54_@_V_183', 'E_55_@_V_89', 'E_55_@_V_108', 'E_55_@_V_167', 'E_56_@_4', 'E_57_@_V_123', 'E_58_@_3', 'E_59_@_3', 'E_77', 'E_79', 'E_91', 'E_97', 'E_201', 'E_204_@_V_10', 'E_222']  \n1                           ['E_9', 'E_27', 'E_50', 'E_51', 'E_53', 'E_54_@_V_198', 'E_55_@_V_62', 'E_55_@_V_166', 'E_55_@_V_167', 'E_56_@_7', 'E_57_@_V_123', 'E_58_@_7', 'E_59_@_2', 'E_91', 'E_115', 'E_129', 'E_130_@_V_138', 'E_131_@_V_10', 'E_132_@_0', 'E_133_@_V_90', 'E_133_@_V_91', 'E_133_@_V_95', 'E_133_@_V_110', 'E_133_@_V_111', 'E_134_@_6', 'E_135_@_V_12', 'E_136_@_0', 'E_148', 'E_162', 'E_189', 'E_204_@_V_10']  \n2  ['E_53', 'E_54_@_V_179', 'E_54_@_V_192', 'E_55_@_V_29', 'E_55_@_V_55', 'E_55_@_V_56', 'E_55_@_V_170', 'E_55_@_V_171', 'E_56_@_5', 'E_57_@_V_123', 'E_58_@_2', 'E_59_@_6', 'E_77', 'E_78', 'E_79', 'E_94', 'E_106', 'E_118', 'E_123', 'E_124', 'E_129', 'E_130_@_V_156', 'E_131_@_V_12', 'E_132_@_4', 'E_133_@_V_54', 'E_133_@_V_85', 'E_134_@_0', 'E_135_@_V_10', 'E_136_@_0', 'E_144', 'E_175', 'E_181', 'E_201', 'E_204_@_V_10']  \n3                                                                                                                                                                                                                       ['E_48', 'E_53', 'E_54_@_V_183', 'E_55_@_V_89', 'E_55_@_V_109', 'E_55_@_V_124', 'E_55_@_V_166', 'E_55_@_V_167', 'E_56_@_7', 'E_57_@_V_123', 'E_58_@_5', 'E_59_@_4', 'E_97', 'E_181', 'E_201', 'E_204_@_V_10']  \n4                                                                                                                                                                                                                      ['E_49', 'E_50', 'E_53', 'E_54_@_V_183', 'E_55_@_V_62', 'E_55_@_V_124', 'E_55_@_V_166', 'E_55_@_V_167', 'E_56_@_5', 'E_57_@_V_123', 'E_58_@_4', 'E_59_@_2', 'E_97', 'E_144', 'E_181', 'E_201', 'E_204_@_V_10']  ",
      "text/html": "<div>\n<style scoped>\n    .dataframe tbody tr th:only-of-type {\n        vertical-align: middle;\n    }\n\n    .dataframe tbody tr th {\n        vertical-align: top;\n    }\n\n    .dataframe thead th {\n        text-align: right;\n    }\n</style>\n<table border=\"1\" class=\"dataframe\">\n  <thead>\n    <tr style=\"text-align: right;\">\n      <th></th>\n      <th>PATHOLOGY</th>\n      <th>EVIDENCES</th>\n    </tr>\n  </thead>\n  <tbody>\n    <tr>\n      <th>0</th>\n      <td>URTI</td>\n      <td>['E_48', 'E_50', 'E_53', 'E_54_@_V_161', 'E_54_@_V_183', 'E_55_@_V_89', 'E_55_@_V_108', 'E_55_@_V_167', 'E_56_@_4', 'E_57_@_V_123', 'E_58_@_3', 'E_59_@_3', 'E_77', 'E_79', 'E_91', 'E_97', 'E_201', 'E_204_@_V_10', 'E_222']</td>\n    </tr>\n    <tr>\n      <th>1</th>\n      <td>HIV (initial infection)</td>\n      <td>['E_9', 'E_27', 'E_50', 'E_51', 'E_53', 'E_54_@_V_198', 'E_55_@_V_62', 'E_55_@_V_166', 'E_55_@_V_167', 'E_56_@_7', 'E_57_@_V_123', 'E_58_@_7', 'E_59_@_2', 'E_91', 'E_115', 'E_129', 'E_130_@_V_138', 'E_131_@_V_10', 'E_132_@_0', 'E_133_@_V_90', 'E_133_@_V_91', 'E_133_@_V_95', 'E_133_@_V_110', 'E_133_@_V_111', 'E_134_@_6', 'E_135_@_V_12', 'E_136_@_0', 'E_148', 'E_162', 'E_189', 'E_204_@_V_10']</td>\n    </tr>\n    <tr>\n      <th>2</th>\n      <td>Pneumonia</td>\n      <td>['E_53', 'E_54_@_V_179', 'E_54_@_V_192', 'E_55_@_V_29', 'E_55_@_V_55', 'E_55_@_V_56', 'E_55_@_V_170', 'E_55_@_V_171', 'E_56_@_5', 'E_57_@_V_123', 'E_58_@_2', 'E_59_@_6', 'E_77', 'E_78', 'E_79', 'E_94', 'E_106', 'E_118', 'E_123', 'E_124', 'E_129', 'E_130_@_V_156', 'E_131_@_V_12', 'E_132_@_4', 'E_133_@_V_54', 'E_133_@_V_85', 'E_134_@_0', 'E_135_@_V_10', 'E_136_@_0', 'E_144', 'E_175', 'E_181', 'E_201', 'E_204_@_V_10']</td>\n    </tr>\n    <tr>\n      <th>3</th>\n      <td>URTI</td>\n      <td>['E_48', 'E_53', 'E_54_@_V_183', 'E_55_@_V_89', 'E_55_@_V_109', 'E_55_@_V_124', 'E_55_@_V_166', 'E_55_@_V_167', 'E_56_@_7', 'E_57_@_V_123', 'E_58_@_5', 'E_59_@_4', 'E_97', 'E_181', 'E_201', 'E_204_@_V_10']</td>\n    </tr>\n    <tr>\n      <th>4</th>\n      <td>URTI</td>\n      <td>['E_49', 'E_50', 'E_53', 'E_54_@_V_183', 'E_55_@_V_62', 'E_55_@_V_124', 'E_55_@_V_166', 'E_55_@_V_167', 'E_56_@_5', 'E_57_@_V_123', 'E_58_@_4', 'E_59_@_2', 'E_97', 'E_144', 'E_181', 'E_201', 'E_204_@_V_10']</td>\n    </tr>\n  </tbody>\n</table>\n</div>"
     },
     "execution_count": 4,
     "metadata": {},
     "output_type": "execute_result"
    }
   ],
   "source": [
    "new_df.head()"
   ],
   "metadata": {
    "ExecuteTime": {
     "end_time": "2024-04-23T13:52:33.805778Z",
     "start_time": "2024-04-23T13:52:33.801499Z"
    }
   },
   "execution_count": 4
  },
  {
   "cell_type": "code",
   "execution_count": 6,
   "metadata": {
    "ExecuteTime": {
     "end_time": "2024-04-23T13:52:39.618477Z",
     "start_time": "2024-04-23T13:52:39.568728Z"
    }
   },
   "outputs": [],
   "source": [
    "X = new_df.drop(columns=['PATHOLOGY'])\n",
    "y = new_df['PATHOLOGY']\n",
    "\n",
    "# Create train-test split\n",
    "# X_train, X_test, y_train, y_test = train_test_split(X, y, test_size=0.2, random_state=42)\n",
    "\n",
    "# Create a pipeline\n",
    "model = make_pipeline(\n",
    "    TfidfVectorizer(),\n",
    "    LogisticRegression(random_state=42)\n",
    ")\n"
   ]
  },
  {
   "cell_type": "code",
   "execution_count": 7,
   "metadata": {
    "ExecuteTime": {
     "end_time": "2024-04-23T13:54:24.966898Z",
     "start_time": "2024-04-23T13:52:41.213186Z"
    }
   },
   "outputs": [
    {
     "name": "stderr",
     "output_type": "stream",
     "text": [
      "/opt/homebrew/lib/python3.11/site-packages/sklearn/linear_model/_logistic.py:460: ConvergenceWarning: lbfgs failed to converge (status=1):\n",
      "STOP: TOTAL NO. of ITERATIONS REACHED LIMIT.\n",
      "\n",
      "Increase the number of iterations (max_iter) or scale the data as shown in:\n",
      "    https://scikit-learn.org/stable/modules/preprocessing.html\n",
      "Please also refer to the documentation for alternative solver options:\n",
      "    https://scikit-learn.org/stable/modules/linear_model.html#logistic-regression\n",
      "  n_iter_i = _check_optimize_result(\n"
     ]
    },
    {
     "data": {
      "text/plain": "Pipeline(steps=[('tfidfvectorizer', TfidfVectorizer()),\n                ('logisticregression', LogisticRegression())])",
      "text/html": "<style>#sk-container-id-1 {color: black;}#sk-container-id-1 pre{padding: 0;}#sk-container-id-1 div.sk-toggleable {background-color: white;}#sk-container-id-1 label.sk-toggleable__label {cursor: pointer;display: block;width: 100%;margin-bottom: 0;padding: 0.3em;box-sizing: border-box;text-align: center;}#sk-container-id-1 label.sk-toggleable__label-arrow:before {content: \"▸\";float: left;margin-right: 0.25em;color: #696969;}#sk-container-id-1 label.sk-toggleable__label-arrow:hover:before {color: black;}#sk-container-id-1 div.sk-estimator:hover label.sk-toggleable__label-arrow:before {color: black;}#sk-container-id-1 div.sk-toggleable__content {max-height: 0;max-width: 0;overflow: hidden;text-align: left;background-color: #f0f8ff;}#sk-container-id-1 div.sk-toggleable__content pre {margin: 0.2em;color: black;border-radius: 0.25em;background-color: #f0f8ff;}#sk-container-id-1 input.sk-toggleable__control:checked~div.sk-toggleable__content {max-height: 200px;max-width: 100%;overflow: auto;}#sk-container-id-1 input.sk-toggleable__control:checked~label.sk-toggleable__label-arrow:before {content: \"▾\";}#sk-container-id-1 div.sk-estimator input.sk-toggleable__control:checked~label.sk-toggleable__label {background-color: #d4ebff;}#sk-container-id-1 div.sk-label input.sk-toggleable__control:checked~label.sk-toggleable__label {background-color: #d4ebff;}#sk-container-id-1 input.sk-hidden--visually {border: 0;clip: rect(1px 1px 1px 1px);clip: rect(1px, 1px, 1px, 1px);height: 1px;margin: -1px;overflow: hidden;padding: 0;position: absolute;width: 1px;}#sk-container-id-1 div.sk-estimator {font-family: monospace;background-color: #f0f8ff;border: 1px dotted black;border-radius: 0.25em;box-sizing: border-box;margin-bottom: 0.5em;}#sk-container-id-1 div.sk-estimator:hover {background-color: #d4ebff;}#sk-container-id-1 div.sk-parallel-item::after {content: \"\";width: 100%;border-bottom: 1px solid gray;flex-grow: 1;}#sk-container-id-1 div.sk-label:hover label.sk-toggleable__label {background-color: #d4ebff;}#sk-container-id-1 div.sk-serial::before {content: \"\";position: absolute;border-left: 1px solid gray;box-sizing: border-box;top: 0;bottom: 0;left: 50%;z-index: 0;}#sk-container-id-1 div.sk-serial {display: flex;flex-direction: column;align-items: center;background-color: white;padding-right: 0.2em;padding-left: 0.2em;position: relative;}#sk-container-id-1 div.sk-item {position: relative;z-index: 1;}#sk-container-id-1 div.sk-parallel {display: flex;align-items: stretch;justify-content: center;background-color: white;position: relative;}#sk-container-id-1 div.sk-item::before, #sk-container-id-1 div.sk-parallel-item::before {content: \"\";position: absolute;border-left: 1px solid gray;box-sizing: border-box;top: 0;bottom: 0;left: 50%;z-index: -1;}#sk-container-id-1 div.sk-parallel-item {display: flex;flex-direction: column;z-index: 1;position: relative;background-color: white;}#sk-container-id-1 div.sk-parallel-item:first-child::after {align-self: flex-end;width: 50%;}#sk-container-id-1 div.sk-parallel-item:last-child::after {align-self: flex-start;width: 50%;}#sk-container-id-1 div.sk-parallel-item:only-child::after {width: 0;}#sk-container-id-1 div.sk-dashed-wrapped {border: 1px dashed gray;margin: 0 0.4em 0.5em 0.4em;box-sizing: border-box;padding-bottom: 0.4em;background-color: white;}#sk-container-id-1 div.sk-label label {font-family: monospace;font-weight: bold;display: inline-block;line-height: 1.2em;}#sk-container-id-1 div.sk-label-container {text-align: center;}#sk-container-id-1 div.sk-container {/* jupyter's `normalize.less` sets `[hidden] { display: none; }` but bootstrap.min.css set `[hidden] { display: none !important; }` so we also need the `!important` here to be able to override the default hidden behavior on the sphinx rendered scikit-learn.org. See: https://github.com/scikit-learn/scikit-learn/issues/21755 */display: inline-block !important;position: relative;}#sk-container-id-1 div.sk-text-repr-fallback {display: none;}</style><div id=\"sk-container-id-1\" class=\"sk-top-container\"><div class=\"sk-text-repr-fallback\"><pre>Pipeline(steps=[(&#x27;tfidfvectorizer&#x27;, TfidfVectorizer()),\n                (&#x27;logisticregression&#x27;, LogisticRegression())])</pre><b>In a Jupyter environment, please rerun this cell to show the HTML representation or trust the notebook. <br />On GitHub, the HTML representation is unable to render, please try loading this page with nbviewer.org.</b></div><div class=\"sk-container\" hidden><div class=\"sk-item sk-dashed-wrapped\"><div class=\"sk-label-container\"><div class=\"sk-label sk-toggleable\"><input class=\"sk-toggleable__control sk-hidden--visually\" id=\"sk-estimator-id-1\" type=\"checkbox\" ><label for=\"sk-estimator-id-1\" class=\"sk-toggleable__label sk-toggleable__label-arrow\">Pipeline</label><div class=\"sk-toggleable__content\"><pre>Pipeline(steps=[(&#x27;tfidfvectorizer&#x27;, TfidfVectorizer()),\n                (&#x27;logisticregression&#x27;, LogisticRegression())])</pre></div></div></div><div class=\"sk-serial\"><div class=\"sk-item\"><div class=\"sk-estimator sk-toggleable\"><input class=\"sk-toggleable__control sk-hidden--visually\" id=\"sk-estimator-id-2\" type=\"checkbox\" ><label for=\"sk-estimator-id-2\" class=\"sk-toggleable__label sk-toggleable__label-arrow\">TfidfVectorizer</label><div class=\"sk-toggleable__content\"><pre>TfidfVectorizer()</pre></div></div></div><div class=\"sk-item\"><div class=\"sk-estimator sk-toggleable\"><input class=\"sk-toggleable__control sk-hidden--visually\" id=\"sk-estimator-id-3\" type=\"checkbox\" ><label for=\"sk-estimator-id-3\" class=\"sk-toggleable__label sk-toggleable__label-arrow\">LogisticRegression</label><div class=\"sk-toggleable__content\"><pre>LogisticRegression()</pre></div></div></div></div></div></div></div>"
     },
     "execution_count": 7,
     "metadata": {},
     "output_type": "execute_result"
    }
   ],
   "source": [
    "# Train the model\n",
    "model.fit(X['EVIDENCES'], y)\n"
   ]
  },
  {
   "cell_type": "code",
   "execution_count": 8,
   "metadata": {
    "ExecuteTime": {
     "end_time": "2024-04-23T13:56:32.836896Z",
     "start_time": "2024-04-23T13:56:32.262920Z"
    }
   },
   "outputs": [],
   "source": [
    "df_test=pd.read_csv('./datasets/final/release_test_patients.csv')\n",
    "pd.set_option('display.max_colwidth', None)\n",
    "\n",
    "new_df_test = df_test[selected_columns]"
   ]
  },
  {
   "cell_type": "code",
   "execution_count": 9,
   "metadata": {
    "ExecuteTime": {
     "end_time": "2024-04-23T13:56:38.559529Z",
     "start_time": "2024-04-23T13:56:34.962926Z"
    }
   },
   "outputs": [
    {
     "name": "stdout",
     "output_type": "stream",
     "text": [
      "                                          precision    recall  f1-score   support\n",
      "\n",
      "     Acute COPD exacerbation / infection       1.00      1.00      1.00      2153\n",
      "                Acute dystonic reactions       1.00      1.00      1.00      3302\n",
      "                        Acute laryngitis       1.00      1.00      1.00      3217\n",
      "                      Acute otitis media       1.00      1.00      1.00      3516\n",
      "                   Acute pulmonary edema       1.00      1.00      1.00      2598\n",
      "                    Acute rhinosinusitis       0.97      0.77      0.85      1829\n",
      "                      Allergic sinusitis       1.00      1.00      1.00      2411\n",
      "                             Anaphylaxis       1.00      1.00      1.00      3799\n",
      "                                  Anemia       1.00      1.00      1.00      6842\n",
      "                     Atrial fibrillation       1.00      1.00      1.00      2831\n",
      "                               Boerhaave       1.00      1.00      1.00      2083\n",
      "                          Bronchiectasis       1.00      1.00      1.00      2454\n",
      "                           Bronchiolitis       1.00      1.00      1.00        36\n",
      "                              Bronchitis       1.00      1.00      1.00      3594\n",
      "Bronchospasm / acute asthma exacerbation       1.00      1.00      1.00      2222\n",
      "                                  Chagas       1.00      1.00      1.00      1077\n",
      "                  Chronic rhinosinusitis       0.86      0.98      0.92      2747\n",
      "                        Cluster headache       1.00      1.00      1.00      2825\n",
      "                                   Croup       1.00      0.99      1.00       344\n",
      "                                   Ebola       1.00      1.00      1.00       100\n",
      "                            Epiglottitis       1.00      1.00      1.00      2364\n",
      "                                    GERD       1.00      1.00      1.00      3543\n",
      "                 Guillain-Barré syndrome       1.00      1.00      1.00      2601\n",
      "                 HIV (initial infection)       1.00      1.00      1.00      3919\n",
      "                               Influenza       1.00      1.00      1.00      3554\n",
      "                         Inguinal hernia       1.00      1.00      1.00      2751\n",
      "                             Larygospasm       1.00      1.00      1.00       785\n",
      "                         Localized edema       1.00      1.00      1.00      3734\n",
      "                       Myasthenia gravis       1.00      1.00      1.00      2215\n",
      "                             Myocarditis       1.00      1.00      1.00      1478\n",
      "                                    PSVT       1.00      1.00      1.00      2443\n",
      "                     Pancreatic neoplasm       1.00      1.00      1.00      2585\n",
      "                            Panic attack       1.00      1.00      1.00      3387\n",
      "                            Pericarditis       1.00      1.00      1.00      3095\n",
      "                               Pneumonia       1.00      1.00      1.00      3542\n",
      "                 Possible NSTEMI / STEMI       1.00      1.00      1.00      2911\n",
      "                      Pulmonary embolism       1.00      1.00      1.00      3679\n",
      "                      Pulmonary neoplasm       1.00      1.00      1.00      1918\n",
      "                                     SLE       1.00      1.00      1.00      1564\n",
      "                             Sarcoidosis       1.00      1.00      1.00      2902\n",
      "                Scombroid food poisoning       1.00      1.00      1.00      2486\n",
      "                Spontaneous pneumothorax       1.00      1.00      1.00      1343\n",
      "                Spontaneous rib fracture       1.00      1.00      1.00       778\n",
      "                           Stable angina       0.98      1.00      0.99      2386\n",
      "                            Tuberculosis       1.00      1.00      1.00      2080\n",
      "                                    URTI       1.00      1.00      1.00      8743\n",
      "                         Unstable angina       1.00      0.98      0.99      2880\n",
      "                       Viral pharyngitis       1.00      1.00      1.00      8334\n",
      "                          Whooping cough       1.00      1.00      1.00       549\n",
      "\n",
      "                                accuracy                           1.00    134529\n",
      "                               macro avg       1.00      0.99      0.99    134529\n",
      "                            weighted avg       1.00      1.00      1.00    134529\n"
     ]
    }
   ],
   "source": [
    "y_pred = model.predict(new_df_test['EVIDENCES'])\n",
    "\n",
    "# Print classification report\n",
    "print(classification_report(new_df_test['PATHOLOGY'], y_pred))"
   ]
  }
 ],
 "metadata": {
  "kernelspec": {
   "display_name": "Python 3",
   "language": "python",
   "name": "python3"
  },
  "language_info": {
   "codemirror_mode": {
    "name": "ipython",
    "version": 3
   },
   "file_extension": ".py",
   "mimetype": "text/x-python",
   "name": "python",
   "nbconvert_exporter": "python",
   "pygments_lexer": "ipython3",
   "version": "3.12.2"
  }
 },
 "nbformat": 4,
 "nbformat_minor": 2
}
