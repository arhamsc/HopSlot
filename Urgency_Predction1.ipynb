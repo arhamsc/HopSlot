{
  "nbformat": 4,
  "nbformat_minor": 0,
  "metadata": {
    "colab": {
      "provenance": [],
      "include_colab_link": true
    },
    "kernelspec": {
      "name": "python3",
      "display_name": "Python 3"
    },
    "language_info": {
      "name": "python"
    }
  },
  "cells": [
    {
      "cell_type": "markdown",
      "metadata": {
        "id": "view-in-github",
        "colab_type": "text"
      },
      "source": [
        "<a href=\"https://colab.research.google.com/github/arhamsc/HopSlot/blob/main/Urgency_Predction1.ipynb\" target=\"_parent\"><img src=\"https://colab.research.google.com/assets/colab-badge.svg\" alt=\"Open In Colab\"/></a>"
      ]
    },
    {
      "cell_type": "markdown",
      "source": [
        "**Final**\n"
      ],
      "metadata": {
        "id": "suk_6_2IfzGj"
      }
    },
    {
      "cell_type": "code",
      "execution_count": 2,
      "metadata": {
        "colab": {
          "base_uri": "https://localhost:8080/"
        },
        "outputId": "f3c8ea75-19d4-4307-a510-12705d2c338b",
        "id": "8j0YTea2fKYM"
      },
      "outputs": [
        {
          "output_type": "stream",
          "name": "stdout",
          "text": [
            "The most likely disease is: pneumonia\n",
            "Severity: moderate\n"
          ]
        }
      ],
      "source": [
        "import csv\n",
        "\n",
        "def load_dataset(file_path):\n",
        "    dataset = {}\n",
        "    with open(file_path, 'r') as file:\n",
        "        reader = csv.reader(file)\n",
        "        for row in reader:\n",
        "            disease = row[0]\n",
        "            symptoms = row[1].split(',')\n",
        "            severity = row[4].split()[0].lower() if row[4] and \"varies\" not in row[2].lower() else \"moderate\"\n",
        "            dataset[disease] = {'symptoms': symptoms, 'severity': severity}\n",
        "    return dataset\n",
        "\n",
        "def match_symptoms(input_symptoms, dataset):\n",
        "    max_matched = 0\n",
        "    matched_disease = None\n",
        "    severity = None\n",
        "\n",
        "    for disease, data in dataset.items():\n",
        "        symptoms = data['symptoms']\n",
        "        matched_count = sum(1 for symptom in input_symptoms if symptom.strip() in symptoms)\n",
        "        if matched_count > max_matched:\n",
        "            max_matched = matched_count\n",
        "            matched_disease = disease\n",
        "            severity = data['severity']\n",
        "\n",
        "    return matched_disease, severity if matched_disease else None\n",
        "\n",
        "def main():\n",
        "    dataset_file = \"/content/dataset_final_dis_pred.csv\"\n",
        "    dataset = load_dataset(dataset_file)\n",
        "\n",
        "    input_symptoms = [\"fever\",\"cough\",\"chest pain\"]\n",
        "    matched_disease, severity = match_symptoms(input_symptoms, dataset)\n",
        "    if severity==\"varies\":\n",
        "      severity=\"moderate\"\n",
        "\n",
        "    if matched_disease:\n",
        "        print(\"The most likely disease is:\", matched_disease)\n",
        "        print(\"Urgency:\", severity)\n",
        "    else:\n",
        "        print(\"Unknown disease\")\n",
        "        print(\"Urgency:Moderate\")\n",
        "\n",
        "if __name__ == \"__main__\":\n",
        "    main()\n"
      ]
    }
  ]
}